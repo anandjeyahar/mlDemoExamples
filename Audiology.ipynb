{
 "cells": [
  {
   "cell_type": "code",
   "execution_count": 6,
   "metadata": {
    "ExecuteTime": {
     "end_time": "2017-06-29T19:43:15.072610+05:30",
     "start_time": "2017-06-29T19:43:15.018412Z"
    }
   },
   "outputs": [
    {
     "ename": "ModuleNotFoundError",
     "evalue": "No module named 'datascienceutils'",
     "output_type": "error",
     "traceback": [
      "\u001b[0;31m---------------------------------------------------------------------------\u001b[0m",
      "\u001b[0;31mModuleNotFoundError\u001b[0m                       Traceback (most recent call last)",
      "\u001b[0;32m<ipython-input-6-a5b05c00a9c9>\u001b[0m in \u001b[0;36m<module>\u001b[0;34m()\u001b[0m\n\u001b[1;32m      1\u001b[0m \u001b[0;31m# Custom libraries\u001b[0m\u001b[0;34m\u001b[0m\u001b[0;34m\u001b[0m\u001b[0m\n\u001b[0;32m----> 2\u001b[0;31m \u001b[0;32mfrom\u001b[0m \u001b[0mdatascienceutils\u001b[0m \u001b[0;32mimport\u001b[0m \u001b[0mplotter\u001b[0m\u001b[0;34m\u001b[0m\u001b[0m\n\u001b[0m\u001b[1;32m      3\u001b[0m \u001b[0;32mfrom\u001b[0m \u001b[0mdatascienceutils\u001b[0m \u001b[0;32mimport\u001b[0m \u001b[0manalyze\u001b[0m\u001b[0;34m\u001b[0m\u001b[0m\n\u001b[1;32m      4\u001b[0m \u001b[0;32mfrom\u001b[0m \u001b[0mdatascienceutils\u001b[0m \u001b[0;32mimport\u001b[0m \u001b[0mpredictiveModels\u001b[0m \u001b[0;32mas\u001b[0m \u001b[0mpm\u001b[0m\u001b[0;34m\u001b[0m\u001b[0m\n\u001b[1;32m      5\u001b[0m \u001b[0;32mfrom\u001b[0m \u001b[0mdatascienceutils\u001b[0m \u001b[0;32mimport\u001b[0m \u001b[0msklearnUtils\u001b[0m \u001b[0;32mas\u001b[0m \u001b[0msku\u001b[0m\u001b[0;34m\u001b[0m\u001b[0m\n",
      "\u001b[0;31mModuleNotFoundError\u001b[0m: No module named 'datascienceutils'"
     ]
    }
   ],
   "source": [
    "# Custom libraries\n",
    "from datascienceutils import plotter\n",
    "from datascienceutils import analyze\n",
    "from datascienceutils import predictiveModels as pm\n",
    "from datascienceutils import sklearnUtils as sku\n",
    "\n",
    "from IPython.display import Image\n",
    "# Standard libraries\n",
    "import json\n",
    "%matplotlib inline\n",
    "import datetime\n",
    "import numpy as np\n",
    "import pandas as pd\n",
    "import random\n",
    "\n",
    "from sklearn import cross_validation\n",
    "from sklearn import metrics\n",
    "\n",
    "from bokeh.plotting import figure, show, output_file, output_notebook, ColumnDataSource\n",
    "from bokeh.charts import Histogram\n",
    "import bokeh\n",
    "output_notebook(bokeh.resources.INLINE)\n",
    "\n",
    "# Set pandas display options\n",
    "pd.set_option('display.width', pd.util.terminal.get_terminal_size()[0])\n",
    "pd.set_option('display.expand_frame_repr', False)\n",
    "pd.set_option('max_colwidth', 800)"
   ]
  },
  {
   "cell_type": "code",
   "execution_count": 2,
   "metadata": {
    "ExecuteTime": {
     "end_time": "2017-06-29T19:42:54.221484+05:30",
     "start_time": "2017-06-29T19:42:54.204805Z"
    }
   },
   "outputs": [],
   "source": [
    "# Data set from https://archive.ics.uci.edu/ml/machine-learning-databases/audiology/ i.e: famous uci ml data set repository\n",
    "\n",
    "with open('./data/audiology.data', 'r') as fd:\n",
    "    data = fd.readlines()"
   ]
  },
  {
   "cell_type": "code",
   "execution_count": 3,
   "metadata": {
    "ExecuteTime": {
     "end_time": "2017-06-29T19:42:58.374968+05:30",
     "start_time": "2017-06-29T19:42:58.348137Z"
    }
   },
   "outputs": [
    {
     "name": "stdout",
     "output_type": "stream",
     "text": [
      "['WARNING: This database should be credited to the original owner whenever\\n',\n",
      " '         used for any publication whatsoever.\\n',\n",
      " '\\n',\n",
      " '1. Title: Audiology Database\\n',\n",
      " '\\n',\n",
      " '2. Sources:\\n',\n",
      " '    (a) Original Owner: Professor Jergen at Baylor College of Medicine\\n',\n",
      " '    (b) Donor: Bruce Porter (porter@fall.cs.utexas.EDU)\\n',\n",
      " '    (c) Date Received: 12/3/1987\\n',\n",
      " '\\n',\n",
      " '3. Past Usage: \\n',\n",
      " '   -- See: Bareiss, E. Ray, & Porter, Bruce (1987).  Protos: An '\n",
      " 'Exemplar-Based\\n',\n",
      " '      Learning Apprentice.  In the Proceedings of the 4th International\\n',\n",
      " '      Workshop on Machine Learning, 12-23, Irvine, CA: Morgan Kaufmann.\\n',\n",
      " '\\n',\n",
      " '4. Relevant Information:\\n',\n",
      " '   -- Contact Ray Bareiss (rbareiss@uunet.uucp ??), now at Vanderbilt \\n',\n",
      " '      University, for more information.\\n',\n",
      " '   -- Domain expert: Professor Craig Wier of the University of Texas, '\n",
      " 'Austin.\\n',\n",
      " '\\n',\n",
      " '5. Number of instances: 200 training cases, 26 test cases\\n',\n",
      " '\\n',\n",
      " '6. Number of attributes: ???\\n',\n",
      " '\\n',\n",
      " '7. Attribute information: (all attributes are nominally valued)\\n',\n",
      " '   1. case identifier.\\n',\n",
      " '   2. classification (24 classes)\\n',\n",
      " '   3. List of case features\\n',\n",
      " '      -- format: form f(v) should be read as \"feature f has value v\"\\n',\n",
      " '\\n',\n",
      " '8. Missing attribute values:\\n',\n",
      " '   -- This database does NOT use a standard set of attributes per '\n",
      " 'instance.\\n',\n",
      " '\\n',\n",
      " '9. Class Distribution: (in the training set)\\n',\n",
      " '    1. acoustic_neuroma: 1\\n',\n",
      " '    2. bells_palsy: 1\\n',\n",
      " '    3. cochlear_age: 46\\n',\n",
      " '    4. cochlear_age_and_noise: 18\\n',\n",
      " '    5. cochlear_age_plus_poss_menieres: 1\\n',\n",
      " '    6. cochlear_noise_and_heredity: 2\\n',\n",
      " '    7. cochlear_poss_noise: 16\\n',\n",
      " '    8. cochlear_unknown: 48\\n',\n",
      " '    9. conductive_discontinuity: 2\\n',\n",
      " '   10. conductive_fixation: 6\\n',\n",
      " '   11. mixed_cochlear_age_fixation: 1\\n',\n",
      " '   12. mixed_cochlear_age_otitis_media: 4\\n',\n",
      " '   13. mixed_cochlear_age_s_om: 2\\n',\n",
      " '   14. mixed_cochlear_unk_discontinuity: 2\\n',\n",
      " '   15. mixed_cochlear_unk_fixation: 5\\n',\n",
      " '   16. mixed_cochlear_unk_ser_om: 3\\n',\n",
      " '   17. mixed_poss_central_om: 1\\n',\n",
      " '   18. mixed_poss_noise_om: 2\\n',\n",
      " '   19. normal_ear: 20\\n',\n",
      " '   20. otitis_media: 4\\n',\n",
      " '   21. poss_central: 1\\n',\n",
      " '   22. possible_brainstem_disorder: 4\\n',\n",
      " '   23. possible_menieres: 8\\n',\n",
      " '   24. retrocochlear_unknown: 2\\n',\n",
      " '   --------------------Total: 200\\n']\n"
     ]
    }
   ],
   "source": [
    "from pprint import pprint\n",
    "with open('./data/audiology.names', 'r') as fd:\n",
    "    pprint(fd.readlines())"
   ]
  },
  {
   "cell_type": "code",
   "execution_count": 4,
   "metadata": {
    "ExecuteTime": {
     "end_time": "2017-06-29T19:43:02.722794+05:30",
     "start_time": "2017-06-29T19:43:02.685431Z"
    }
   },
   "outputs": [],
   "source": [
    "\n",
    "all_obs = set()\n",
    "\n",
    "def parse_line(line):\n",
    "    global all_obs\n",
    "    line = line.strip('\\n')\n",
    "    line = line.strip(']')\n",
    "    line = line.strip('[')\n",
    "    all_f = line.split(',')\n",
    "    caseid = all_f[0]\n",
    "    classif = all_f[1]\n",
    "    descs = all_f[2:]\n",
    "    descs[0] = descs[0].strip('[')\n",
    "    features = list()\n",
    "    for ea in descs:\n",
    "        all_obs.add(ea)\n",
    "    descs = ','.join(descs)\n",
    "    return [caseid, classif, descs]"
   ]
  },
  {
   "cell_type": "code",
   "execution_count": 5,
   "metadata": {
    "ExecuteTime": {
     "end_time": "2017-06-29T19:43:06.365875+05:30",
     "start_time": "2017-06-29T19:43:06.323957Z"
    }
   },
   "outputs": [
    {
     "ename": "NameError",
     "evalue": "name 'pd' is not defined",
     "output_type": "error",
     "traceback": [
      "\u001b[0;31m---------------------------------------------------------------------------\u001b[0m",
      "\u001b[0;31mNameError\u001b[0m                                 Traceback (most recent call last)",
      "\u001b[0;32m<ipython-input-5-02f2ac3fcc99>\u001b[0m in \u001b[0;36m<module>\u001b[0;34m()\u001b[0m\n\u001b[0;32m----> 1\u001b[0;31m \u001b[0maudiology_df\u001b[0m \u001b[0;34m=\u001b[0m \u001b[0mpd\u001b[0m\u001b[0;34m.\u001b[0m\u001b[0mDataFrame\u001b[0m\u001b[0;34m(\u001b[0m\u001b[0mcolumns\u001b[0m\u001b[0;34m=\u001b[0m\u001b[0;34m[\u001b[0m\u001b[0;34m'case_id'\u001b[0m\u001b[0;34m,\u001b[0m \u001b[0;34m'classification'\u001b[0m\u001b[0;34m,\u001b[0m \u001b[0;34m'case_features'\u001b[0m\u001b[0;34m]\u001b[0m\u001b[0;34m)\u001b[0m \u001b[0;31m#'age_gt_60', 'boneAbnormal','airBoneGap', 'ar_c(normal)'])\u001b[0m\u001b[0;34m\u001b[0m\u001b[0m\n\u001b[0m\u001b[1;32m      2\u001b[0m \u001b[0;32mfor\u001b[0m \u001b[0midx\u001b[0m\u001b[0;34m,\u001b[0m \u001b[0meach\u001b[0m \u001b[0;32min\u001b[0m \u001b[0menumerate\u001b[0m\u001b[0;34m(\u001b[0m\u001b[0mdata\u001b[0m\u001b[0;34m)\u001b[0m\u001b[0;34m:\u001b[0m\u001b[0;34m\u001b[0m\u001b[0m\n\u001b[1;32m      3\u001b[0m     \u001b[0;32mif\u001b[0m \u001b[0mbool\u001b[0m\u001b[0;34m(\u001b[0m\u001b[0meach\u001b[0m\u001b[0;34m)\u001b[0m\u001b[0;34m:\u001b[0m\u001b[0;34m\u001b[0m\u001b[0m\n\u001b[1;32m      4\u001b[0m         \u001b[0mline\u001b[0m \u001b[0;34m=\u001b[0m \u001b[0mparse_line\u001b[0m\u001b[0;34m(\u001b[0m\u001b[0meach\u001b[0m\u001b[0;34m)\u001b[0m\u001b[0;34m\u001b[0m\u001b[0m\n\u001b[1;32m      5\u001b[0m         \u001b[0maudiology_df\u001b[0m\u001b[0;34m.\u001b[0m\u001b[0mloc\u001b[0m\u001b[0;34m[\u001b[0m\u001b[0midx\u001b[0m\u001b[0;34m]\u001b[0m \u001b[0;34m=\u001b[0m \u001b[0mline\u001b[0m\u001b[0;34m\u001b[0m\u001b[0m\n",
      "\u001b[0;31mNameError\u001b[0m: name 'pd' is not defined"
     ]
    }
   ],
   "source": [
    "audiology_df = pd.DataFrame(columns=['case_id', 'classification', 'case_features']) #'age_gt_60', 'boneAbnormal','airBoneGap', 'ar_c(normal)'])\n",
    "for idx, each in enumerate(data):\n",
    "    if bool(each):\n",
    "        line = parse_line(each)\n",
    "        audiology_df.loc[idx] = line\n",
    "    "
   ]
  },
  {
   "cell_type": "code",
   "execution_count": null,
   "metadata": {
    "ExecuteTime": {
     "end_time": "2017-06-29T19:42:23.347882+05:30",
     "start_time": "2017-06-29T14:12:23.276Z"
    }
   },
   "outputs": [],
   "source": [
    "audiology_df.head()"
   ]
  },
  {
   "cell_type": "markdown",
   "metadata": {},
   "source": [
    "## Looks like the case_features are all text labels/observations by doctors. Let's split them into features and make them boolean."
   ]
  },
  {
   "cell_type": "code",
   "execution_count": null,
   "metadata": {
    "ExecuteTime": {
     "end_time": "2017-06-29T19:42:23.348610+05:30",
     "start_time": "2017-06-29T14:12:23.279Z"
    }
   },
   "outputs": [],
   "source": [
    "print(audiology_df.groupby('classification').count())"
   ]
  },
  {
   "cell_type": "code",
   "execution_count": null,
   "metadata": {
    "ExecuteTime": {
     "end_time": "2017-06-29T19:42:23.349077+05:30",
     "start_time": "2017-06-29T14:12:23.280Z"
    }
   },
   "outputs": [],
   "source": [
    "#def check_defect_presence():\n",
    "#    if ea in all_obs:\n",
    "#       pass\n",
    "for ea in all_obs:\n",
    "    audiology_df[ea] = audiology_df['case_features'].apply( lambda x: True if ea in x else False)\n",
    "audiology_df.drop('case_features', 1, inplace=True)"
   ]
  },
  {
   "cell_type": "code",
   "execution_count": null,
   "metadata": {
    "ExecuteTime": {
     "end_time": "2017-06-29T19:42:23.349608+05:30",
     "start_time": "2017-06-29T14:12:23.281Z"
    }
   },
   "outputs": [],
   "source": [
    "audiology_df.head()"
   ]
  },
  {
   "cell_type": "markdown",
   "metadata": {},
   "source": [
    "## OKay, based on the above data set sample, the only meaningful thing we can try is to see if we can predict the case classification based on any of the observed features.\n",
    "\n",
    "## We have 87 features,(I'm assuming these are labels that came out of human judgment) and most of it is false.. aka this is a sparsely populated dataset in these dimensions, and most likely the dimensions are not orthogonal(aka independent) to(of) each other. \n",
    "\n",
    "## Due to these reasons, \n",
    "    * a tree based prediction is best(since it is all boolean features)\n",
    "    * Xgboost since it is mostly False/empty features.(aka sparse features)\n"
   ]
  },
  {
   "cell_type": "code",
   "execution_count": 1,
   "metadata": {
    "ExecuteTime": {
     "end_time": "2017-06-29T19:42:43.942301+05:30",
     "start_time": "2017-06-29T19:42:43.932850Z"
    }
   },
   "outputs": [
    {
     "ename": "NameError",
     "evalue": "name 'audiology_df' is not defined",
     "output_type": "error",
     "traceback": [
      "\u001b[0;31m---------------------------------------------------------------------------\u001b[0m",
      "\u001b[0;31mNameError\u001b[0m                                 Traceback (most recent call last)",
      "\u001b[0;32m<ipython-input-1-024dc29e4850>\u001b[0m in \u001b[0;36m<module>\u001b[0;34m()\u001b[0m\n\u001b[0;32m----> 1\u001b[0;31m \u001b[0maudiology_df\u001b[0m\u001b[0;34m.\u001b[0m\u001b[0mhead\u001b[0m\u001b[0;34m(\u001b[0m\u001b[0;34m)\u001b[0m\u001b[0;34m\u001b[0m\u001b[0m\n\u001b[0m",
      "\u001b[0;31mNameError\u001b[0m: name 'audiology_df' is not defined"
     ]
    }
   ],
   "source": [
    "audiology_df.head()"
   ]
  },
  {
   "cell_type": "code",
   "execution_count": null,
   "metadata": {
    "ExecuteTime": {
     "end_time": "2017-06-29T19:42:23.352199+05:30",
     "start_time": "2017-06-29T14:12:23.290Z"
    }
   },
   "outputs": [],
   "source": [
    "from sklearn.model_selection import train_test_split\n",
    "from sklearn.preprocessing import LabelEncoder\n",
    "\n",
    "le = LabelEncoder()\n",
    "le.fit(audiology_df['classification'].unique())\n",
    "audiology_df['classification'] = le.transform(audiology_df['classification'])\n",
    "target = audiology_df.classification\n",
    "\n",
    "audiology_df.drop(['case_id', 'classification'], 1, inplace=True)\n"
   ]
  },
  {
   "cell_type": "code",
   "execution_count": null,
   "metadata": {
    "ExecuteTime": {
     "end_time": "2017-06-29T19:42:23.352642+05:30",
     "start_time": "2017-06-29T14:12:23.291Z"
    }
   },
   "outputs": [],
   "source": [
    "audiology_df.head()"
   ]
  },
  {
   "cell_type": "code",
   "execution_count": null,
   "metadata": {
    "ExecuteTime": {
     "end_time": "2017-06-29T19:42:23.353064+05:30",
     "start_time": "2017-06-29T14:12:23.294Z"
    }
   },
   "outputs": [],
   "source": [
    "X_train, X_test, y_train, y_test = train_test_split(audiology_df, target, test_size=0.3)\n",
    "tree_model = pm.train(X_train, y_train, 'tree')\n",
    "tree_model.fit(X_train, y_train)\n",
    "# The mean squared error\n",
    "print(\"Mean squared error: %.2f\"\n",
    "      % np.mean((tree_model.predict(X_test) - y_test) ** 2))\n",
    "# Explained variance score: 1 is perfect prediction\n",
    "print('Variance score: %.2f' % tree_model.score(X_test, y_test))"
   ]
  },
  {
   "cell_type": "code",
   "execution_count": null,
   "metadata": {
    "ExecuteTime": {
     "end_time": "2017-06-29T19:42:23.353420+05:30",
     "start_time": "2017-06-29T14:12:23.295Z"
    }
   },
   "outputs": [],
   "source": [
    "plotter.show_tree_model(tree_model, model_type='tree')"
   ]
  },
  {
   "cell_type": "code",
   "execution_count": null,
   "metadata": {
    "ExecuteTime": {
     "end_time": "2017-06-29T19:42:23.353763+05:30",
     "start_time": "2017-06-29T14:12:23.297Z"
    },
    "collapsed": true
   },
   "outputs": [],
   "source": [
    "# Train the model using the training sets\n",
    "xgb_model = pm.train(X_train, y_train, 'xgboost')\n",
    "xgb_model.fit(X_train, y_train)\n",
    "# The mean squared error\n",
    "print(\"Mean squared error: %.2f\"\n",
    "      % np.mean((xgb_model.predict(X_test) - y_test) ** 2))\n",
    "# Explained variance score: 1 is perfect prediction"
   ]
  },
  {
   "cell_type": "code",
   "execution_count": null,
   "metadata": {
    "ExecuteTime": {
     "end_time": "2017-06-29T19:42:23.354223+05:30",
     "start_time": "2017-06-29T14:12:23.298Z"
    }
   },
   "outputs": [],
   "source": [
    "plotter.show_tree_model(xgb_model, model_type='xgboost')"
   ]
  }
 ],
 "metadata": {
  "kernelspec": {
   "display_name": "Python 3",
   "language": "python",
   "name": "python3"
  },
  "language_info": {
   "codemirror_mode": {
    "name": "ipython",
    "version": 3
   },
   "file_extension": ".py",
   "mimetype": "text/x-python",
   "name": "python",
   "nbconvert_exporter": "python",
   "pygments_lexer": "ipython3",
   "version": "3.6.0"
  }
 },
 "nbformat": 4,
 "nbformat_minor": 1
}
