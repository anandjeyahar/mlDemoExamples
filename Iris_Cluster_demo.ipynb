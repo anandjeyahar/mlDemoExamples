{
 "cells": [
  {
   "cell_type": "code",
   "execution_count": 1,
   "metadata": {
    "ExecuteTime": {
     "end_time": "2017-08-10T17:56:33.113761Z",
     "start_time": "2017-08-10T17:56:26.114889Z"
    }
   },
   "outputs": [
    {
     "name": "stderr",
     "output_type": "stream",
     "text": [
      "/home/anand/playspace/data-science-utils/.eggs/statsmodels-0.8.0-py3.6-linux-x86_64.egg/statsmodels/compat/pandas.py:56: FutureWarning: The pandas.core.datetools module is deprecated and will be removed in a future version. Please use the pandas.tseries module instead.\n",
      "  from pandas.core import datetools\n",
      "/home/anand/anaconda3/envs/analytics/lib/python3.6/site-packages/sklearn/cross_validation.py:41: DeprecationWarning: This module was deprecated in version 0.18 in favor of the model_selection module into which all the refactored classes and functions are moved. Also note that the interface of the new CV iterators are different from that of this module. This module will be removed in 0.20.\n",
      "  \"This module will be removed in 0.20.\", DeprecationWarning)\n"
     ]
    },
    {
     "ename": "SyntaxError",
     "evalue": "import * only allowed at module level (plotter.py, line 46)",
     "output_type": "error",
     "traceback": [
      "Traceback \u001b[0;36m(most recent call last)\u001b[0m:\n",
      "  File \u001b[1;32m\"/home/anand/anaconda3/envs/analytics/lib/python3.6/site-packages/IPython/core/interactiveshell.py\"\u001b[0m, line \u001b[1;32m2910\u001b[0m, in \u001b[1;35mrun_code\u001b[0m\n    exec(code_obj, self.user_global_ns, self.user_ns)\n",
      "  File \u001b[1;32m\"<ipython-input-1-38c0d83e8e54>\"\u001b[0m, line \u001b[1;32m2\u001b[0m, in \u001b[1;35m<module>\u001b[0m\n    from datascienceutils import clusteringModels as cm\n",
      "  File \u001b[1;32m\"/home/anand/playspace/data-science-utils/datascienceutils/__init__.py\"\u001b[0m, line \u001b[1;32m2\u001b[0m, in \u001b[1;35m<module>\u001b[0m\n    from . import analyze\n",
      "\u001b[0;36m  File \u001b[0;32m\"/home/anand/playspace/data-science-utils/datascienceutils/analyze.py\"\u001b[0;36m, line \u001b[0;32m16\u001b[0;36m, in \u001b[0;35m<module>\u001b[0;36m\u001b[0m\n\u001b[0;31m    from . import plotter\u001b[0m\n",
      "\u001b[0;36m  File \u001b[0;32m\"/home/anand/playspace/data-science-utils/datascienceutils/plotter.py\"\u001b[0;36m, line \u001b[0;32m46\u001b[0m\n\u001b[0;31m    def genColors(n, ptype=None):\u001b[0m\n\u001b[0m                                 ^\u001b[0m\n\u001b[0;31mSyntaxError\u001b[0m\u001b[0;31m:\u001b[0m import * only allowed at module level\n"
     ]
    }
   ],
   "source": [
    "# Custom libraries\n",
    "from datascienceutils import clusteringModels as cm\n",
    "from datascienceutils import analyze\n",
    "\n",
    "# Standard libraries\n",
    "import json\n",
    "%matplotlib inline\n",
    "import datetime\n",
    "import numpy as np\n",
    "import pandas as pd\n",
    "\n",
    "from bokeh.plotting import figure, show, output_file, output_notebook, ColumnDataSource\n",
    "from bokeh.charts import Histogram\n",
    "import bokeh\n",
    "output_notebook()\n"
   ]
  },
  {
   "cell_type": "code",
   "execution_count": null,
   "metadata": {
    "ExecuteTime": {
     "end_time": "2017-08-10T17:56:33.114378Z",
     "start_time": "2017-08-10T12:26:26.114Z"
    }
   },
   "outputs": [],
   "source": [
    "irisDf = pd.read_csv('~/DataScientist/data/Iris.csv')"
   ]
  },
  {
   "cell_type": "code",
   "execution_count": null,
   "metadata": {
    "ExecuteTime": {
     "end_time": "2017-08-10T17:56:33.114636Z",
     "start_time": "2017-08-10T12:26:26.116Z"
    }
   },
   "outputs": [],
   "source": [
    "analyze.dimension_analyze(irisDf, cluster=True, n_clusters=3)"
   ]
  },
  {
   "cell_type": "code",
   "execution_count": null,
   "metadata": {},
   "outputs": [],
   "source": [
    "analyze.dimension_analyze(irisDf, pca_plot=True)"
   ]
  },
  {
   "cell_type": "code",
   "execution_count": null,
   "metadata": {},
   "outputs": [],
   "source": [
    "irisDf.head()"
   ]
  },
  {
   "cell_type": "code",
   "execution_count": null,
   "metadata": {
    "ExecuteTime": {
     "end_time": "2017-08-10T17:56:33.114886Z",
     "start_time": "2017-08-10T12:26:26.119Z"
    }
   },
   "outputs": [],
   "source": [
    "target = irisDf.Class\n",
    "irisDf.drop('Class', 1, inplace=True)\n",
    "cm.cluster_analyze(irisDf)"
   ]
  },
  {
   "cell_type": "code",
   "execution_count": null,
   "metadata": {
    "ExecuteTime": {
     "end_time": "2017-08-10T17:56:33.115124Z",
     "start_time": "2017-08-10T12:26:26.121Z"
    }
   },
   "outputs": [],
   "source": [
    "cm.silhouette_analyze(irisDf, cluster_type='KMeans')"
   ]
  },
  {
   "cell_type": "code",
   "execution_count": null,
   "metadata": {
    "ExecuteTime": {
     "end_time": "2017-08-10T17:56:33.115358Z",
     "start_time": "2017-08-10T12:26:26.123Z"
    }
   },
   "outputs": [],
   "source": [
    "cm.silhouette_analyze(irisDf, cluster_type='dbscan')"
   ]
  },
  {
   "cell_type": "code",
   "execution_count": null,
   "metadata": {
    "ExecuteTime": {
     "end_time": "2017-08-10T17:56:33.115596Z",
     "start_time": "2017-08-10T12:26:26.125Z"
    }
   },
   "outputs": [],
   "source": [
    "cm.silhouette_analyze(irisDf, cluster_type='spectral')"
   ]
  },
  {
   "cell_type": "code",
   "execution_count": null,
   "metadata": {
    "ExecuteTime": {
     "end_time": "2017-08-10T17:56:33.115828Z",
     "start_time": "2017-08-10T12:26:26.127Z"
    }
   },
   "outputs": [],
   "source": [
    "cm.silhouette_analyze(irisDf, cluster_type='birch')"
   ]
  },
  {
   "cell_type": "code",
   "execution_count": null,
   "metadata": {
    "ExecuteTime": {
     "end_time": "2017-08-10T17:56:33.116062Z",
     "start_time": "2017-08-10T12:26:26.129Z"
    }
   },
   "outputs": [],
   "source": [
    "cm.som_analyze(irisDf, (10,10), algo_type='som')"
   ]
  }
 ],
 "metadata": {
  "kernelspec": {
   "display_name": "Python 3",
   "language": "python",
   "name": "python3"
  },
  "language_info": {
   "codemirror_mode": {
    "name": "ipython",
    "version": 3
   },
   "file_extension": ".py",
   "mimetype": "text/x-python",
   "name": "python",
   "nbconvert_exporter": "python",
   "pygments_lexer": "ipython3",
   "version": "3.6.3"
  }
 },
 "nbformat": 4,
 "nbformat_minor": 1
}
