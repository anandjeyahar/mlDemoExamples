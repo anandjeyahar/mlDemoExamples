{
 "cells": [
  {
   "cell_type": "code",
   "execution_count": 1,
   "metadata": {
    "ExecuteTime": {
     "end_time": "2017-06-29T12:40:03.653736+05:30",
     "start_time": "2017-06-29T12:40:03.490593Z"
    },
    "scrolled": false
   },
   "outputs": [
    {
     "name": "stderr",
     "output_type": "stream",
     "text": [
      "/home/anand/playspace/data-science-utils/.eggs/statsmodels-0.8.0-py3.6-linux-x86_64.egg/statsmodels/compat/pandas.py:56: FutureWarning: The pandas.core.datetools module is deprecated and will be removed in a future version. Please use the pandas.tseries module instead.\n",
      "  from pandas.core import datetools\n",
      "/home/anand/anaconda3/envs/analytics/lib/python3.6/site-packages/sklearn/cross_validation.py:41: DeprecationWarning: This module was deprecated in version 0.18 in favor of the model_selection module into which all the refactored classes and functions are moved. Also note that the interface of the new CV iterators are different from that of this module. This module will be removed in 0.20.\n",
      "  \"This module will be removed in 0.20.\", DeprecationWarning)\n"
     ]
    },
    {
     "ename": "ModuleNotFoundError",
     "evalue": "No module named 'bokeh.layouts'",
     "output_type": "error",
     "traceback": [
      "\u001b[0;31m---------------------------------------------------------------------------\u001b[0m",
      "\u001b[0;31mModuleNotFoundError\u001b[0m                       Traceback (most recent call last)",
      "\u001b[0;32m<ipython-input-1-2bc7ae547b77>\u001b[0m in \u001b[0;36m<module>\u001b[0;34m()\u001b[0m\n\u001b[1;32m      1\u001b[0m \u001b[0;31m# Custom libraries\u001b[0m\u001b[0;34m\u001b[0m\u001b[0;34m\u001b[0m\u001b[0m\n\u001b[0;32m----> 2\u001b[0;31m \u001b[0;32mfrom\u001b[0m \u001b[0mdatascienceutils\u001b[0m \u001b[0;32mimport\u001b[0m \u001b[0mplotter\u001b[0m\u001b[0;34m\u001b[0m\u001b[0m\n\u001b[0m\u001b[1;32m      3\u001b[0m \u001b[0;32mfrom\u001b[0m \u001b[0mdatascienceutils\u001b[0m \u001b[0;32mimport\u001b[0m \u001b[0manalyze\u001b[0m\u001b[0;34m\u001b[0m\u001b[0m\n\u001b[1;32m      4\u001b[0m \u001b[0;32mfrom\u001b[0m \u001b[0mdatascienceutils\u001b[0m \u001b[0;32mimport\u001b[0m \u001b[0mpredictiveModels\u001b[0m \u001b[0;32mas\u001b[0m \u001b[0mpm\u001b[0m\u001b[0;34m\u001b[0m\u001b[0m\n\u001b[1;32m      5\u001b[0m \u001b[0;34m\u001b[0m\u001b[0m\n",
      "\u001b[0;32m~/anaconda3/envs/analytics/lib/python3.6/site-packages/datascienceutils-1.2.19-py3.6.egg/datascienceutils/__init__.py\u001b[0m in \u001b[0;36m<module>\u001b[0;34m()\u001b[0m\n\u001b[1;32m      1\u001b[0m \u001b[0;32mfrom\u001b[0m \u001b[0;34m.\u001b[0m \u001b[0;32mimport\u001b[0m \u001b[0msklearnUtils\u001b[0m\u001b[0;34m\u001b[0m\u001b[0m\n\u001b[0;32m----> 2\u001b[0;31m \u001b[0;32mfrom\u001b[0m \u001b[0;34m.\u001b[0m \u001b[0;32mimport\u001b[0m \u001b[0manalyze\u001b[0m\u001b[0;34m\u001b[0m\u001b[0m\n\u001b[0m\u001b[1;32m      3\u001b[0m \u001b[0;32mfrom\u001b[0m \u001b[0;34m.\u001b[0m \u001b[0;32mimport\u001b[0m \u001b[0mplotter\u001b[0m\u001b[0;34m\u001b[0m\u001b[0m\n\u001b[1;32m      4\u001b[0m \u001b[0;32mfrom\u001b[0m \u001b[0;34m.\u001b[0m \u001b[0;32mimport\u001b[0m \u001b[0mpredictiveModels\u001b[0m\u001b[0;34m\u001b[0m\u001b[0m\n\u001b[1;32m      5\u001b[0m \u001b[0;34m\u001b[0m\u001b[0m\n",
      "\u001b[0;32m~/anaconda3/envs/analytics/lib/python3.6/site-packages/datascienceutils-1.2.19-py3.6.egg/datascienceutils/analyze.py\u001b[0m in \u001b[0;36m<module>\u001b[0;34m()\u001b[0m\n\u001b[1;32m      1\u001b[0m \u001b[0;31m# Standard and external libraries\u001b[0m\u001b[0;34m\u001b[0m\u001b[0;34m\u001b[0m\u001b[0m\n\u001b[0;32m----> 2\u001b[0;31m \u001b[0;32mfrom\u001b[0m \u001b[0mbokeh\u001b[0m\u001b[0;34m.\u001b[0m\u001b[0mlayouts\u001b[0m \u001b[0;32mimport\u001b[0m \u001b[0mgridplot\u001b[0m\u001b[0;34m\u001b[0m\u001b[0m\n\u001b[0m\u001b[1;32m      3\u001b[0m \u001b[0;32mfrom\u001b[0m \u001b[0mstatsmodels\u001b[0m\u001b[0;34m.\u001b[0m\u001b[0mstats\u001b[0m \u001b[0;32mimport\u001b[0m \u001b[0mdiagnostic\u001b[0m\u001b[0;34m\u001b[0m\u001b[0m\n\u001b[1;32m      4\u001b[0m \u001b[0;32mfrom\u001b[0m \u001b[0mstatsmodels\u001b[0m\u001b[0;34m.\u001b[0m\u001b[0mstats\u001b[0m \u001b[0;32mimport\u001b[0m \u001b[0moutliers_influence\u001b[0m\u001b[0;34m\u001b[0m\u001b[0m\n\u001b[1;32m      5\u001b[0m \u001b[0;34m\u001b[0m\u001b[0m\n",
      "\u001b[0;31mModuleNotFoundError\u001b[0m: No module named 'bokeh.layouts'"
     ]
    }
   ],
   "source": [
    "# Custom libraries\n",
    "from datascienceutils import plotter\n",
    "from datascienceutils import analyze\n",
    "from datascienceutils import predictiveModels as pm\n",
    "\n",
    "# Standard libraries\n",
    "import json\n",
    "%matplotlib inline\n",
    "import datetime\n",
    "import numpy as np\n",
    "import pandas as pd\n",
    "import random\n",
    "\n",
    "from sklearn import cross_validation\n",
    "from sklearn import metrics\n",
    "\n",
    "from bokeh.plotting import figure, show, output_file, output_notebook, ColumnDataSource\n",
    "from bokeh.charts import Histogram\n",
    "import bokeh\n",
    "output_notebook(bokeh.resources.INLINE)\n",
    "\n",
    "from sqlalchemy import create_engine"
   ]
  },
  {
   "cell_type": "code",
   "execution_count": null,
   "metadata": {
    "ExecuteTime": {
     "end_time": "2017-06-29T12:40:03.655679+05:30",
     "start_time": "2017-06-29T07:10:03.491Z"
    },
    "collapsed": true,
    "scrolled": false
   },
   "outputs": [],
   "source": [
    "twoSigmaDf = None\n",
    "with pd.HDFStore(\"../data/train.h5\", \"r\") as train:\n",
    "    # Note that the \"train\" dataframe is the only dataframe in the file\n",
    "    twoSigmaDf = train.get(\"train\")"
   ]
  },
  {
   "cell_type": "code",
   "execution_count": null,
   "metadata": {
    "ExecuteTime": {
     "end_time": "2017-06-29T12:40:03.656220+05:30",
     "start_time": "2017-06-29T07:10:03.493Z"
    },
    "collapsed": true,
    "scrolled": false
   },
   "outputs": [],
   "source": [
    "twoSigmaDf.describe()"
   ]
  },
  {
   "cell_type": "code",
   "execution_count": null,
   "metadata": {
    "ExecuteTime": {
     "end_time": "2017-06-29T12:40:03.656523+05:30",
     "start_time": "2017-06-29T07:10:03.495Z"
    },
    "collapsed": true
   },
   "outputs": [],
   "source": [
    "twoSigmaDf.columns"
   ]
  },
  {
   "cell_type": "code",
   "execution_count": null,
   "metadata": {
    "ExecuteTime": {
     "end_time": "2017-06-29T12:40:03.656802+05:30",
     "start_time": "2017-06-29T07:10:03.497Z"
    },
    "collapsed": true
   },
   "outputs": [],
   "source": [
    "twoSigmaDf[twoSigmaDf.id==10]['y'].describe()\n"
   ]
  },
  {
   "cell_type": "code",
   "execution_count": null,
   "metadata": {
    "ExecuteTime": {
     "end_time": "2017-06-29T12:40:03.657073+05:30",
     "start_time": "2017-06-29T07:10:03.499Z"
    },
    "collapsed": true
   },
   "outputs": [],
   "source": [
    "grouped_ids = twoSigmaDf.groupby('id').count()"
   ]
  },
  {
   "cell_type": "code",
   "execution_count": null,
   "metadata": {
    "ExecuteTime": {
     "end_time": "2017-06-29T12:40:03.657341+05:30",
     "start_time": "2017-06-29T07:10:03.501Z"
    },
    "collapsed": true
   },
   "outputs": [],
   "source": [
    "twoSigmaDf[twoSigmaDf.id==12]['y'].describe()"
   ]
  },
  {
   "cell_type": "code",
   "execution_count": null,
   "metadata": {
    "ExecuteTime": {
     "end_time": "2017-06-29T12:40:03.657607+05:30",
     "start_time": "2017-06-29T07:10:03.502Z"
    },
    "collapsed": true
   },
   "outputs": [],
   "source": [
    "twoSigmaDf['timestamp'].nunique()"
   ]
  },
  {
   "cell_type": "code",
   "execution_count": null,
   "metadata": {
    "ExecuteTime": {
     "end_time": "2017-06-29T12:40:03.657873+05:30",
     "start_time": "2017-06-29T07:10:03.504Z"
    },
    "collapsed": true,
    "scrolled": false
   },
   "outputs": [],
   "source": [
    "twoSigmaDf.head()"
   ]
  },
  {
   "cell_type": "code",
   "execution_count": null,
   "metadata": {
    "ExecuteTime": {
     "end_time": "2017-06-29T12:40:03.658135+05:30",
     "start_time": "2017-06-29T07:10:03.506Z"
    },
    "collapsed": true,
    "scrolled": false
   },
   "outputs": [],
   "source": [
    "twoSigmaDf.corr()"
   ]
  },
  {
   "cell_type": "code",
   "execution_count": null,
   "metadata": {
    "ExecuteTime": {
     "end_time": "2017-06-29T12:40:03.658428+05:30",
     "start_time": "2017-06-29T07:10:03.508Z"
    },
    "collapsed": true
   },
   "outputs": [],
   "source": [
    "a = twoSigmaDf.corr()"
   ]
  },
  {
   "cell_type": "code",
   "execution_count": null,
   "metadata": {
    "ExecuteTime": {
     "end_time": "2017-06-29T12:40:03.658692+05:30",
     "start_time": "2017-06-29T07:10:03.509Z"
    },
    "collapsed": true
   },
   "outputs": [],
   "source": [
    "sampleDf = twoSigmaDf.sample(n=100000)"
   ]
  },
  {
   "cell_type": "code",
   "execution_count": null,
   "metadata": {
    "ExecuteTime": {
     "end_time": "2017-06-29T12:40:03.658954+05:30",
     "start_time": "2017-06-29T07:10:03.511Z"
    },
    "collapsed": true
   },
   "outputs": [],
   "source": [
    "analyze.dist_analyze(twoSigmaDf, 'timestamp')"
   ]
  },
  {
   "cell_type": "code",
   "execution_count": null,
   "metadata": {
    "ExecuteTime": {
     "end_time": "2017-06-29T12:40:03.659221+05:30",
     "start_time": "2017-06-29T07:10:03.513Z"
    },
    "collapsed": true
   },
   "outputs": [],
   "source": [
    "analyze.dist_analyze(twoSigmaDf, 'y')"
   ]
  },
  {
   "cell_type": "code",
   "execution_count": null,
   "metadata": {
    "ExecuteTime": {
     "end_time": "2017-06-29T12:40:03.659494+05:30",
     "start_time": "2017-06-29T07:10:03.514Z"
    },
    "collapsed": true
   },
   "outputs": [],
   "source": [
    "neg_model = twoSigmaDf[twoSigmaDf.y< -0.08]\n",
    "pos_model = twoSigmaDf[twoSigmaDf.y> 0.09]\n",
    "central_model = twoSigmaDf[twoSigmaDf.y> -0.08][twoSigmaDf.y < 0.09]\n",
    "non_central_model = pd.concat([neg_model, pos_model])"
   ]
  },
  {
   "cell_type": "code",
   "execution_count": null,
   "metadata": {
    "ExecuteTime": {
     "end_time": "2017-06-29T12:40:03.659777+05:30",
     "start_time": "2017-06-29T07:10:03.516Z"
    },
    "collapsed": true
   },
   "outputs": [],
   "source": [
    "analyze.dist_analyze(non_central_model)"
   ]
  },
  {
   "cell_type": "code",
   "execution_count": null,
   "metadata": {
    "ExecuteTime": {
     "end_time": "2017-06-29T12:40:03.660050+05:30",
     "start_time": "2017-06-29T07:10:03.518Z"
    },
    "collapsed": true
   },
   "outputs": [],
   "source": [
    "analyze.dist_analyze(neg_model)"
   ]
  },
  {
   "cell_type": "code",
   "execution_count": null,
   "metadata": {
    "ExecuteTime": {
     "end_time": "2017-06-29T12:40:03.660312+05:30",
     "start_time": "2017-06-29T07:10:03.519Z"
    },
    "collapsed": true
   },
   "outputs": [],
   "source": [
    "analyze.dist_analyze(pos_model)"
   ]
  },
  {
   "cell_type": "code",
   "execution_count": null,
   "metadata": {
    "ExecuteTime": {
     "end_time": "2017-06-29T12:40:03.660571+05:30",
     "start_time": "2017-06-29T07:10:03.521Z"
    },
    "collapsed": true
   },
   "outputs": [],
   "source": [
    "analyze.dist_analyze(central_model)"
   ]
  },
  {
   "cell_type": "code",
   "execution_count": null,
   "metadata": {
    "ExecuteTime": {
     "end_time": "2017-06-29T12:40:03.660834+05:30",
     "start_time": "2017-06-29T07:10:03.522Z"
    },
    "collapsed": true
   },
   "outputs": [],
   "source": [
    "len(neg_model.columns)"
   ]
  },
  {
   "cell_type": "code",
   "execution_count": null,
   "metadata": {
    "ExecuteTime": {
     "end_time": "2017-06-29T12:40:03.661096+05:30",
     "start_time": "2017-06-29T07:10:03.524Z"
    },
    "collapsed": true,
    "scrolled": true
   },
   "outputs": [],
   "source": [
    "neg_model.describe()"
   ]
  },
  {
   "cell_type": "code",
   "execution_count": null,
   "metadata": {
    "ExecuteTime": {
     "end_time": "2017-06-29T12:40:03.661355+05:30",
     "start_time": "2017-06-29T07:10:03.525Z"
    },
    "collapsed": true
   },
   "outputs": [],
   "source": [
    "pos_model.describe()"
   ]
  },
  {
   "cell_type": "code",
   "execution_count": null,
   "metadata": {
    "ExecuteTime": {
     "end_time": "2017-06-29T12:40:03.661635+05:30",
     "start_time": "2017-06-29T07:10:03.527Z"
    },
    "collapsed": true
   },
   "outputs": [],
   "source": [
    "central_model.describe()"
   ]
  },
  {
   "cell_type": "code",
   "execution_count": null,
   "metadata": {
    "ExecuteTime": {
     "end_time": "2017-06-29T12:40:03.661999+05:30",
     "start_time": "2017-06-29T07:10:03.528Z"
    },
    "collapsed": true
   },
   "outputs": [],
   "source": [
    "central_model.corr()"
   ]
  },
  {
   "cell_type": "code",
   "execution_count": null,
   "metadata": {
    "ExecuteTime": {
     "end_time": "2017-06-29T12:40:03.662327+05:30",
     "start_time": "2017-06-29T07:10:03.529Z"
    },
    "collapsed": true,
    "scrolled": false
   },
   "outputs": [],
   "source": [
    "prediction = 2.217474e-04\n",
    "mean = twoSigmaDf['y'].mean()\n",
    "sampleDf['rmse_pred'] = sampleDf['y'].apply(lambda x: (x-prediction)**2)\n",
    "sampleDf['rmse_mean'] = sampleDf['y'].apply(lambda x: (x-mean)**2)\n",
    "\n",
    "r_square = 1 - sampleDf['rmse_pred'].sum()/sampleDf['rmse_mean'].sum()"
   ]
  },
  {
   "cell_type": "code",
   "execution_count": null,
   "metadata": {
    "ExecuteTime": {
     "end_time": "2017-06-29T12:40:03.662637+05:30",
     "start_time": "2017-06-29T07:10:03.531Z"
    },
    "collapsed": true
   },
   "outputs": [],
   "source": [
    "out = np.sqrt(abs(r_square))\n",
    "print(out* -1)"
   ]
  },
  {
   "cell_type": "code",
   "execution_count": null,
   "metadata": {
    "ExecuteTime": {
     "end_time": "2017-06-29T12:40:03.663175+05:30",
     "start_time": "2017-06-29T07:10:03.532Z"
    },
    "collapsed": true
   },
   "outputs": [],
   "source": [
    "sample2Df = twoSigmaDf.sample(n=300000)\n",
    "prediction = 2.217474e-04\n",
    "mean = sample2Df['y'].mean()\n",
    "sample2Df['rmse_pred'] = sample2Df['y'].apply(lambda x: (x-prediction)**2)\n",
    "sample2Df['rmse_mean'] = sample2Df['y'].apply(lambda x: (x-mean)**2)\n",
    "\n",
    "r_square = 1 - sample2Df['rmse_pred'].sum()/sample2Df['rmse_mean'].sum()\n",
    "out = np.sqrt(abs(r_square))\n",
    "print(out, r_square)\n"
   ]
  },
  {
   "cell_type": "code",
   "execution_count": null,
   "metadata": {
    "ExecuteTime": {
     "end_time": "2017-06-29T12:40:03.663488+05:30",
     "start_time": "2017-06-29T07:10:03.534Z"
    },
    "collapsed": true
   },
   "outputs": [],
   "source": [
    "sample6Df = twoSigmaDf.sample(n=600000)\n",
    "prediction = 0\n",
    "mean = sample6Df['y'].mean()\n",
    "sample6Df['rmse_pred'] = sample6Df['y'].apply(lambda x: (x-prediction)**2)\n",
    "sample6Df['rmse_mean'] = sample6Df['y'].apply(lambda x: (x-mean)**2)\n",
    "\n",
    "r_square = 1 - sample6Df['rmse_pred'].sum()/sample6Df['rmse_mean'].sum()\n",
    "out = np.sqrt(abs(r_square))\n",
    "print(out, r_square)"
   ]
  },
  {
   "cell_type": "code",
   "execution_count": null,
   "metadata": {
    "ExecuteTime": {
     "end_time": "2017-06-29T12:40:03.663778+05:30",
     "start_time": "2017-06-29T07:10:03.536Z"
    },
    "collapsed": true
   },
   "outputs": [],
   "source": [
    "prediction = 0\n",
    "mean = twoSigmaDf['y'].mean()\n",
    "central_mean = central_model['y'].mean()\n",
    "def get_prediction(x):\n",
    "    if x <= -0.08:\n",
    "        return -0.085\n",
    "    elif x >= 0.09:\n",
    "        return 0.095\n",
    "    else:\n",
    "        return central_mean\n",
    "\n",
    "def get_r_square(prediction, actual):\n",
    "    assert len(prediction) == len(actual), \"Lengths of actuals and predictions should be equal\"\n",
    "    rmse_pred = 0\n",
    "    rmse_mean = 0\n",
    "    mean = np.mean(actual)\n",
    "    for pred,ea in zip(prediction, actual):\n",
    "        rmse_pred += (ea - pred)**2\n",
    "        rmse_mean += (ea - mean)**2\n",
    "    return 1 - rmse_pred/rmse_mean\n",
    "    \n",
    "    \n",
    "    pass\n",
    "    \n",
    "#twoSigmaDf['prediction'] = twoSigmaDf['y'].apply(lambda x: get_prediction(x))\n",
    "twoSigmaDf['rmse_pred'] = twoSigmaDf['y'].apply(lambda x: (x-get_prediction(x))**2)\n",
    "twoSigmaDf['rmse_mean'] = twoSigmaDf['y'].apply(lambda x: (x-mean)**2)\n",
    "\n",
    "r_square = 1 - twoSigmaDf['rmse_pred'].sum()/twoSigmaDf['rmse_mean'].sum()\n",
    "out = np.sqrt(abs(r_square))\n",
    "\n",
    "print(out, r_square)\n",
    "print(get_r_square(twoSigmaDf['y'].apply(lambda x: get_prediction(x)), twoSigmaDf['y']))"
   ]
  },
  {
   "cell_type": "code",
   "execution_count": null,
   "metadata": {
    "ExecuteTime": {
     "end_time": "2017-06-29T12:40:03.664053+05:30",
     "start_time": "2017-06-29T07:10:03.537Z"
    },
    "collapsed": true
   },
   "outputs": [],
   "source": [
    "def get_category(x):\n",
    "    if x <= -0.08:\n",
    "        return 'Neg'\n",
    "    elif x >= 0.09:\n",
    "        return \"Pos\"\n",
    "    else:\n",
    "        return \"Mid\"\n",
    "twoSigmaDf['category'] = twoSigmaDf['y'].apply(lambda x: get_category(x))\n"
   ]
  },
  {
   "cell_type": "code",
   "execution_count": null,
   "metadata": {
    "ExecuteTime": {
     "end_time": "2017-06-29T12:40:03.664317+05:30",
     "start_time": "2017-06-29T07:10:03.539Z"
    },
    "collapsed": true
   },
   "outputs": [],
   "source": [
    "a = twoSigmaDf.groupby('category').describe()"
   ]
  },
  {
   "cell_type": "code",
   "execution_count": null,
   "metadata": {
    "ExecuteTime": {
     "end_time": "2017-06-29T12:40:03.664581+05:30",
     "start_time": "2017-06-29T07:10:03.541Z"
    },
    "collapsed": true
   },
   "outputs": [],
   "source": [
    "b = a.transpose().reset_index()\n",
    "b.columns"
   ]
  },
  {
   "cell_type": "code",
   "execution_count": null,
   "metadata": {
    "ExecuteTime": {
     "end_time": "2017-06-29T12:40:03.664844+05:30",
     "start_time": "2017-06-29T07:10:03.542Z"
    },
    "collapsed": true
   },
   "outputs": [],
   "source": [
    "from datascienceutils import utils\n",
    "anova_dict = dict()\n",
    "for col in twoSigmaDf.columns:\n",
    "    anova_dict[col] = utils.calculate_anova(sample2Df, 'y', col)\n",
    "print(anova_dict)"
   ]
  },
  {
   "cell_type": "code",
   "execution_count": null,
   "metadata": {
    "ExecuteTime": {
     "end_time": "2017-06-29T12:40:03.665113+05:30",
     "start_time": "2017-06-29T07:10:03.544Z"
    },
    "collapsed": true
   },
   "outputs": [],
   "source": [
    "filteredDf = twoSigmaDf[['id', 'timestamp', 'technical_34', 'technical_20']]\n",
    "filteredDf.fillna(filteredDf.mean(), inplace=True)\n",
    "target = twoSigmaDf['category']\n",
    "from sklearn.naive_bayes import GaussianNB\n",
    "gnb = GaussianNB()\n",
    "#gnb_model = pm.train(filteredDf, target, 'gaussianNB')\n",
    "gnb.fit(filteredDf, target)\n",
    "\n"
   ]
  },
  {
   "cell_type": "code",
   "execution_count": null,
   "metadata": {
    "ExecuteTime": {
     "end_time": "2017-06-29T12:40:03.665378+05:30",
     "start_time": "2017-06-29T07:10:03.545Z"
    },
    "collapsed": true
   },
   "outputs": [],
   "source": [
    "def get_pred_by_category(x):\n",
    "    if x == 'Mid':\n",
    "        return 0\n",
    "    elif x == 'Neg':\n",
    "        return -0.085\n",
    "    else:\n",
    "        return 0.095\n",
    "num_predictions = list(map(get_pred_by_category, gnb.predict(filteredDf)))\n",
    "\n",
    "get_r_square(num_predictions, list(twoSigmaDf['y']))"
   ]
  }
 ],
 "metadata": {
  "anaconda-cloud": {},
  "kernelspec": {
   "display_name": "Python 3",
   "language": "python",
   "name": "python3"
  },
  "language_info": {
   "codemirror_mode": {
    "name": "ipython",
    "version": 3
   },
   "file_extension": ".py",
   "mimetype": "text/x-python",
   "name": "python",
   "nbconvert_exporter": "python",
   "pygments_lexer": "ipython3",
   "version": "3.6.3"
  },
  "latex_envs": {
   "bibliofile": "biblio.bib",
   "cite_by": "apalike",
   "current_citInitial": 1,
   "eqLabelWithNumbers": true,
   "eqNumInitial": 0
  }
 },
 "nbformat": 4,
 "nbformat_minor": 1
}
