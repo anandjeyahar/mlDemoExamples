{
 "cells": [
  {
   "cell_type": "code",
   "execution_count": 26,
   "metadata": {
    "ExecuteTime": {
     "end_time": "2016-11-24T18:55:17.763608",
     "start_time": "2016-11-24T18:55:17.749978"
    },
    "collapsed": false
   },
   "outputs": [],
   "source": [
    "## Get some data\n",
    "import pandas as pd\n",
    "from sklearn.model_selection import train_test_split\n",
    "from sklearn import preprocessing\n",
    "X = pd.read_csv('./data/Iris.csv')\n",
    "y = X['Species']\n",
    "X.drop('Species', 1, inplace=True)\n",
    "\n",
    "X_train, X_test, Y_train, Y_test = train_test_split(X, y)\n",
    "enc = preprocessing.LabelEncoder()\n",
    "enc.fit(y)\n",
    "Y_train = enc.transform(Y_train)\n",
    "Y_test = enc.transform(Y_test)"
   ]
  },
  {
   "cell_type": "code",
   "execution_count": 35,
   "metadata": {
    "ExecuteTime": {
     "end_time": "2016-11-24T18:59:10.871630",
     "start_time": "2016-11-24T18:59:10.867425"
    },
    "collapsed": false
   },
   "outputs": [
    {
     "data": {
      "text/plain": [
       "(112,)"
      ]
     },
     "execution_count": 35,
     "metadata": {},
     "output_type": "execute_result"
    }
   ],
   "source": [
    "Y_train.shape"
   ]
  },
  {
   "cell_type": "markdown",
   "metadata": {},
   "source": [
    "## Sequential model"
   ]
  },
  {
   "cell_type": "code",
   "execution_count": 20,
   "metadata": {
    "ExecuteTime": {
     "end_time": "2016-11-24T18:38:24.536661",
     "start_time": "2016-11-24T18:38:24.493228"
    },
    "collapsed": false
   },
   "outputs": [
    {
     "data": {
      "text/html": [
       "<div>\n",
       "<table border=\"1\" class=\"dataframe\">\n",
       "  <thead>\n",
       "    <tr style=\"text-align: right;\">\n",
       "      <th></th>\n",
       "      <th>Id</th>\n",
       "      <th>SepalLengthCm</th>\n",
       "      <th>SepalWidthCm</th>\n",
       "      <th>PetalLengthCm</th>\n",
       "      <th>PetalWidthCm</th>\n",
       "    </tr>\n",
       "  </thead>\n",
       "  <tbody>\n",
       "    <tr>\n",
       "      <th>135</th>\n",
       "      <td>136</td>\n",
       "      <td>7.7</td>\n",
       "      <td>3.0</td>\n",
       "      <td>6.1</td>\n",
       "      <td>2.3</td>\n",
       "    </tr>\n",
       "    <tr>\n",
       "      <th>58</th>\n",
       "      <td>59</td>\n",
       "      <td>6.6</td>\n",
       "      <td>2.9</td>\n",
       "      <td>4.6</td>\n",
       "      <td>1.3</td>\n",
       "    </tr>\n",
       "    <tr>\n",
       "      <th>45</th>\n",
       "      <td>46</td>\n",
       "      <td>4.8</td>\n",
       "      <td>3.0</td>\n",
       "      <td>1.4</td>\n",
       "      <td>0.3</td>\n",
       "    </tr>\n",
       "    <tr>\n",
       "      <th>64</th>\n",
       "      <td>65</td>\n",
       "      <td>5.6</td>\n",
       "      <td>2.9</td>\n",
       "      <td>3.6</td>\n",
       "      <td>1.3</td>\n",
       "    </tr>\n",
       "    <tr>\n",
       "      <th>0</th>\n",
       "      <td>1</td>\n",
       "      <td>5.1</td>\n",
       "      <td>3.5</td>\n",
       "      <td>1.4</td>\n",
       "      <td>0.2</td>\n",
       "    </tr>\n",
       "  </tbody>\n",
       "</table>\n",
       "</div>"
      ],
      "text/plain": [
       "      Id  SepalLengthCm  SepalWidthCm  PetalLengthCm  PetalWidthCm\n",
       "135  136            7.7           3.0            6.1           2.3\n",
       "58    59            6.6           2.9            4.6           1.3\n",
       "45    46            4.8           3.0            1.4           0.3\n",
       "64    65            5.6           2.9            3.6           1.3\n",
       "0      1            5.1           3.5            1.4           0.2"
      ]
     },
     "execution_count": 20,
     "metadata": {},
     "output_type": "execute_result"
    }
   ],
   "source": [
    "X_train.head()"
   ]
  },
  {
   "cell_type": "code",
   "execution_count": 45,
   "metadata": {
    "ExecuteTime": {
     "end_time": "2016-11-24T20:20:36.082228",
     "start_time": "2016-11-24T20:20:34.586244"
    },
    "collapsed": false
   },
   "outputs": [
    {
     "name": "stdout",
     "output_type": "stream",
     "text": [
      "Epoch 1/5\n",
      "112/112 [==============================] - 0s - loss: 1.2240e-07     \n",
      "Epoch 2/5\n",
      "112/112 [==============================] - 0s - loss: 1.2240e-07     \n",
      "Epoch 3/5\n",
      "112/112 [==============================] - 0s - loss: 1.2240e-07     \n",
      "Epoch 4/5\n",
      "112/112 [==============================] - 0s - loss: 1.2240e-07     \n",
      "Epoch 5/5\n",
      "112/112 [==============================] - 0s - loss: 1.2240e-07     \n",
      "38/38 [==============================] - 0s     \n",
      "38/38 [==============================] - 0s     \n",
      "38/38 [==============================] - 0s     \n"
     ]
    }
   ],
   "source": [
    "# Initialize model\n",
    "from keras.models import Sequential\n",
    "model = Sequential()\n",
    "\n",
    "# Add layers to the model\n",
    "from keras.layers import Dense, Activation\n",
    "\n",
    "model.add(Dense(output_dim=100, input_dim=5))\n",
    "model.add(Activation(\"relu\"))\n",
    "model.add(Dense(input_dim=100, output_dim=1))\n",
    "model.add(Activation(\"softmax\"))\n",
    "\n",
    "# Compile and configure the model's learning process\n",
    "model.compile(loss='categorical_crossentropy', optimizer='sgd') #, metrics=['accuracy'])\n",
    "\n",
    "# Custom parameters to the optimizer\n",
    "\n",
    "#from keras.optimizers import SGD\n",
    "#model.compile(loss='categorical_crossentropy', optimizer=SGD(lr=0.01, momentum=0.9, nesterov=True))\n",
    "\n",
    "# Train the model\n",
    "model.fit(X_train.as_matrix(), Y_train, nb_epoch=5, batch_size=32)\n",
    "\n",
    "# evaluate performance\n",
    "loss_and_metrics = model.evaluate(X_test.as_matrix(), Y_test, batch_size=32)\n",
    "\n",
    "# Generate predictions\n",
    "classes = model.predict_classes(X_test.as_matrix(), batch_size=32)\n",
    "proba = model.predict_proba(X_test.as_matrix(), batch_size=32)"
   ]
  },
  {
   "cell_type": "code",
   "execution_count": 46,
   "metadata": {
    "ExecuteTime": {
     "end_time": "2016-11-24T20:20:40.610222",
     "start_time": "2016-11-24T20:20:40.604895"
    },
    "collapsed": false
   },
   "outputs": [
    {
     "name": "stdout",
     "output_type": "stream",
     "text": [
      "Classes are: [0 0 0 0 0 0 0 0 0 0 0 0 0 0 0 0 0 0 0 0 0 0 0 0 0 0 0 0 0 0 0 0 0 0 0 0 0\n",
      " 0]\n",
      "Probabilities:  [[ 1.]\n",
      " [ 1.]\n",
      " [ 1.]\n",
      " [ 1.]\n",
      " [ 1.]\n",
      " [ 1.]\n",
      " [ 1.]\n",
      " [ 1.]\n",
      " [ 1.]\n",
      " [ 1.]\n",
      " [ 1.]\n",
      " [ 1.]\n",
      " [ 1.]\n",
      " [ 1.]\n",
      " [ 1.]\n",
      " [ 1.]\n",
      " [ 1.]\n",
      " [ 1.]\n",
      " [ 1.]\n",
      " [ 1.]\n",
      " [ 1.]\n",
      " [ 1.]\n",
      " [ 1.]\n",
      " [ 1.]\n",
      " [ 1.]\n",
      " [ 1.]\n",
      " [ 1.]\n",
      " [ 1.]\n",
      " [ 1.]\n",
      " [ 1.]\n",
      " [ 1.]\n",
      " [ 1.]\n",
      " [ 1.]\n",
      " [ 1.]\n",
      " [ 1.]\n",
      " [ 1.]\n",
      " [ 1.]\n",
      " [ 1.]]\n",
      "1.09798045556e-07\n"
     ]
    }
   ],
   "source": [
    "print(\"Classes are:\", classes)\n",
    "print(\"Probabilities: \", proba)\n",
    "print(loss_and_metrics)"
   ]
  }
 ],
 "metadata": {
  "kernelspec": {
   "display_name": "Python 3",
   "language": "python",
   "name": "python3"
  },
  "language_info": {
   "codemirror_mode": {
    "name": "ipython",
    "version": 3
   },
   "file_extension": ".py",
   "mimetype": "text/x-python",
   "name": "python",
   "nbconvert_exporter": "python",
   "pygments_lexer": "ipython3",
   "version": "3.5.2"
  }
 },
 "nbformat": 4,
 "nbformat_minor": 0
}
