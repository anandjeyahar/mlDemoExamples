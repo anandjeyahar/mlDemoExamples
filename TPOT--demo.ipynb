{
 "cells": [
  {
   "cell_type": "code",
   "execution_count": null,
   "metadata": {
    "ExecuteTime": {
     "start_time": "2016-12-14T16:32:04.469Z"
    },
    "collapsed": false
   },
   "outputs": [],
   "source": [
    "from sklearn.datasets import load_digits\n",
    "from sklearn.cross_validation import StratifiedShuffleSplit\n",
    "from tpot import TPOTClassifier\n",
    "\n",
    "data = load_digits(10)\n",
    "features, classes = data.data, data.target\n",
    "training_indices, testing_indices = next(iter(StratifiedShuffleSplit(classes, train_size=0.75,\n",
    "                                                                    test_size=0.25, n_iter=1,\n",
    "                                                                    random_state=42)))\n",
    "my_tpot = TPOTClassifier()\n",
    "my_tpot.fit(features[training_indices], classes[training_indices])"
   ]
  },
  {
   "cell_type": "code",
   "execution_count": null,
   "metadata": {
    "ExecuteTime": {
     "start_time": "2016-12-14T16:32:16.554Z"
    },
    "collapsed": true
   },
   "outputs": [],
   "source": [
    "my_tpot.score(features[training_indices], classes[training_indices], \n",
    "              features[testing_indices], features[testing_indices])"
   ]
  },
  {
   "cell_type": "code",
   "execution_count": null,
   "metadata": {
    "ExecuteTime": {
     "start_time": "2016-12-14T16:32:16.564Z"
    },
    "collapsed": true
   },
   "outputs": [],
   "source": [
    "my_tpot.export('pipeline.py')"
   ]
  },
  {
   "cell_type": "code",
   "execution_count": null,
   "metadata": {
    "ExecuteTime": {
     "start_time": "2016-12-14T16:32:16.574Z"
    },
    "collapsed": true
   },
   "outputs": [],
   "source": [
    "!cat pipeline.py"
   ]
  }
 ],
 "metadata": {
  "kernelspec": {
   "display_name": "Python 3",
   "language": "python",
   "name": "python3"
  },
  "language_info": {
   "codemirror_mode": {
    "name": "ipython",
    "version": 3
   },
   "file_extension": ".py",
   "mimetype": "text/x-python",
   "name": "python",
   "nbconvert_exporter": "python",
   "pygments_lexer": "ipython3",
   "version": "3.5.2"
  }
 },
 "nbformat": 4,
 "nbformat_minor": 0
}
