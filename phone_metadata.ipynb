{
 "cells": [
  {
   "cell_type": "code",
   "execution_count": 2,
   "metadata": {
    "ExecuteTime": {
     "end_time": "2017-11-17T21:57:31.109861",
     "start_time": "2017-11-17T21:57:31.095000"
    },
    "collapsed": false,
    "scrolled": false
   },
   "outputs": [
    {
     "data": {
      "text/html": [
       "\n",
       "    <div class=\"bk-root\">\n",
       "        <a href=\"http://bokeh.pydata.org\" target=\"_blank\" class=\"bk-logo bk-logo-small bk-logo-notebook\"></a>\n",
       "        <span id=\"c6289e64-189d-4236-a670-421feb29b434\">Loading BokehJS ...</span>\n",
       "    </div>"
      ]
     },
     "metadata": {},
     "output_type": "display_data"
    },
    {
     "data": {
      "application/javascript": [
       "\n",
       "(function(global) {\n",
       "  function now() {\n",
       "    return new Date();\n",
       "  }\n",
       "\n",
       "  var force = \"1\";\n",
       "\n",
       "  if (typeof (window._bokeh_onload_callbacks) === \"undefined\" || force !== \"\") {\n",
       "    window._bokeh_onload_callbacks = [];\n",
       "    window._bokeh_is_loading = undefined;\n",
       "  }\n",
       "\n",
       "\n",
       "  \n",
       "  if (typeof (window._bokeh_timeout) === \"undefined\" || force !== \"\") {\n",
       "    window._bokeh_timeout = Date.now() + 5000;\n",
       "    window._bokeh_failed_load = false;\n",
       "  }\n",
       "\n",
       "  var NB_LOAD_WARNING = {'data': {'text/html':\n",
       "     \"<div style='background-color: #fdd'>\\n\"+\n",
       "     \"<p>\\n\"+\n",
       "     \"BokehJS does not appear to have successfully loaded. If loading BokehJS from CDN, this \\n\"+\n",
       "     \"may be due to a slow or bad network connection. Possible fixes:\\n\"+\n",
       "     \"</p>\\n\"+\n",
       "     \"<ul>\\n\"+\n",
       "     \"<li>re-rerun `output_notebook()` to attempt to load from CDN again, or</li>\\n\"+\n",
       "     \"<li>use INLINE resources instead, as so:</li>\\n\"+\n",
       "     \"</ul>\\n\"+\n",
       "     \"<code>\\n\"+\n",
       "     \"from bokeh.resources import INLINE\\n\"+\n",
       "     \"output_notebook(resources=INLINE)\\n\"+\n",
       "     \"</code>\\n\"+\n",
       "     \"</div>\"}};\n",
       "\n",
       "  function display_loaded() {\n",
       "    if (window.Bokeh !== undefined) {\n",
       "      Bokeh.$(\"#c6289e64-189d-4236-a670-421feb29b434\").text(\"BokehJS successfully loaded.\");\n",
       "    } else if (Date.now() < window._bokeh_timeout) {\n",
       "      setTimeout(display_loaded, 100)\n",
       "    }\n",
       "  }\n",
       "\n",
       "  function run_callbacks() {\n",
       "    window._bokeh_onload_callbacks.forEach(function(callback) { callback() });\n",
       "    delete window._bokeh_onload_callbacks\n",
       "    console.info(\"Bokeh: all callbacks have finished\");\n",
       "  }\n",
       "\n",
       "  function load_libs(js_urls, callback) {\n",
       "    window._bokeh_onload_callbacks.push(callback);\n",
       "    if (window._bokeh_is_loading > 0) {\n",
       "      console.log(\"Bokeh: BokehJS is being loaded, scheduling callback at\", now());\n",
       "      return null;\n",
       "    }\n",
       "    if (js_urls == null || js_urls.length === 0) {\n",
       "      run_callbacks();\n",
       "      return null;\n",
       "    }\n",
       "    console.log(\"Bokeh: BokehJS not loaded, scheduling load and callback at\", now());\n",
       "    window._bokeh_is_loading = js_urls.length;\n",
       "    for (var i = 0; i < js_urls.length; i++) {\n",
       "      var url = js_urls[i];\n",
       "      var s = document.createElement('script');\n",
       "      s.src = url;\n",
       "      s.async = false;\n",
       "      s.onreadystatechange = s.onload = function() {\n",
       "        window._bokeh_is_loading--;\n",
       "        if (window._bokeh_is_loading === 0) {\n",
       "          console.log(\"Bokeh: all BokehJS libraries loaded\");\n",
       "          run_callbacks()\n",
       "        }\n",
       "      };\n",
       "      s.onerror = function() {\n",
       "        console.warn(\"failed to load library \" + url);\n",
       "      };\n",
       "      console.log(\"Bokeh: injecting script tag for BokehJS library: \", url);\n",
       "      document.getElementsByTagName(\"head\")[0].appendChild(s);\n",
       "    }\n",
       "  };var element = document.getElementById(\"c6289e64-189d-4236-a670-421feb29b434\");\n",
       "  if (element == null) {\n",
       "    console.log(\"Bokeh: ERROR: autoload.js configured with elementid 'c6289e64-189d-4236-a670-421feb29b434' but no matching script tag was found. \")\n",
       "    return false;\n",
       "  }\n",
       "\n",
       "  var js_urls = ['https://cdn.pydata.org/bokeh/release/bokeh-0.12.3.min.js', 'https://cdn.pydata.org/bokeh/release/bokeh-widgets-0.12.3.min.js'];\n",
       "\n",
       "  var inline_js = [\n",
       "    function(Bokeh) {\n",
       "      Bokeh.set_log_level(\"info\");\n",
       "    },\n",
       "    \n",
       "    function(Bokeh) {\n",
       "      \n",
       "      Bokeh.$(\"#c6289e64-189d-4236-a670-421feb29b434\").text(\"BokehJS is loading...\");\n",
       "    },\n",
       "    function(Bokeh) {\n",
       "      console.log(\"Bokeh: injecting CSS: https://cdn.pydata.org/bokeh/release/bokeh-0.12.3.min.css\");\n",
       "      Bokeh.embed.inject_css(\"https://cdn.pydata.org/bokeh/release/bokeh-0.12.3.min.css\");\n",
       "      console.log(\"Bokeh: injecting CSS: https://cdn.pydata.org/bokeh/release/bokeh-widgets-0.12.3.min.css\");\n",
       "      Bokeh.embed.inject_css(\"https://cdn.pydata.org/bokeh/release/bokeh-widgets-0.12.3.min.css\");\n",
       "    }\n",
       "  ];\n",
       "\n",
       "  function run_inline_js() {\n",
       "    \n",
       "    if ((window.Bokeh !== undefined) || (force === \"1\")) {\n",
       "      for (var i = 0; i < inline_js.length; i++) {\n",
       "        inline_js[i](window.Bokeh);\n",
       "      }if (force === \"1\") {\n",
       "        display_loaded();\n",
       "      }} else if (Date.now() < window._bokeh_timeout) {\n",
       "      setTimeout(run_inline_js, 100);\n",
       "    } else if (!window._bokeh_failed_load) {\n",
       "      console.log(\"Bokeh: BokehJS failed to load within specified timeout.\");\n",
       "      window._bokeh_failed_load = true;\n",
       "    } else if (!force) {\n",
       "      var cell = $(\"#c6289e64-189d-4236-a670-421feb29b434\").parents('.cell').data().cell;\n",
       "      cell.output_area.append_execute_result(NB_LOAD_WARNING)\n",
       "    }\n",
       "\n",
       "  }\n",
       "\n",
       "  if (window._bokeh_is_loading === 0) {\n",
       "    console.log(\"Bokeh: BokehJS loaded, going straight to plotting\");\n",
       "    run_inline_js();\n",
       "  } else {\n",
       "    load_libs(js_urls, function() {\n",
       "      console.log(\"Bokeh: BokehJS plotting callback run at\", now());\n",
       "      run_inline_js();\n",
       "    });\n",
       "  }\n",
       "}(this));"
      ]
     },
     "metadata": {},
     "output_type": "display_data"
    }
   ],
   "source": [
    "# Custom libraries\n",
    "from datascienceutils import plotter\n",
    "from datascienceutils import analyze\n",
    "\n",
    "# Standard libraries\n",
    "import json\n",
    "%matplotlib inline\n",
    "import datetime\n",
    "import numpy as np\n",
    "import pandas as pd\n",
    "import random\n",
    "\n",
    "\n",
    "from bokeh.plotting import figure, show, output_file, output_notebook, ColumnDataSource\n",
    "from bokeh.charts import Histogram\n",
    "import bokeh\n",
    "output_notebook()\n"
   ]
  },
  {
   "cell_type": "code",
   "execution_count": 4,
   "metadata": {
    "ExecuteTime": {
     "end_time": "2017-11-17T21:57:48.071794",
     "start_time": "2017-11-17T21:57:48.022371"
    },
    "collapsed": false,
    "scrolled": false
   },
   "outputs": [
    {
     "ename": "FileNotFoundError",
     "evalue": "File b'/home/anand/DataScientist/data/metadata.csv' does not exist",
     "output_type": "error",
     "traceback": [
      "\u001b[1;31m---------------------------------------------------------------------------\u001b[0m",
      "\u001b[1;31mFileNotFoundError\u001b[0m                         Traceback (most recent call last)",
      "\u001b[1;32m<ipython-input-4-53544694da68>\u001b[0m in \u001b[0;36m<module>\u001b[1;34m()\u001b[0m\n\u001b[1;32m----> 1\u001b[1;33m \u001b[0mirisDf\u001b[0m \u001b[1;33m=\u001b[0m \u001b[0mpd\u001b[0m\u001b[1;33m.\u001b[0m\u001b[0mread_csv\u001b[0m\u001b[1;33m(\u001b[0m\u001b[1;34m'/home/anand/DataScientist/data/metadata.csv'\u001b[0m\u001b[1;33m)\u001b[0m\u001b[1;33m\u001b[0m\u001b[0m\n\u001b[0m",
      "\u001b[1;32m/home/anand/anaconda3/envs/analytics/lib/python3.5/site-packages/pandas/io/parsers.py\u001b[0m in \u001b[0;36mparser_f\u001b[1;34m(filepath_or_buffer, sep, delimiter, header, names, index_col, usecols, squeeze, prefix, mangle_dupe_cols, dtype, engine, converters, true_values, false_values, skipinitialspace, skiprows, nrows, na_values, keep_default_na, na_filter, verbose, skip_blank_lines, parse_dates, infer_datetime_format, keep_date_col, date_parser, dayfirst, iterator, chunksize, compression, thousands, decimal, lineterminator, quotechar, quoting, escapechar, comment, encoding, dialect, tupleize_cols, error_bad_lines, warn_bad_lines, skipfooter, skip_footer, doublequote, delim_whitespace, as_recarray, compact_ints, use_unsigned, low_memory, buffer_lines, memory_map, float_precision)\u001b[0m\n\u001b[0;32m    653\u001b[0m                     skip_blank_lines=skip_blank_lines)\n\u001b[0;32m    654\u001b[0m \u001b[1;33m\u001b[0m\u001b[0m\n\u001b[1;32m--> 655\u001b[1;33m         \u001b[1;32mreturn\u001b[0m \u001b[0m_read\u001b[0m\u001b[1;33m(\u001b[0m\u001b[0mfilepath_or_buffer\u001b[0m\u001b[1;33m,\u001b[0m \u001b[0mkwds\u001b[0m\u001b[1;33m)\u001b[0m\u001b[1;33m\u001b[0m\u001b[0m\n\u001b[0m\u001b[0;32m    656\u001b[0m \u001b[1;33m\u001b[0m\u001b[0m\n\u001b[0;32m    657\u001b[0m     \u001b[0mparser_f\u001b[0m\u001b[1;33m.\u001b[0m\u001b[0m__name__\u001b[0m \u001b[1;33m=\u001b[0m \u001b[0mname\u001b[0m\u001b[1;33m\u001b[0m\u001b[0m\n",
      "\u001b[1;32m/home/anand/anaconda3/envs/analytics/lib/python3.5/site-packages/pandas/io/parsers.py\u001b[0m in \u001b[0;36m_read\u001b[1;34m(filepath_or_buffer, kwds)\u001b[0m\n\u001b[0;32m    403\u001b[0m \u001b[1;33m\u001b[0m\u001b[0m\n\u001b[0;32m    404\u001b[0m     \u001b[1;31m# Create the parser.\u001b[0m\u001b[1;33m\u001b[0m\u001b[1;33m\u001b[0m\u001b[0m\n\u001b[1;32m--> 405\u001b[1;33m     \u001b[0mparser\u001b[0m \u001b[1;33m=\u001b[0m \u001b[0mTextFileReader\u001b[0m\u001b[1;33m(\u001b[0m\u001b[0mfilepath_or_buffer\u001b[0m\u001b[1;33m,\u001b[0m \u001b[1;33m**\u001b[0m\u001b[0mkwds\u001b[0m\u001b[1;33m)\u001b[0m\u001b[1;33m\u001b[0m\u001b[0m\n\u001b[0m\u001b[0;32m    406\u001b[0m \u001b[1;33m\u001b[0m\u001b[0m\n\u001b[0;32m    407\u001b[0m     \u001b[1;32mif\u001b[0m \u001b[0mchunksize\u001b[0m \u001b[1;32mor\u001b[0m \u001b[0miterator\u001b[0m\u001b[1;33m:\u001b[0m\u001b[1;33m\u001b[0m\u001b[0m\n",
      "\u001b[1;32m/home/anand/anaconda3/envs/analytics/lib/python3.5/site-packages/pandas/io/parsers.py\u001b[0m in \u001b[0;36m__init__\u001b[1;34m(self, f, engine, **kwds)\u001b[0m\n\u001b[0;32m    762\u001b[0m             \u001b[0mself\u001b[0m\u001b[1;33m.\u001b[0m\u001b[0moptions\u001b[0m\u001b[1;33m[\u001b[0m\u001b[1;34m'has_index_names'\u001b[0m\u001b[1;33m]\u001b[0m \u001b[1;33m=\u001b[0m \u001b[0mkwds\u001b[0m\u001b[1;33m[\u001b[0m\u001b[1;34m'has_index_names'\u001b[0m\u001b[1;33m]\u001b[0m\u001b[1;33m\u001b[0m\u001b[0m\n\u001b[0;32m    763\u001b[0m \u001b[1;33m\u001b[0m\u001b[0m\n\u001b[1;32m--> 764\u001b[1;33m         \u001b[0mself\u001b[0m\u001b[1;33m.\u001b[0m\u001b[0m_make_engine\u001b[0m\u001b[1;33m(\u001b[0m\u001b[0mself\u001b[0m\u001b[1;33m.\u001b[0m\u001b[0mengine\u001b[0m\u001b[1;33m)\u001b[0m\u001b[1;33m\u001b[0m\u001b[0m\n\u001b[0m\u001b[0;32m    765\u001b[0m \u001b[1;33m\u001b[0m\u001b[0m\n\u001b[0;32m    766\u001b[0m     \u001b[1;32mdef\u001b[0m \u001b[0mclose\u001b[0m\u001b[1;33m(\u001b[0m\u001b[0mself\u001b[0m\u001b[1;33m)\u001b[0m\u001b[1;33m:\u001b[0m\u001b[1;33m\u001b[0m\u001b[0m\n",
      "\u001b[1;32m/home/anand/anaconda3/envs/analytics/lib/python3.5/site-packages/pandas/io/parsers.py\u001b[0m in \u001b[0;36m_make_engine\u001b[1;34m(self, engine)\u001b[0m\n\u001b[0;32m    983\u001b[0m     \u001b[1;32mdef\u001b[0m \u001b[0m_make_engine\u001b[0m\u001b[1;33m(\u001b[0m\u001b[0mself\u001b[0m\u001b[1;33m,\u001b[0m \u001b[0mengine\u001b[0m\u001b[1;33m=\u001b[0m\u001b[1;34m'c'\u001b[0m\u001b[1;33m)\u001b[0m\u001b[1;33m:\u001b[0m\u001b[1;33m\u001b[0m\u001b[0m\n\u001b[0;32m    984\u001b[0m         \u001b[1;32mif\u001b[0m \u001b[0mengine\u001b[0m \u001b[1;33m==\u001b[0m \u001b[1;34m'c'\u001b[0m\u001b[1;33m:\u001b[0m\u001b[1;33m\u001b[0m\u001b[0m\n\u001b[1;32m--> 985\u001b[1;33m             \u001b[0mself\u001b[0m\u001b[1;33m.\u001b[0m\u001b[0m_engine\u001b[0m \u001b[1;33m=\u001b[0m \u001b[0mCParserWrapper\u001b[0m\u001b[1;33m(\u001b[0m\u001b[0mself\u001b[0m\u001b[1;33m.\u001b[0m\u001b[0mf\u001b[0m\u001b[1;33m,\u001b[0m \u001b[1;33m**\u001b[0m\u001b[0mself\u001b[0m\u001b[1;33m.\u001b[0m\u001b[0moptions\u001b[0m\u001b[1;33m)\u001b[0m\u001b[1;33m\u001b[0m\u001b[0m\n\u001b[0m\u001b[0;32m    986\u001b[0m         \u001b[1;32melse\u001b[0m\u001b[1;33m:\u001b[0m\u001b[1;33m\u001b[0m\u001b[0m\n\u001b[0;32m    987\u001b[0m             \u001b[1;32mif\u001b[0m \u001b[0mengine\u001b[0m \u001b[1;33m==\u001b[0m \u001b[1;34m'python'\u001b[0m\u001b[1;33m:\u001b[0m\u001b[1;33m\u001b[0m\u001b[0m\n",
      "\u001b[1;32m/home/anand/anaconda3/envs/analytics/lib/python3.5/site-packages/pandas/io/parsers.py\u001b[0m in \u001b[0;36m__init__\u001b[1;34m(self, src, **kwds)\u001b[0m\n\u001b[0;32m   1603\u001b[0m         \u001b[0mkwds\u001b[0m\u001b[1;33m[\u001b[0m\u001b[1;34m'allow_leading_cols'\u001b[0m\u001b[1;33m]\u001b[0m \u001b[1;33m=\u001b[0m \u001b[0mself\u001b[0m\u001b[1;33m.\u001b[0m\u001b[0mindex_col\u001b[0m \u001b[1;32mis\u001b[0m \u001b[1;32mnot\u001b[0m \u001b[1;32mFalse\u001b[0m\u001b[1;33m\u001b[0m\u001b[0m\n\u001b[0;32m   1604\u001b[0m \u001b[1;33m\u001b[0m\u001b[0m\n\u001b[1;32m-> 1605\u001b[1;33m         \u001b[0mself\u001b[0m\u001b[1;33m.\u001b[0m\u001b[0m_reader\u001b[0m \u001b[1;33m=\u001b[0m \u001b[0mparsers\u001b[0m\u001b[1;33m.\u001b[0m\u001b[0mTextReader\u001b[0m\u001b[1;33m(\u001b[0m\u001b[0msrc\u001b[0m\u001b[1;33m,\u001b[0m \u001b[1;33m**\u001b[0m\u001b[0mkwds\u001b[0m\u001b[1;33m)\u001b[0m\u001b[1;33m\u001b[0m\u001b[0m\n\u001b[0m\u001b[0;32m   1606\u001b[0m \u001b[1;33m\u001b[0m\u001b[0m\n\u001b[0;32m   1607\u001b[0m         \u001b[1;31m# XXX\u001b[0m\u001b[1;33m\u001b[0m\u001b[1;33m\u001b[0m\u001b[0m\n",
      "\u001b[1;32mpandas/_libs/parsers.pyx\u001b[0m in \u001b[0;36mpandas._libs.parsers.TextReader.__cinit__ (pandas/_libs/parsers.c:4209)\u001b[1;34m()\u001b[0m\n",
      "\u001b[1;32mpandas/_libs/parsers.pyx\u001b[0m in \u001b[0;36mpandas._libs.parsers.TextReader._setup_parser_source (pandas/_libs/parsers.c:8873)\u001b[1;34m()\u001b[0m\n",
      "\u001b[1;31mFileNotFoundError\u001b[0m: File b'/home/anand/DataScientist/data/metadata.csv' does not exist"
     ]
    }
   ],
   "source": [
    "irisDf = pd.read_csv('/home/anand/DataScientist/data/metadata.csv')"
   ]
  },
  {
   "cell_type": "code",
   "execution_count": 4,
   "metadata": {
    "ExecuteTime": {
     "end_time": "2017-02-25T22:42:13.107760",
     "start_time": "2017-02-25T22:42:12.580525"
    },
    "collapsed": false,
    "scrolled": false
   },
   "outputs": [
    {
     "name": "stderr",
     "output_type": "stream",
     "text": [
      "/home/anand/anaconda3/envs/analytics/lib/python3.5/site-packages/numpy/lib/function_base.py:4116: RuntimeWarning: Invalid value encountered in percentile\n",
      "  interpolation=interpolation)\n"
     ]
    },
    {
     "data": {
      "text/html": [
       "<div>\n",
       "<table border=\"1\" class=\"dataframe\">\n",
       "  <thead>\n",
       "    <tr style=\"text-align: right;\">\n",
       "      <th></th>\n",
       "      <th>call_duration</th>\n",
       "      <th>antenna_id</th>\n",
       "    </tr>\n",
       "  </thead>\n",
       "  <tbody>\n",
       "    <tr>\n",
       "      <th>count</th>\n",
       "      <td>342.000000</td>\n",
       "      <td>0.0</td>\n",
       "    </tr>\n",
       "    <tr>\n",
       "      <th>mean</th>\n",
       "      <td>228.997076</td>\n",
       "      <td>NaN</td>\n",
       "    </tr>\n",
       "    <tr>\n",
       "      <th>std</th>\n",
       "      <td>441.944354</td>\n",
       "      <td>NaN</td>\n",
       "    </tr>\n",
       "    <tr>\n",
       "      <th>min</th>\n",
       "      <td>1.000000</td>\n",
       "      <td>NaN</td>\n",
       "    </tr>\n",
       "    <tr>\n",
       "      <th>25%</th>\n",
       "      <td>NaN</td>\n",
       "      <td>NaN</td>\n",
       "    </tr>\n",
       "    <tr>\n",
       "      <th>50%</th>\n",
       "      <td>NaN</td>\n",
       "      <td>NaN</td>\n",
       "    </tr>\n",
       "    <tr>\n",
       "      <th>75%</th>\n",
       "      <td>NaN</td>\n",
       "      <td>NaN</td>\n",
       "    </tr>\n",
       "    <tr>\n",
       "      <th>max</th>\n",
       "      <td>3072.000000</td>\n",
       "      <td>NaN</td>\n",
       "    </tr>\n",
       "  </tbody>\n",
       "</table>\n",
       "</div>"
      ],
      "text/plain": [
       "       call_duration  antenna_id\n",
       "count     342.000000         0.0\n",
       "mean      228.997076         NaN\n",
       "std       441.944354         NaN\n",
       "min         1.000000         NaN\n",
       "25%              NaN         NaN\n",
       "50%              NaN         NaN\n",
       "75%              NaN         NaN\n",
       "max      3072.000000         NaN"
      ]
     },
     "execution_count": 4,
     "metadata": {},
     "output_type": "execute_result"
    }
   ],
   "source": [
    "irisDf.describe()"
   ]
  },
  {
   "cell_type": "code",
   "execution_count": 5,
   "metadata": {
    "ExecuteTime": {
     "end_time": "2017-02-25T22:42:13.241292",
     "start_time": "2017-02-25T22:42:13.110968"
    },
    "collapsed": false,
    "scrolled": false
   },
   "outputs": [
    {
     "data": {
      "text/html": [
       "<div>\n",
       "<table border=\"1\" class=\"dataframe\">\n",
       "  <thead>\n",
       "    <tr style=\"text-align: right;\">\n",
       "      <th></th>\n",
       "      <th>interaction</th>\n",
       "      <th>direction</th>\n",
       "      <th>correspondent_id</th>\n",
       "      <th>datetime</th>\n",
       "      <th>call_duration</th>\n",
       "      <th>antenna_id</th>\n",
       "    </tr>\n",
       "  </thead>\n",
       "  <tbody>\n",
       "    <tr>\n",
       "      <th>0</th>\n",
       "      <td>call</td>\n",
       "      <td>out</td>\n",
       "      <td>+109535800433</td>\n",
       "      <td>2016-10-16 07:34:52</td>\n",
       "      <td>NaN</td>\n",
       "      <td>NaN</td>\n",
       "    </tr>\n",
       "    <tr>\n",
       "      <th>1</th>\n",
       "      <td>call</td>\n",
       "      <td>in</td>\n",
       "      <td>+919486957832</td>\n",
       "      <td>2016-10-16 12:49:40</td>\n",
       "      <td>15.0</td>\n",
       "      <td>NaN</td>\n",
       "    </tr>\n",
       "    <tr>\n",
       "      <th>2</th>\n",
       "      <td>call</td>\n",
       "      <td>in</td>\n",
       "      <td>+914430811100</td>\n",
       "      <td>2016-10-16 14:35:26</td>\n",
       "      <td>101.0</td>\n",
       "      <td>NaN</td>\n",
       "    </tr>\n",
       "    <tr>\n",
       "      <th>3</th>\n",
       "      <td>call</td>\n",
       "      <td>out</td>\n",
       "      <td>+918903421807</td>\n",
       "      <td>2016-10-16 14:37:47</td>\n",
       "      <td>NaN</td>\n",
       "      <td>NaN</td>\n",
       "    </tr>\n",
       "    <tr>\n",
       "      <th>4</th>\n",
       "      <td>call</td>\n",
       "      <td>out</td>\n",
       "      <td>+914634221807</td>\n",
       "      <td>2016-10-16 14:38:30</td>\n",
       "      <td>77.0</td>\n",
       "      <td>NaN</td>\n",
       "    </tr>\n",
       "  </tbody>\n",
       "</table>\n",
       "</div>"
      ],
      "text/plain": [
       "  interaction direction correspondent_id             datetime  call_duration  \\\n",
       "0        call       out    +109535800433  2016-10-16 07:34:52            NaN   \n",
       "1        call        in    +919486957832  2016-10-16 12:49:40           15.0   \n",
       "2        call        in    +914430811100  2016-10-16 14:35:26          101.0   \n",
       "3        call       out    +918903421807  2016-10-16 14:37:47            NaN   \n",
       "4        call       out    +914634221807  2016-10-16 14:38:30           77.0   \n",
       "\n",
       "   antenna_id  \n",
       "0         NaN  \n",
       "1         NaN  \n",
       "2         NaN  \n",
       "3         NaN  \n",
       "4         NaN  "
      ]
     },
     "execution_count": 5,
     "metadata": {},
     "output_type": "execute_result"
    }
   ],
   "source": [
    "irisDf.head()"
   ]
  },
  {
   "cell_type": "code",
   "execution_count": 6,
   "metadata": {
    "ExecuteTime": {
     "end_time": "2017-02-25T22:42:13.427606",
     "start_time": "2017-02-25T22:42:13.244186"
    },
    "collapsed": false
   },
   "outputs": [
    {
     "data": {
      "text/plain": [
       "call_duration    195314.812308\n",
       "antenna_id                 NaN\n",
       "dtype: float64"
      ]
     },
     "execution_count": 6,
     "metadata": {},
     "output_type": "execute_result"
    }
   ],
   "source": [
    "irisDf.var()"
   ]
  },
  {
   "cell_type": "code",
   "execution_count": 7,
   "metadata": {
    "ExecuteTime": {
     "end_time": "2017-02-25T22:42:13.722517",
     "start_time": "2017-02-25T22:42:13.430932"
    },
    "collapsed": false
   },
   "outputs": [
    {
     "data": {
      "text/plain": [
       "call_duration    3.96145\n",
       "antenna_id           NaN\n",
       "dtype: float64"
      ]
     },
     "execution_count": 7,
     "metadata": {},
     "output_type": "execute_result"
    }
   ],
   "source": [
    "irisDf.skew()"
   ]
  },
  {
   "cell_type": "code",
   "execution_count": 8,
   "metadata": {
    "ExecuteTime": {
     "end_time": "2017-02-25T22:42:13.925090",
     "start_time": "2017-02-25T22:42:13.727277"
    },
    "collapsed": false,
    "scrolled": false
   },
   "outputs": [
    {
     "data": {
      "text/html": [
       "<div>\n",
       "<table border=\"1\" class=\"dataframe\">\n",
       "  <thead>\n",
       "    <tr style=\"text-align: right;\">\n",
       "      <th></th>\n",
       "      <th>call_duration</th>\n",
       "      <th>antenna_id</th>\n",
       "    </tr>\n",
       "  </thead>\n",
       "  <tbody>\n",
       "    <tr>\n",
       "      <th>call_duration</th>\n",
       "      <td>1.0</td>\n",
       "      <td>NaN</td>\n",
       "    </tr>\n",
       "    <tr>\n",
       "      <th>antenna_id</th>\n",
       "      <td>NaN</td>\n",
       "      <td>NaN</td>\n",
       "    </tr>\n",
       "  </tbody>\n",
       "</table>\n",
       "</div>"
      ],
      "text/plain": [
       "               call_duration  antenna_id\n",
       "call_duration            1.0         NaN\n",
       "antenna_id               NaN         NaN"
      ]
     },
     "execution_count": 8,
     "metadata": {},
     "output_type": "execute_result"
    }
   ],
   "source": [
    "irisDf.corr()"
   ]
  },
  {
   "cell_type": "code",
   "execution_count": 9,
   "metadata": {
    "ExecuteTime": {
     "end_time": "2017-02-25T22:42:14.133476",
     "start_time": "2017-02-25T22:42:13.926573"
    },
    "collapsed": false,
    "scrolled": false
   },
   "outputs": [
    {
     "data": {
      "text/plain": [
       "Index(['call_duration', 'antenna_id'], dtype='object')"
      ]
     },
     "execution_count": 9,
     "metadata": {},
     "output_type": "execute_result"
    }
   ],
   "source": [
    "irisDf.select_dtypes(include=[np.number]).columns"
   ]
  },
  {
   "cell_type": "code",
   "execution_count": 11,
   "metadata": {
    "ExecuteTime": {
     "end_time": "2017-02-25T22:43:03.564120",
     "start_time": "2017-02-25T22:43:03.482091"
    },
    "collapsed": false,
    "scrolled": false
   },
   "outputs": [
    {
     "name": "stdout",
     "output_type": "stream",
     "text": [
      "# Correlation btw Numerical Columns\n"
     ]
    },
    {
     "data": {
      "text/html": [
       "\n",
       "\n",
       "    <div class=\"bk-root\">\n",
       "        <div class=\"plotdiv\" id=\"b9128272-9889-4c61-88c5-9d0998e05e28\"></div>\n",
       "    </div>\n",
       "<script type=\"text/javascript\">\n",
       "  \n",
       "  (function(global) {\n",
       "    function now() {\n",
       "      return new Date();\n",
       "    }\n",
       "  \n",
       "    var force = \"\";\n",
       "  \n",
       "    if (typeof (window._bokeh_onload_callbacks) === \"undefined\" || force !== \"\") {\n",
       "      window._bokeh_onload_callbacks = [];\n",
       "      window._bokeh_is_loading = undefined;\n",
       "    }\n",
       "  \n",
       "  \n",
       "    \n",
       "    if (typeof (window._bokeh_timeout) === \"undefined\" || force !== \"\") {\n",
       "      window._bokeh_timeout = Date.now() + 0;\n",
       "      window._bokeh_failed_load = false;\n",
       "    }\n",
       "  \n",
       "    var NB_LOAD_WARNING = {'data': {'text/html':\n",
       "       \"<div style='background-color: #fdd'>\\n\"+\n",
       "       \"<p>\\n\"+\n",
       "       \"BokehJS does not appear to have successfully loaded. If loading BokehJS from CDN, this \\n\"+\n",
       "       \"may be due to a slow or bad network connection. Possible fixes:\\n\"+\n",
       "       \"</p>\\n\"+\n",
       "       \"<ul>\\n\"+\n",
       "       \"<li>re-rerun `output_notebook()` to attempt to load from CDN again, or</li>\\n\"+\n",
       "       \"<li>use INLINE resources instead, as so:</li>\\n\"+\n",
       "       \"</ul>\\n\"+\n",
       "       \"<code>\\n\"+\n",
       "       \"from bokeh.resources import INLINE\\n\"+\n",
       "       \"output_notebook(resources=INLINE)\\n\"+\n",
       "       \"</code>\\n\"+\n",
       "       \"</div>\"}};\n",
       "  \n",
       "    function display_loaded() {\n",
       "      if (window.Bokeh !== undefined) {\n",
       "        Bokeh.$(\"#b9128272-9889-4c61-88c5-9d0998e05e28\").text(\"BokehJS successfully loaded.\");\n",
       "      } else if (Date.now() < window._bokeh_timeout) {\n",
       "        setTimeout(display_loaded, 100)\n",
       "      }\n",
       "    }\n",
       "  \n",
       "    function run_callbacks() {\n",
       "      window._bokeh_onload_callbacks.forEach(function(callback) { callback() });\n",
       "      delete window._bokeh_onload_callbacks\n",
       "      console.info(\"Bokeh: all callbacks have finished\");\n",
       "    }\n",
       "  \n",
       "    function load_libs(js_urls, callback) {\n",
       "      window._bokeh_onload_callbacks.push(callback);\n",
       "      if (window._bokeh_is_loading > 0) {\n",
       "        console.log(\"Bokeh: BokehJS is being loaded, scheduling callback at\", now());\n",
       "        return null;\n",
       "      }\n",
       "      if (js_urls == null || js_urls.length === 0) {\n",
       "        run_callbacks();\n",
       "        return null;\n",
       "      }\n",
       "      console.log(\"Bokeh: BokehJS not loaded, scheduling load and callback at\", now());\n",
       "      window._bokeh_is_loading = js_urls.length;\n",
       "      for (var i = 0; i < js_urls.length; i++) {\n",
       "        var url = js_urls[i];\n",
       "        var s = document.createElement('script');\n",
       "        s.src = url;\n",
       "        s.async = false;\n",
       "        s.onreadystatechange = s.onload = function() {\n",
       "          window._bokeh_is_loading--;\n",
       "          if (window._bokeh_is_loading === 0) {\n",
       "            console.log(\"Bokeh: all BokehJS libraries loaded\");\n",
       "            run_callbacks()\n",
       "          }\n",
       "        };\n",
       "        s.onerror = function() {\n",
       "          console.warn(\"failed to load library \" + url);\n",
       "        };\n",
       "        console.log(\"Bokeh: injecting script tag for BokehJS library: \", url);\n",
       "        document.getElementsByTagName(\"head\")[0].appendChild(s);\n",
       "      }\n",
       "    };var element = document.getElementById(\"b9128272-9889-4c61-88c5-9d0998e05e28\");\n",
       "    if (element == null) {\n",
       "      console.log(\"Bokeh: ERROR: autoload.js configured with elementid 'b9128272-9889-4c61-88c5-9d0998e05e28' but no matching script tag was found. \")\n",
       "      return false;\n",
       "    }\n",
       "  \n",
       "    var js_urls = [];\n",
       "  \n",
       "    var inline_js = [\n",
       "      function(Bokeh) {\n",
       "        Bokeh.$(function() {\n",
       "            var docs_json = {\"79242bef-d5f1-4247-9562-6a747a5336c2\":{\"roots\":{\"references\":[{\"attributes\":{\"children\":[{\"id\":\"d68324c2-b9de-466e-b4bd-69927f4aef11\",\"type\":\"Row\"}]},\"id\":\"5633aaf0-ba3d-4e4a-bac6-3c9abe6a36a1\",\"type\":\"Column\"},{\"attributes\":{\"bottom_units\":\"screen\",\"fill_alpha\":{\"value\":0.5},\"fill_color\":{\"value\":\"lightgrey\"},\"left_units\":\"screen\",\"level\":\"overlay\",\"line_alpha\":{\"value\":1.0},\"line_color\":{\"value\":\"black\"},\"line_dash\":[4,4],\"line_width\":{\"value\":2},\"plot\":null,\"render_mode\":\"css\",\"right_units\":\"screen\",\"top_units\":\"screen\"},\"id\":\"22f8dfa7-4e4e-45e6-9a8f-09b5070aeeae\",\"type\":\"BoxAnnotation\"},{\"attributes\":{\"sizing_mode\":\"scale_width\",\"toolbar_location\":\"above\",\"tools\":[{\"id\":\"419e2a5b-fedd-4e18-acbd-f73d7343f910\",\"type\":\"PanTool\"},{\"id\":\"12cfac45-56fe-4de8-8cbc-0692ac11d897\",\"type\":\"WheelZoomTool\"},{\"id\":\"f7806462-e405-4e63-8580-e8d0ff9a2cf1\",\"type\":\"BoxZoomTool\"},{\"id\":\"5d641b76-54e7-4913-a11e-e9b60ded3b4d\",\"type\":\"SaveTool\"},{\"id\":\"ff192718-736e-4d5d-891a-1a951ea60877\",\"type\":\"ResetTool\"},{\"id\":\"1468f8eb-471c-4bf2-abbc-401b1f8b8b4a\",\"type\":\"HelpTool\"}]},\"id\":\"74b98596-4a75-4f56-b000-0f0d70d0e77c\",\"type\":\"ToolbarBox\"},{\"attributes\":{\"plot\":{\"id\":\"77832c40-7370-49c0-beea-32a07a68e30b\",\"subtype\":\"Figure\",\"type\":\"Plot\"}},\"id\":\"ff192718-736e-4d5d-891a-1a951ea60877\",\"type\":\"ResetTool\"},{\"attributes\":{\"fill_color\":{\"value\":\"#1f77b4\"},\"line_color\":{\"value\":\"#1f77b4\"},\"size\":{\"units\":\"screen\",\"value\":5},\"x\":{\"field\":\"x\"},\"y\":{\"field\":\"y\"}},\"id\":\"662ffff7-d7a7-4981-9f5d-ed434b9b61aa\",\"type\":\"Circle\"},{\"attributes\":{\"overlay\":{\"id\":\"22f8dfa7-4e4e-45e6-9a8f-09b5070aeeae\",\"type\":\"BoxAnnotation\"},\"plot\":{\"id\":\"77832c40-7370-49c0-beea-32a07a68e30b\",\"subtype\":\"Figure\",\"type\":\"Plot\"}},\"id\":\"f7806462-e405-4e63-8580-e8d0ff9a2cf1\",\"type\":\"BoxZoomTool\"},{\"attributes\":{\"plot\":{\"id\":\"77832c40-7370-49c0-beea-32a07a68e30b\",\"subtype\":\"Figure\",\"type\":\"Plot\"},\"ticker\":{\"id\":\"130b5046-79df-4063-8a39-7b227c0510b8\",\"type\":\"BasicTicker\"}},\"id\":\"4fa042f6-46d5-47bf-9d96-7a80b4ed90e7\",\"type\":\"Grid\"},{\"attributes\":{\"children\":[{\"id\":\"74b98596-4a75-4f56-b000-0f0d70d0e77c\",\"type\":\"ToolbarBox\"},{\"id\":\"5633aaf0-ba3d-4e4a-bac6-3c9abe6a36a1\",\"type\":\"Column\"}]},\"id\":\"6730cfe0-1eb2-4e53-9de1-df0abff97797\",\"type\":\"Column\"},{\"attributes\":{\"axis_label\":\"antenna_id\",\"formatter\":{\"id\":\"df9dfe7d-021c-49c8-a1da-de6b65f2c0ab\",\"type\":\"BasicTickFormatter\"},\"plot\":{\"id\":\"77832c40-7370-49c0-beea-32a07a68e30b\",\"subtype\":\"Figure\",\"type\":\"Plot\"},\"ticker\":{\"id\":\"bd094ebc-5ae9-4b84-8892-ac16ed20f073\",\"type\":\"BasicTicker\"}},\"id\":\"e6872506-8615-481b-962b-73c22fd65dd7\",\"type\":\"LinearAxis\"},{\"attributes\":{},\"id\":\"0696b996-f274-40a1-b1e9-c0fb3cfd8885\",\"type\":\"BasicTickFormatter\"},{\"attributes\":{\"plot\":null,\"text\":null},\"id\":\"84f468b8-88d8-453f-8623-adc767fd515c\",\"type\":\"Title\"},{\"attributes\":{\"plot\":{\"id\":\"77832c40-7370-49c0-beea-32a07a68e30b\",\"subtype\":\"Figure\",\"type\":\"Plot\"}},\"id\":\"1468f8eb-471c-4bf2-abbc-401b1f8b8b4a\",\"type\":\"HelpTool\"},{\"attributes\":{\"below\":[{\"id\":\"380db0be-2b7f-4c8c-a1f9-6eb86268721b\",\"type\":\"LinearAxis\"}],\"left\":[{\"id\":\"e6872506-8615-481b-962b-73c22fd65dd7\",\"type\":\"LinearAxis\"}],\"plot_height\":300,\"plot_width\":300,\"renderers\":[{\"id\":\"380db0be-2b7f-4c8c-a1f9-6eb86268721b\",\"type\":\"LinearAxis\"},{\"id\":\"4fa042f6-46d5-47bf-9d96-7a80b4ed90e7\",\"type\":\"Grid\"},{\"id\":\"e6872506-8615-481b-962b-73c22fd65dd7\",\"type\":\"LinearAxis\"},{\"id\":\"078cbb6a-14e4-4cb5-bf62-f6da9fb9caf5\",\"type\":\"Grid\"},{\"id\":\"22f8dfa7-4e4e-45e6-9a8f-09b5070aeeae\",\"type\":\"BoxAnnotation\"},{\"id\":\"65b2a3c6-4390-45ca-a3c1-bc2fb79d113a\",\"type\":\"GlyphRenderer\"}],\"title\":{\"id\":\"84f468b8-88d8-453f-8623-adc767fd515c\",\"type\":\"Title\"},\"tool_events\":{\"id\":\"19848da9-35a0-49ec-b3c1-9c4dce8026a6\",\"type\":\"ToolEvents\"},\"toolbar\":{\"id\":\"263be5fb-8923-494b-bc5f-fb2b7264b7c1\",\"type\":\"Toolbar\"},\"toolbar_location\":null,\"x_range\":{\"id\":\"6eecd508-cf0e-4ef1-b2d0-420690fad5f4\",\"type\":\"DataRange1d\"},\"y_range\":{\"id\":\"ab89b8b8-8c0f-4ea9-8828-d69d1a25f645\",\"type\":\"DataRange1d\"}},\"id\":\"77832c40-7370-49c0-beea-32a07a68e30b\",\"subtype\":\"Figure\",\"type\":\"Plot\"},{\"attributes\":{\"callback\":null},\"id\":\"ab89b8b8-8c0f-4ea9-8828-d69d1a25f645\",\"type\":\"DataRange1d\"},{\"attributes\":{},\"id\":\"df9dfe7d-021c-49c8-a1da-de6b65f2c0ab\",\"type\":\"BasicTickFormatter\"},{\"attributes\":{\"data_source\":{\"id\":\"4a60e2dc-6cb4-4a61-8e41-ab262ab896ab\",\"type\":\"ColumnDataSource\"},\"glyph\":{\"id\":\"662ffff7-d7a7-4981-9f5d-ed434b9b61aa\",\"type\":\"Circle\"},\"hover_glyph\":null,\"nonselection_glyph\":{\"id\":\"1159fd08-3440-4d7e-801d-4a03eddaebc1\",\"type\":\"Circle\"},\"selection_glyph\":null},\"id\":\"65b2a3c6-4390-45ca-a3c1-bc2fb79d113a\",\"type\":\"GlyphRenderer\"},{\"attributes\":{\"plot\":{\"id\":\"77832c40-7370-49c0-beea-32a07a68e30b\",\"subtype\":\"Figure\",\"type\":\"Plot\"}},\"id\":\"5d641b76-54e7-4913-a11e-e9b60ded3b4d\",\"type\":\"SaveTool\"},{\"attributes\":{\"callback\":null},\"id\":\"6eecd508-cf0e-4ef1-b2d0-420690fad5f4\",\"type\":\"DataRange1d\"},{\"attributes\":{\"fill_alpha\":{\"value\":0.1},\"fill_color\":{\"value\":\"#1f77b4\"},\"line_alpha\":{\"value\":0.1},\"line_color\":{\"value\":\"#1f77b4\"},\"size\":{\"units\":\"screen\",\"value\":5},\"x\":{\"field\":\"x\"},\"y\":{\"field\":\"y\"}},\"id\":\"1159fd08-3440-4d7e-801d-4a03eddaebc1\",\"type\":\"Circle\"},{\"attributes\":{\"axis_label\":\"call_duration\",\"formatter\":{\"id\":\"0696b996-f274-40a1-b1e9-c0fb3cfd8885\",\"type\":\"BasicTickFormatter\"},\"plot\":{\"id\":\"77832c40-7370-49c0-beea-32a07a68e30b\",\"subtype\":\"Figure\",\"type\":\"Plot\"},\"ticker\":{\"id\":\"130b5046-79df-4063-8a39-7b227c0510b8\",\"type\":\"BasicTicker\"}},\"id\":\"380db0be-2b7f-4c8c-a1f9-6eb86268721b\",\"type\":\"LinearAxis\"},{\"attributes\":{},\"id\":\"19848da9-35a0-49ec-b3c1-9c4dce8026a6\",\"type\":\"ToolEvents\"},{\"attributes\":{\"active_drag\":\"auto\",\"active_scroll\":\"auto\",\"active_tap\":\"auto\",\"tools\":[{\"id\":\"419e2a5b-fedd-4e18-acbd-f73d7343f910\",\"type\":\"PanTool\"},{\"id\":\"12cfac45-56fe-4de8-8cbc-0692ac11d897\",\"type\":\"WheelZoomTool\"},{\"id\":\"f7806462-e405-4e63-8580-e8d0ff9a2cf1\",\"type\":\"BoxZoomTool\"},{\"id\":\"5d641b76-54e7-4913-a11e-e9b60ded3b4d\",\"type\":\"SaveTool\"},{\"id\":\"ff192718-736e-4d5d-891a-1a951ea60877\",\"type\":\"ResetTool\"},{\"id\":\"1468f8eb-471c-4bf2-abbc-401b1f8b8b4a\",\"type\":\"HelpTool\"}]},\"id\":\"263be5fb-8923-494b-bc5f-fb2b7264b7c1\",\"type\":\"Toolbar\"},{\"attributes\":{},\"id\":\"bd094ebc-5ae9-4b84-8892-ac16ed20f073\",\"type\":\"BasicTicker\"},{\"attributes\":{\"plot\":{\"id\":\"77832c40-7370-49c0-beea-32a07a68e30b\",\"subtype\":\"Figure\",\"type\":\"Plot\"}},\"id\":\"419e2a5b-fedd-4e18-acbd-f73d7343f910\",\"type\":\"PanTool\"},{\"attributes\":{\"dimension\":1,\"plot\":{\"id\":\"77832c40-7370-49c0-beea-32a07a68e30b\",\"subtype\":\"Figure\",\"type\":\"Plot\"},\"ticker\":{\"id\":\"bd094ebc-5ae9-4b84-8892-ac16ed20f073\",\"type\":\"BasicTicker\"}},\"id\":\"078cbb6a-14e4-4cb5-bf62-f6da9fb9caf5\",\"type\":\"Grid\"},{\"attributes\":{\"plot\":{\"id\":\"77832c40-7370-49c0-beea-32a07a68e30b\",\"subtype\":\"Figure\",\"type\":\"Plot\"}},\"id\":\"12cfac45-56fe-4de8-8cbc-0692ac11d897\",\"type\":\"WheelZoomTool\"},{\"attributes\":{\"children\":[{\"id\":\"77832c40-7370-49c0-beea-32a07a68e30b\",\"subtype\":\"Figure\",\"type\":\"Plot\"}]},\"id\":\"d68324c2-b9de-466e-b4bd-69927f4aef11\",\"type\":\"Row\"},{\"attributes\":{},\"id\":\"130b5046-79df-4063-8a39-7b227c0510b8\",\"type\":\"BasicTicker\"},{\"attributes\":{\"callback\":null,\"column_names\":[\"y\",\"x\"],\"data\":{\"x\":[\"NaN\",15.0,101.0,\"NaN\",77.0,172.0,\"NaN\",\"NaN\",35.0,\"NaN\",\"NaN\",10.0,25.0,\"NaN\",\"NaN\",\"NaN\",159.0,1.0,\"NaN\",7.0,\"NaN\",\"NaN\",575.0,49.0,\"NaN\",\"NaN\",\"NaN\",\"NaN\",100.0,69.0,6.0,34.0,140.0,\"NaN\",\"NaN\",\"NaN\",52.0,232.0,\"NaN\",\"NaN\",\"NaN\",\"NaN\",\"NaN\",\"NaN\",255.0,\"NaN\",\"NaN\",\"NaN\",\"NaN\",24.0,\"NaN\",57.0,\"NaN\",\"NaN\",\"NaN\",\"NaN\",\"NaN\",\"NaN\",\"NaN\",\"NaN\",321.0,101.0,26.0,414.0,\"NaN\",\"NaN\",\"NaN\",1066.0,\"NaN\",\"NaN\",\"NaN\",\"NaN\",\"NaN\",\"NaN\",30.0,17.0,63.0,107.0,489.0,\"NaN\",\"NaN\",\"NaN\",472.0,\"NaN\",\"NaN\",128.0,\"NaN\",\"NaN\",\"NaN\",\"NaN\",\"NaN\",829.0,19.0,\"NaN\",\"NaN\",18.0,49.0,\"NaN\",211.0,\"NaN\",28.0,\"NaN\",\"NaN\",\"NaN\",\"NaN\",\"NaN\",\"NaN\",\"NaN\",\"NaN\",\"NaN\",\"NaN\",\"NaN\",\"NaN\",\"NaN\",\"NaN\",\"NaN\",\"NaN\",\"NaN\",\"NaN\",\"NaN\",\"NaN\",\"NaN\",\"NaN\",\"NaN\",115.0,\"NaN\",335.0,\"NaN\",\"NaN\",\"NaN\",512.0,\"NaN\",\"NaN\",\"NaN\",120.0,\"NaN\",\"NaN\",44.0,\"NaN\",\"NaN\",\"NaN\",\"NaN\",\"NaN\",\"NaN\",\"NaN\",\"NaN\",\"NaN\",139.0,36.0,1.0,\"NaN\",\"NaN\",\"NaN\",73.0,\"NaN\",\"NaN\",\"NaN\",\"NaN\",\"NaN\",\"NaN\",\"NaN\",\"NaN\",\"NaN\",\"NaN\",\"NaN\",\"NaN\",647.0,\"NaN\",\"NaN\",\"NaN\",\"NaN\",\"NaN\",\"NaN\",\"NaN\",\"NaN\",\"NaN\",\"NaN\",369.0,\"NaN\",\"NaN\",\"NaN\",\"NaN\",\"NaN\",\"NaN\",\"NaN\",\"NaN\",\"NaN\",\"NaN\",\"NaN\",\"NaN\",68.0,\"NaN\",\"NaN\",\"NaN\",51.0,13.0,\"NaN\",\"NaN\",43.0,\"NaN\",\"NaN\",\"NaN\",\"NaN\",\"NaN\",\"NaN\",\"NaN\",\"NaN\",\"NaN\",\"NaN\",\"NaN\",\"NaN\",\"NaN\",52.0,\"NaN\",\"NaN\",12.0,\"NaN\",\"NaN\",\"NaN\",\"NaN\",\"NaN\",\"NaN\",\"NaN\",\"NaN\",\"NaN\",113.0,27.0,\"NaN\",\"NaN\",\"NaN\",\"NaN\",\"NaN\",\"NaN\",\"NaN\",\"NaN\",\"NaN\",22.0,\"NaN\",\"NaN\",\"NaN\",396.0,25.0,\"NaN\",\"NaN\",\"NaN\",\"NaN\",\"NaN\",\"NaN\",\"NaN\",\"NaN\",\"NaN\",20.0,\"NaN\",\"NaN\",\"NaN\",\"NaN\",\"NaN\",\"NaN\",138.0,3.0,\"NaN\",\"NaN\",\"NaN\",\"NaN\",\"NaN\",\"NaN\",\"NaN\",\"NaN\",\"NaN\",\"NaN\",\"NaN\",\"NaN\",\"NaN\",\"NaN\",\"NaN\",75.0,\"NaN\",35.0,32.0,92.0,\"NaN\",\"NaN\",18.0,\"NaN\",\"NaN\",28.0,\"NaN\",\"NaN\",\"NaN\",\"NaN\",\"NaN\",\"NaN\",\"NaN\",\"NaN\",25.0,\"NaN\",\"NaN\",\"NaN\",\"NaN\",\"NaN\",\"NaN\",\"NaN\",\"NaN\",\"NaN\",\"NaN\",18.0,\"NaN\",\"NaN\",\"NaN\",\"NaN\",\"NaN\",\"NaN\",\"NaN\",\"NaN\",\"NaN\",\"NaN\",\"NaN\",\"NaN\",\"NaN\",\"NaN\",\"NaN\",\"NaN\",\"NaN\",\"NaN\",\"NaN\",\"NaN\",\"NaN\",70.0,\"NaN\",\"NaN\",\"NaN\",\"NaN\",\"NaN\",\"NaN\",\"NaN\",\"NaN\",\"NaN\",\"NaN\",5.0,9.0,32.0,23.0,168.0,\"NaN\",31.0,\"NaN\",\"NaN\",\"NaN\",\"NaN\",\"NaN\",\"NaN\",\"NaN\",\"NaN\",\"NaN\",82.0,\"NaN\",\"NaN\",\"NaN\",\"NaN\",44.0,\"NaN\",152.0,\"NaN\",53.0,\"NaN\",\"NaN\",\"NaN\",156.0,\"NaN\",\"NaN\",\"NaN\",73.0,\"NaN\",39.0,\"NaN\",\"NaN\",\"NaN\",\"NaN\",\"NaN\",\"NaN\",\"NaN\",\"NaN\",26.0,166.0,\"NaN\",1522.0,\"NaN\",\"NaN\",\"NaN\",\"NaN\",\"NaN\",\"NaN\",\"NaN\",\"NaN\",\"NaN\",\"NaN\",\"NaN\",\"NaN\",\"NaN\",37.0,\"NaN\",60.0,22.0,\"NaN\",283.0,\"NaN\",\"NaN\",\"NaN\",\"NaN\",\"NaN\",\"NaN\",\"NaN\",\"NaN\",\"NaN\",\"NaN\",235.0,10.0,\"NaN\",41.0,\"NaN\",\"NaN\",\"NaN\",\"NaN\",58.0,\"NaN\",\"NaN\",\"NaN\",54.0,493.0,\"NaN\",\"NaN\",\"NaN\",\"NaN\",\"NaN\",\"NaN\",\"NaN\",\"NaN\",\"NaN\",\"NaN\",\"NaN\",\"NaN\",39.0,434.0,\"NaN\",\"NaN\",\"NaN\",\"NaN\",\"NaN\",\"NaN\",\"NaN\",\"NaN\",\"NaN\",\"NaN\",\"NaN\",\"NaN\",\"NaN\",\"NaN\",\"NaN\",\"NaN\",\"NaN\",\"NaN\",\"NaN\",\"NaN\",\"NaN\",\"NaN\",\"NaN\",102.0,\"NaN\",\"NaN\",\"NaN\",\"NaN\",72.0,31.0,22.0,\"NaN\",\"NaN\",\"NaN\",\"NaN\",\"NaN\",\"NaN\",\"NaN\",\"NaN\",\"NaN\",\"NaN\",\"NaN\",\"NaN\",\"NaN\",\"NaN\",64.0,\"NaN\",\"NaN\",\"NaN\",\"NaN\",332.0,1825.0,\"NaN\",\"NaN\",43.0,853.0,140.0,\"NaN\",\"NaN\",\"NaN\",\"NaN\",\"NaN\",\"NaN\",\"NaN\",47.0,\"NaN\",\"NaN\",\"NaN\",\"NaN\",\"NaN\",108.0,119.0,\"NaN\",\"NaN\",\"NaN\",\"NaN\",\"NaN\",177.0,\"NaN\",\"NaN\",\"NaN\",\"NaN\",\"NaN\",\"NaN\",\"NaN\",\"NaN\",\"NaN\",\"NaN\",\"NaN\",\"NaN\",\"NaN\",\"NaN\",\"NaN\",506.0,\"NaN\",\"NaN\",\"NaN\",\"NaN\",\"NaN\",52.0,\"NaN\",\"NaN\",154.0,\"NaN\",\"NaN\",\"NaN\",\"NaN\",77.0,\"NaN\",\"NaN\",\"NaN\",\"NaN\",\"NaN\",\"NaN\",\"NaN\",\"NaN\",\"NaN\",\"NaN\",13.0,\"NaN\",\"NaN\",949.0,\"NaN\",\"NaN\",\"NaN\",\"NaN\",\"NaN\",\"NaN\",\"NaN\",\"NaN\",\"NaN\",\"NaN\",\"NaN\",23.0,\"NaN\",121.0,\"NaN\",\"NaN\",\"NaN\",\"NaN\",\"NaN\",\"NaN\",\"NaN\",9.0,\"NaN\",\"NaN\",\"NaN\",\"NaN\",\"NaN\",\"NaN\",\"NaN\",\"NaN\",\"NaN\",\"NaN\",\"NaN\",\"NaN\",\"NaN\",\"NaN\",\"NaN\",\"NaN\",\"NaN\",\"NaN\",\"NaN\",\"NaN\",\"NaN\",\"NaN\",30.0,\"NaN\",\"NaN\",88.0,17.0,\"NaN\",\"NaN\",\"NaN\",\"NaN\",\"NaN\",\"NaN\",\"NaN\",49.0,\"NaN\",\"NaN\",\"NaN\",\"NaN\",\"NaN\",\"NaN\",\"NaN\",\"NaN\",\"NaN\",\"NaN\",\"NaN\",\"NaN\",\"NaN\",\"NaN\",\"NaN\",\"NaN\",\"NaN\",\"NaN\",\"NaN\",\"NaN\",\"NaN\",\"NaN\",\"NaN\",\"NaN\",\"NaN\",\"NaN\",\"NaN\",\"NaN\",\"NaN\",\"NaN\",\"NaN\",\"NaN\",\"NaN\",\"NaN\",\"NaN\",\"NaN\",\"NaN\",\"NaN\",\"NaN\",\"NaN\",91.0,\"NaN\",\"NaN\",\"NaN\",\"NaN\",\"NaN\",\"NaN\",\"NaN\",\"NaN\",\"NaN\",\"NaN\",\"NaN\",\"NaN\",\"NaN\",\"NaN\",\"NaN\",\"NaN\",\"NaN\",\"NaN\",\"NaN\",\"NaN\",\"NaN\",\"NaN\",\"NaN\",\"NaN\",\"NaN\",\"NaN\",\"NaN\",46.0,38.0,\"NaN\",\"NaN\",\"NaN\",\"NaN\",\"NaN\",\"NaN\",63.0,\"NaN\",40.0,\"NaN\",\"NaN\",\"NaN\",\"NaN\",\"NaN\",\"NaN\",\"NaN\",\"NaN\",\"NaN\",\"NaN\",\"NaN\",22.0,\"NaN\",10.0,\"NaN\",\"NaN\",\"NaN\",\"NaN\",\"NaN\",\"NaN\",\"NaN\",\"NaN\",51.0,\"NaN\",\"NaN\",\"NaN\",\"NaN\",\"NaN\",\"NaN\",\"NaN\",140.0,\"NaN\",\"NaN\",\"NaN\",\"NaN\",\"NaN\",6.0,\"NaN\",\"NaN\",\"NaN\",\"NaN\",\"NaN\",\"NaN\",\"NaN\",\"NaN\",\"NaN\",114.0,\"NaN\",\"NaN\",\"NaN\",38.0,\"NaN\",\"NaN\",\"NaN\",\"NaN\",\"NaN\",47.0,\"NaN\",\"NaN\",48.0,50.0,\"NaN\",\"NaN\",\"NaN\",\"NaN\",\"NaN\",\"NaN\",\"NaN\",41.0,\"NaN\",7.0,\"NaN\",22.0,\"NaN\",\"NaN\",\"NaN\",38.0,\"NaN\",40.0,14.0,8.0,\"NaN\",\"NaN\",\"NaN\",\"NaN\",\"NaN\",\"NaN\",\"NaN\",\"NaN\",\"NaN\",\"NaN\",\"NaN\",\"NaN\",\"NaN\",\"NaN\",\"NaN\",\"NaN\",\"NaN\",\"NaN\",\"NaN\",\"NaN\",\"NaN\",\"NaN\",\"NaN\",\"NaN\",\"NaN\",\"NaN\",\"NaN\",\"NaN\",\"NaN\",\"NaN\",\"NaN\",\"NaN\",427.0,129.0,\"NaN\",262.0,221.0,\"NaN\",\"NaN\",\"NaN\",\"NaN\",\"NaN\",\"NaN\",\"NaN\",\"NaN\",\"NaN\",64.0,\"NaN\",\"NaN\",\"NaN\",1.0,1.0,\"NaN\",\"NaN\",\"NaN\",87.0,\"NaN\",\"NaN\",\"NaN\",\"NaN\",\"NaN\",\"NaN\",\"NaN\",\"NaN\",\"NaN\",\"NaN\",\"NaN\",\"NaN\",\"NaN\",\"NaN\",\"NaN\",303.0,\"NaN\",\"NaN\",\"NaN\",\"NaN\",\"NaN\",\"NaN\",\"NaN\",\"NaN\",\"NaN\",\"NaN\",\"NaN\",\"NaN\",\"NaN\",\"NaN\",\"NaN\",\"NaN\",\"NaN\",\"NaN\",118.0,413.0,89.0,27.0,\"NaN\",\"NaN\",\"NaN\",\"NaN\",\"NaN\",\"NaN\",\"NaN\",\"NaN\",\"NaN\",\"NaN\",\"NaN\",322.0,73.0,45.0,38.0,\"NaN\",\"NaN\",586.0,\"NaN\",\"NaN\",\"NaN\",\"NaN\",117.0,\"NaN\",\"NaN\",81.0,141.0,\"NaN\",\"NaN\",\"NaN\",\"NaN\",\"NaN\",\"NaN\",45.0,\"NaN\",110.0,\"NaN\",\"NaN\",286.0,\"NaN\",\"NaN\",221.0,\"NaN\",\"NaN\",\"NaN\",\"NaN\",88.0,\"NaN\",\"NaN\",\"NaN\",\"NaN\",\"NaN\",\"NaN\",\"NaN\",\"NaN\",\"NaN\",\"NaN\",\"NaN\",\"NaN\",\"NaN\",\"NaN\",\"NaN\",\"NaN\",\"NaN\",\"NaN\",\"NaN\",\"NaN\",\"NaN\",\"NaN\",\"NaN\",\"NaN\",\"NaN\",\"NaN\",\"NaN\",\"NaN\",68.0,\"NaN\",\"NaN\",\"NaN\",\"NaN\",\"NaN\",150.0,43.0,\"NaN\",\"NaN\",\"NaN\",\"NaN\",\"NaN\",\"NaN\",\"NaN\",\"NaN\",\"NaN\",\"NaN\",\"NaN\",\"NaN\",\"NaN\",\"NaN\",\"NaN\",\"NaN\",\"NaN\",\"NaN\",\"NaN\",\"NaN\",\"NaN\",\"NaN\",\"NaN\",\"NaN\",\"NaN\",\"NaN\",94.0,14.0,\"NaN\",131.0,\"NaN\",\"NaN\",\"NaN\",\"NaN\",\"NaN\",\"NaN\",\"NaN\",\"NaN\",\"NaN\",\"NaN\",\"NaN\",\"NaN\",\"NaN\",\"NaN\",\"NaN\",\"NaN\",\"NaN\",\"NaN\",370.0,2559.0,271.0,\"NaN\",\"NaN\",\"NaN\",\"NaN\",\"NaN\",\"NaN\",\"NaN\",\"NaN\",\"NaN\",\"NaN\",\"NaN\",\"NaN\",\"NaN\",\"NaN\",\"NaN\",\"NaN\",\"NaN\",\"NaN\",\"NaN\",\"NaN\",\"NaN\",\"NaN\",\"NaN\",\"NaN\",45.0,\"NaN\",\"NaN\",\"NaN\",\"NaN\",\"NaN\",\"NaN\",\"NaN\",\"NaN\",\"NaN\",\"NaN\",\"NaN\",\"NaN\",\"NaN\",\"NaN\",\"NaN\",8.0,141.0,\"NaN\",\"NaN\",\"NaN\",\"NaN\",\"NaN\",\"NaN\",2981.0,34.0,\"NaN\",27.0,\"NaN\",\"NaN\",\"NaN\",\"NaN\",\"NaN\",\"NaN\",\"NaN\",104.0,8.0,\"NaN\",\"NaN\",34.0,44.0,\"NaN\",\"NaN\",\"NaN\",\"NaN\",166.0,434.0,35.0,\"NaN\",41.0,34.0,154.0,26.0,\"NaN\",\"NaN\",\"NaN\",\"NaN\",\"NaN\",\"NaN\",\"NaN\",66.0,\"NaN\",\"NaN\",\"NaN\",23.0,\"NaN\",183.0,\"NaN\",33.0,\"NaN\",\"NaN\",\"NaN\",\"NaN\",\"NaN\",\"NaN\",\"NaN\",\"NaN\",\"NaN\",\"NaN\",\"NaN\",\"NaN\",\"NaN\",\"NaN\",\"NaN\",105.0,27.0,\"NaN\",\"NaN\",\"NaN\",\"NaN\",53.0,\"NaN\",\"NaN\",\"NaN\",\"NaN\",\"NaN\",\"NaN\",\"NaN\",\"NaN\",\"NaN\",\"NaN\",\"NaN\",\"NaN\",\"NaN\",\"NaN\",\"NaN\",\"NaN\",\"NaN\",\"NaN\",\"NaN\",497.0,\"NaN\",135.0,\"NaN\",\"NaN\",\"NaN\",\"NaN\",\"NaN\",\"NaN\",\"NaN\",\"NaN\",\"NaN\",\"NaN\",\"NaN\",61.0,68.0,121.0,\"NaN\",\"NaN\",\"NaN\",\"NaN\",\"NaN\",\"NaN\",173.0,\"NaN\",16.0,\"NaN\",19.0,\"NaN\",83.0,138.0,1227.0,32.0,\"NaN\",\"NaN\",\"NaN\",\"NaN\",\"NaN\",\"NaN\",\"NaN\",\"NaN\",\"NaN\",\"NaN\",\"NaN\",\"NaN\",\"NaN\",\"NaN\",\"NaN\",\"NaN\",\"NaN\",\"NaN\",\"NaN\",138.0,43.0,13.0,\"NaN\",96.0,\"NaN\",\"NaN\",138.0,\"NaN\",\"NaN\",\"NaN\",425.0,3072.0,13.0,\"NaN\",\"NaN\",63.0,140.0,251.0,115.0,\"NaN\",\"NaN\",\"NaN\",\"NaN\",\"NaN\",\"NaN\",\"NaN\",\"NaN\",\"NaN\",\"NaN\",\"NaN\",\"NaN\",\"NaN\",\"NaN\",\"NaN\",\"NaN\",\"NaN\",30.0,\"NaN\",782.0,\"NaN\",\"NaN\",\"NaN\",22.0,\"NaN\",\"NaN\",\"NaN\",\"NaN\",\"NaN\",\"NaN\",880.0,40.0,1793.0,76.0,\"NaN\",\"NaN\",\"NaN\",\"NaN\",\"NaN\",\"NaN\",\"NaN\",\"NaN\",57.0,5.0,\"NaN\",\"NaN\",9.0,\"NaN\",15.0,\"NaN\",\"NaN\",\"NaN\",\"NaN\",\"NaN\",\"NaN\",\"NaN\",\"NaN\",\"NaN\",45.0,\"NaN\",\"NaN\",18.0,\"NaN\",\"NaN\",\"NaN\",\"NaN\",\"NaN\",\"NaN\",54.0,\"NaN\",2077.0,\"NaN\",\"NaN\",\"NaN\",\"NaN\",\"NaN\",19.0,39.0,\"NaN\",33.0,\"NaN\",29.0,\"NaN\",514.0,\"NaN\",\"NaN\",\"NaN\",\"NaN\",\"NaN\",\"NaN\",\"NaN\",\"NaN\",\"NaN\",\"NaN\",308.0,\"NaN\",\"NaN\",\"NaN\",\"NaN\",\"NaN\",\"NaN\",\"NaN\",4.0,\"NaN\",\"NaN\",24.0,\"NaN\",\"NaN\",\"NaN\",346.0,2329.0,\"NaN\",\"NaN\",\"NaN\",122.0,77.0,24.0,\"NaN\",\"NaN\",\"NaN\",\"NaN\",\"NaN\",\"NaN\",\"NaN\",\"NaN\",\"NaN\",\"NaN\",\"NaN\",\"NaN\",\"NaN\",4.0,\"NaN\",140.0,1093.0,16.0,\"NaN\",365.0,2524.0,\"NaN\",\"NaN\",94.0,\"NaN\",\"NaN\",\"NaN\",\"NaN\",\"NaN\",76.0,\"NaN\",\"NaN\",\"NaN\",\"NaN\",\"NaN\",\"NaN\",\"NaN\",\"NaN\",\"NaN\",448.0,\"NaN\",\"NaN\",72.0,\"NaN\",\"NaN\",\"NaN\",\"NaN\",133.0,\"NaN\",\"NaN\",\"NaN\",49.0,698.0,654.0,386.0,100.0,\"NaN\",\"NaN\",\"NaN\",\"NaN\",\"NaN\",147.0,\"NaN\",\"NaN\",\"NaN\",\"NaN\",116.0,\"NaN\",\"NaN\",\"NaN\",\"NaN\",\"NaN\",282.0,432.0,\"NaN\",\"NaN\",\"NaN\",\"NaN\",\"NaN\",\"NaN\",\"NaN\",\"NaN\",\"NaN\",\"NaN\",\"NaN\",720.0,\"NaN\",\"NaN\",\"NaN\",\"NaN\",\"NaN\",\"NaN\",\"NaN\",211.0,41.0,\"NaN\",\"NaN\",\"NaN\",\"NaN\",254.0,\"NaN\",\"NaN\",\"NaN\",\"NaN\",\"NaN\",\"NaN\",\"NaN\",\"NaN\",\"NaN\",\"NaN\",\"NaN\",\"NaN\",\"NaN\",\"NaN\",20.0,\"NaN\",\"NaN\",\"NaN\",\"NaN\",\"NaN\",\"NaN\",\"NaN\",\"NaN\",\"NaN\",82.0,\"NaN\",\"NaN\",\"NaN\",\"NaN\",234.0,16.0,\"NaN\",\"NaN\",58.0,\"NaN\",311.0,\"NaN\",\"NaN\",\"NaN\",153.0,\"NaN\",69.0,\"NaN\",\"NaN\",\"NaN\",\"NaN\",\"NaN\",\"NaN\",\"NaN\",\"NaN\",\"NaN\",\"NaN\",\"NaN\",\"NaN\",\"NaN\",\"NaN\",\"NaN\",\"NaN\",\"NaN\",\"NaN\",\"NaN\",\"NaN\",\"NaN\",50.0,\"NaN\",\"NaN\",\"NaN\",\"NaN\",\"NaN\",\"NaN\",\"NaN\",\"NaN\",\"NaN\",\"NaN\",\"NaN\",\"NaN\",\"NaN\",\"NaN\",\"NaN\",\"NaN\",137.0,\"NaN\",\"NaN\",\"NaN\",\"NaN\",\"NaN\",\"NaN\",\"NaN\",\"NaN\",\"NaN\",\"NaN\",317.0,\"NaN\",\"NaN\",\"NaN\",\"NaN\",\"NaN\",\"NaN\",\"NaN\",\"NaN\",\"NaN\",\"NaN\",\"NaN\",\"NaN\",\"NaN\",\"NaN\",\"NaN\",\"NaN\",\"NaN\",\"NaN\",\"NaN\",\"NaN\",\"NaN\",\"NaN\",\"NaN\",\"NaN\",\"NaN\",\"NaN\",\"NaN\",\"NaN\",\"NaN\",\"NaN\",\"NaN\",\"NaN\",\"NaN\",\"NaN\",\"NaN\",\"NaN\",\"NaN\",\"NaN\",\"NaN\",87.0,\"NaN\",390.0,\"NaN\",\"NaN\",\"NaN\",282.0,\"NaN\",\"NaN\",974.0,\"NaN\",\"NaN\",\"NaN\",\"NaN\",\"NaN\",\"NaN\",\"NaN\",\"NaN\",\"NaN\",94.0,179.0,\"NaN\",\"NaN\",\"NaN\",\"NaN\",\"NaN\",\"NaN\",\"NaN\",\"NaN\",\"NaN\",\"NaN\",\"NaN\",\"NaN\",\"NaN\",\"NaN\",\"NaN\",\"NaN\",25.0,42.0,\"NaN\",\"NaN\",1046.0,\"NaN\",148.0,\"NaN\",32.0,36.0,103.0,23.0,\"NaN\",\"NaN\",\"NaN\",332.0,\"NaN\",\"NaN\",591.0,\"NaN\",222.0,\"NaN\",\"NaN\",408.0,\"NaN\",\"NaN\",\"NaN\",\"NaN\",\"NaN\",\"NaN\",\"NaN\",\"NaN\",\"NaN\",\"NaN\",\"NaN\",\"NaN\",1228.0,\"NaN\",\"NaN\",\"NaN\",111.0,\"NaN\",\"NaN\",\"NaN\",2415.0,\"NaN\",\"NaN\",\"NaN\",164.0,\"NaN\",\"NaN\",\"NaN\",\"NaN\",\"NaN\",\"NaN\",\"NaN\",\"NaN\",\"NaN\",\"NaN\",\"NaN\",\"NaN\",61.0,522.0,42.0,\"NaN\",\"NaN\",\"NaN\",\"NaN\",172.0,\"NaN\",\"NaN\",\"NaN\",\"NaN\",\"NaN\",\"NaN\",\"NaN\",33.0,21.0,\"NaN\",\"NaN\",\"NaN\",\"NaN\",\"NaN\",989.0,\"NaN\",\"NaN\",25.0,1998.0,199.0,\"NaN\",\"NaN\",\"NaN\",29.0,429.0,\"NaN\",\"NaN\",\"NaN\",1003.0,273.0,\"NaN\",\"NaN\",\"NaN\",\"NaN\",\"NaN\",\"NaN\",133.0,\"NaN\",\"NaN\",\"NaN\",\"NaN\",\"NaN\",\"NaN\",\"NaN\",\"NaN\",\"NaN\",\"NaN\",\"NaN\",207.0,\"NaN\",144.0,\"NaN\",\"NaN\",\"NaN\",\"NaN\",\"NaN\",\"NaN\",\"NaN\",\"NaN\",\"NaN\",\"NaN\",\"NaN\",193.0,145.0,\"NaN\",\"NaN\",\"NaN\",\"NaN\",\"NaN\",\"NaN\",\"NaN\",\"NaN\",78.0,170.0,\"NaN\",\"NaN\",\"NaN\",\"NaN\",\"NaN\",143.0,\"NaN\",531.0],\"y\":[\"NaN\",\"NaN\",\"NaN\",\"NaN\",\"NaN\",\"NaN\",\"NaN\",\"NaN\",\"NaN\",\"NaN\",\"NaN\",\"NaN\",\"NaN\",\"NaN\",\"NaN\",\"NaN\",\"NaN\",\"NaN\",\"NaN\",\"NaN\",\"NaN\",\"NaN\",\"NaN\",\"NaN\",\"NaN\",\"NaN\",\"NaN\",\"NaN\",\"NaN\",\"NaN\",\"NaN\",\"NaN\",\"NaN\",\"NaN\",\"NaN\",\"NaN\",\"NaN\",\"NaN\",\"NaN\",\"NaN\",\"NaN\",\"NaN\",\"NaN\",\"NaN\",\"NaN\",\"NaN\",\"NaN\",\"NaN\",\"NaN\",\"NaN\",\"NaN\",\"NaN\",\"NaN\",\"NaN\",\"NaN\",\"NaN\",\"NaN\",\"NaN\",\"NaN\",\"NaN\",\"NaN\",\"NaN\",\"NaN\",\"NaN\",\"NaN\",\"NaN\",\"NaN\",\"NaN\",\"NaN\",\"NaN\",\"NaN\",\"NaN\",\"NaN\",\"NaN\",\"NaN\",\"NaN\",\"NaN\",\"NaN\",\"NaN\",\"NaN\",\"NaN\",\"NaN\",\"NaN\",\"NaN\",\"NaN\",\"NaN\",\"NaN\",\"NaN\",\"NaN\",\"NaN\",\"NaN\",\"NaN\",\"NaN\",\"NaN\",\"NaN\",\"NaN\",\"NaN\",\"NaN\",\"NaN\",\"NaN\",\"NaN\",\"NaN\",\"NaN\",\"NaN\",\"NaN\",\"NaN\",\"NaN\",\"NaN\",\"NaN\",\"NaN\",\"NaN\",\"NaN\",\"NaN\",\"NaN\",\"NaN\",\"NaN\",\"NaN\",\"NaN\",\"NaN\",\"NaN\",\"NaN\",\"NaN\",\"NaN\",\"NaN\",\"NaN\",\"NaN\",\"NaN\",\"NaN\",\"NaN\",\"NaN\",\"NaN\",\"NaN\",\"NaN\",\"NaN\",\"NaN\",\"NaN\",\"NaN\",\"NaN\",\"NaN\",\"NaN\",\"NaN\",\"NaN\",\"NaN\",\"NaN\",\"NaN\",\"NaN\",\"NaN\",\"NaN\",\"NaN\",\"NaN\",\"NaN\",\"NaN\",\"NaN\",\"NaN\",\"NaN\",\"NaN\",\"NaN\",\"NaN\",\"NaN\",\"NaN\",\"NaN\",\"NaN\",\"NaN\",\"NaN\",\"NaN\",\"NaN\",\"NaN\",\"NaN\",\"NaN\",\"NaN\",\"NaN\",\"NaN\",\"NaN\",\"NaN\",\"NaN\",\"NaN\",\"NaN\",\"NaN\",\"NaN\",\"NaN\",\"NaN\",\"NaN\",\"NaN\",\"NaN\",\"NaN\",\"NaN\",\"NaN\",\"NaN\",\"NaN\",\"NaN\",\"NaN\",\"NaN\",\"NaN\",\"NaN\",\"NaN\",\"NaN\",\"NaN\",\"NaN\",\"NaN\",\"NaN\",\"NaN\",\"NaN\",\"NaN\",\"NaN\",\"NaN\",\"NaN\",\"NaN\",\"NaN\",\"NaN\",\"NaN\",\"NaN\",\"NaN\",\"NaN\",\"NaN\",\"NaN\",\"NaN\",\"NaN\",\"NaN\",\"NaN\",\"NaN\",\"NaN\",\"NaN\",\"NaN\",\"NaN\",\"NaN\",\"NaN\",\"NaN\",\"NaN\",\"NaN\",\"NaN\",\"NaN\",\"NaN\",\"NaN\",\"NaN\",\"NaN\",\"NaN\",\"NaN\",\"NaN\",\"NaN\",\"NaN\",\"NaN\",\"NaN\",\"NaN\",\"NaN\",\"NaN\",\"NaN\",\"NaN\",\"NaN\",\"NaN\",\"NaN\",\"NaN\",\"NaN\",\"NaN\",\"NaN\",\"NaN\",\"NaN\",\"NaN\",\"NaN\",\"NaN\",\"NaN\",\"NaN\",\"NaN\",\"NaN\",\"NaN\",\"NaN\",\"NaN\",\"NaN\",\"NaN\",\"NaN\",\"NaN\",\"NaN\",\"NaN\",\"NaN\",\"NaN\",\"NaN\",\"NaN\",\"NaN\",\"NaN\",\"NaN\",\"NaN\",\"NaN\",\"NaN\",\"NaN\",\"NaN\",\"NaN\",\"NaN\",\"NaN\",\"NaN\",\"NaN\",\"NaN\",\"NaN\",\"NaN\",\"NaN\",\"NaN\",\"NaN\",\"NaN\",\"NaN\",\"NaN\",\"NaN\",\"NaN\",\"NaN\",\"NaN\",\"NaN\",\"NaN\",\"NaN\",\"NaN\",\"NaN\",\"NaN\",\"NaN\",\"NaN\",\"NaN\",\"NaN\",\"NaN\",\"NaN\",\"NaN\",\"NaN\",\"NaN\",\"NaN\",\"NaN\",\"NaN\",\"NaN\",\"NaN\",\"NaN\",\"NaN\",\"NaN\",\"NaN\",\"NaN\",\"NaN\",\"NaN\",\"NaN\",\"NaN\",\"NaN\",\"NaN\",\"NaN\",\"NaN\",\"NaN\",\"NaN\",\"NaN\",\"NaN\",\"NaN\",\"NaN\",\"NaN\",\"NaN\",\"NaN\",\"NaN\",\"NaN\",\"NaN\",\"NaN\",\"NaN\",\"NaN\",\"NaN\",\"NaN\",\"NaN\",\"NaN\",\"NaN\",\"NaN\",\"NaN\",\"NaN\",\"NaN\",\"NaN\",\"NaN\",\"NaN\",\"NaN\",\"NaN\",\"NaN\",\"NaN\",\"NaN\",\"NaN\",\"NaN\",\"NaN\",\"NaN\",\"NaN\",\"NaN\",\"NaN\",\"NaN\",\"NaN\",\"NaN\",\"NaN\",\"NaN\",\"NaN\",\"NaN\",\"NaN\",\"NaN\",\"NaN\",\"NaN\",\"NaN\",\"NaN\",\"NaN\",\"NaN\",\"NaN\",\"NaN\",\"NaN\",\"NaN\",\"NaN\",\"NaN\",\"NaN\",\"NaN\",\"NaN\",\"NaN\",\"NaN\",\"NaN\",\"NaN\",\"NaN\",\"NaN\",\"NaN\",\"NaN\",\"NaN\",\"NaN\",\"NaN\",\"NaN\",\"NaN\",\"NaN\",\"NaN\",\"NaN\",\"NaN\",\"NaN\",\"NaN\",\"NaN\",\"NaN\",\"NaN\",\"NaN\",\"NaN\",\"NaN\",\"NaN\",\"NaN\",\"NaN\",\"NaN\",\"NaN\",\"NaN\",\"NaN\",\"NaN\",\"NaN\",\"NaN\",\"NaN\",\"NaN\",\"NaN\",\"NaN\",\"NaN\",\"NaN\",\"NaN\",\"NaN\",\"NaN\",\"NaN\",\"NaN\",\"NaN\",\"NaN\",\"NaN\",\"NaN\",\"NaN\",\"NaN\",\"NaN\",\"NaN\",\"NaN\",\"NaN\",\"NaN\",\"NaN\",\"NaN\",\"NaN\",\"NaN\",\"NaN\",\"NaN\",\"NaN\",\"NaN\",\"NaN\",\"NaN\",\"NaN\",\"NaN\",\"NaN\",\"NaN\",\"NaN\",\"NaN\",\"NaN\",\"NaN\",\"NaN\",\"NaN\",\"NaN\",\"NaN\",\"NaN\",\"NaN\",\"NaN\",\"NaN\",\"NaN\",\"NaN\",\"NaN\",\"NaN\",\"NaN\",\"NaN\",\"NaN\",\"NaN\",\"NaN\",\"NaN\",\"NaN\",\"NaN\",\"NaN\",\"NaN\",\"NaN\",\"NaN\",\"NaN\",\"NaN\",\"NaN\",\"NaN\",\"NaN\",\"NaN\",\"NaN\",\"NaN\",\"NaN\",\"NaN\",\"NaN\",\"NaN\",\"NaN\",\"NaN\",\"NaN\",\"NaN\",\"NaN\",\"NaN\",\"NaN\",\"NaN\",\"NaN\",\"NaN\",\"NaN\",\"NaN\",\"NaN\",\"NaN\",\"NaN\",\"NaN\",\"NaN\",\"NaN\",\"NaN\",\"NaN\",\"NaN\",\"NaN\",\"NaN\",\"NaN\",\"NaN\",\"NaN\",\"NaN\",\"NaN\",\"NaN\",\"NaN\",\"NaN\",\"NaN\",\"NaN\",\"NaN\",\"NaN\",\"NaN\",\"NaN\",\"NaN\",\"NaN\",\"NaN\",\"NaN\",\"NaN\",\"NaN\",\"NaN\",\"NaN\",\"NaN\",\"NaN\",\"NaN\",\"NaN\",\"NaN\",\"NaN\",\"NaN\",\"NaN\",\"NaN\",\"NaN\",\"NaN\",\"NaN\",\"NaN\",\"NaN\",\"NaN\",\"NaN\",\"NaN\",\"NaN\",\"NaN\",\"NaN\",\"NaN\",\"NaN\",\"NaN\",\"NaN\",\"NaN\",\"NaN\",\"NaN\",\"NaN\",\"NaN\",\"NaN\",\"NaN\",\"NaN\",\"NaN\",\"NaN\",\"NaN\",\"NaN\",\"NaN\",\"NaN\",\"NaN\",\"NaN\",\"NaN\",\"NaN\",\"NaN\",\"NaN\",\"NaN\",\"NaN\",\"NaN\",\"NaN\",\"NaN\",\"NaN\",\"NaN\",\"NaN\",\"NaN\",\"NaN\",\"NaN\",\"NaN\",\"NaN\",\"NaN\",\"NaN\",\"NaN\",\"NaN\",\"NaN\",\"NaN\",\"NaN\",\"NaN\",\"NaN\",\"NaN\",\"NaN\",\"NaN\",\"NaN\",\"NaN\",\"NaN\",\"NaN\",\"NaN\",\"NaN\",\"NaN\",\"NaN\",\"NaN\",\"NaN\",\"NaN\",\"NaN\",\"NaN\",\"NaN\",\"NaN\",\"NaN\",\"NaN\",\"NaN\",\"NaN\",\"NaN\",\"NaN\",\"NaN\",\"NaN\",\"NaN\",\"NaN\",\"NaN\",\"NaN\",\"NaN\",\"NaN\",\"NaN\",\"NaN\",\"NaN\",\"NaN\",\"NaN\",\"NaN\",\"NaN\",\"NaN\",\"NaN\",\"NaN\",\"NaN\",\"NaN\",\"NaN\",\"NaN\",\"NaN\",\"NaN\",\"NaN\",\"NaN\",\"NaN\",\"NaN\",\"NaN\",\"NaN\",\"NaN\",\"NaN\",\"NaN\",\"NaN\",\"NaN\",\"NaN\",\"NaN\",\"NaN\",\"NaN\",\"NaN\",\"NaN\",\"NaN\",\"NaN\",\"NaN\",\"NaN\",\"NaN\",\"NaN\",\"NaN\",\"NaN\",\"NaN\",\"NaN\",\"NaN\",\"NaN\",\"NaN\",\"NaN\",\"NaN\",\"NaN\",\"NaN\",\"NaN\",\"NaN\",\"NaN\",\"NaN\",\"NaN\",\"NaN\",\"NaN\",\"NaN\",\"NaN\",\"NaN\",\"NaN\",\"NaN\",\"NaN\",\"NaN\",\"NaN\",\"NaN\",\"NaN\",\"NaN\",\"NaN\",\"NaN\",\"NaN\",\"NaN\",\"NaN\",\"NaN\",\"NaN\",\"NaN\",\"NaN\",\"NaN\",\"NaN\",\"NaN\",\"NaN\",\"NaN\",\"NaN\",\"NaN\",\"NaN\",\"NaN\",\"NaN\",\"NaN\",\"NaN\",\"NaN\",\"NaN\",\"NaN\",\"NaN\",\"NaN\",\"NaN\",\"NaN\",\"NaN\",\"NaN\",\"NaN\",\"NaN\",\"NaN\",\"NaN\",\"NaN\",\"NaN\",\"NaN\",\"NaN\",\"NaN\",\"NaN\",\"NaN\",\"NaN\",\"NaN\",\"NaN\",\"NaN\",\"NaN\",\"NaN\",\"NaN\",\"NaN\",\"NaN\",\"NaN\",\"NaN\",\"NaN\",\"NaN\",\"NaN\",\"NaN\",\"NaN\",\"NaN\",\"NaN\",\"NaN\",\"NaN\",\"NaN\",\"NaN\",\"NaN\",\"NaN\",\"NaN\",\"NaN\",\"NaN\",\"NaN\",\"NaN\",\"NaN\",\"NaN\",\"NaN\",\"NaN\",\"NaN\",\"NaN\",\"NaN\",\"NaN\",\"NaN\",\"NaN\",\"NaN\",\"NaN\",\"NaN\",\"NaN\",\"NaN\",\"NaN\",\"NaN\",\"NaN\",\"NaN\",\"NaN\",\"NaN\",\"NaN\",\"NaN\",\"NaN\",\"NaN\",\"NaN\",\"NaN\",\"NaN\",\"NaN\",\"NaN\",\"NaN\",\"NaN\",\"NaN\",\"NaN\",\"NaN\",\"NaN\",\"NaN\",\"NaN\",\"NaN\",\"NaN\",\"NaN\",\"NaN\",\"NaN\",\"NaN\",\"NaN\",\"NaN\",\"NaN\",\"NaN\",\"NaN\",\"NaN\",\"NaN\",\"NaN\",\"NaN\",\"NaN\",\"NaN\",\"NaN\",\"NaN\",\"NaN\",\"NaN\",\"NaN\",\"NaN\",\"NaN\",\"NaN\",\"NaN\",\"NaN\",\"NaN\",\"NaN\",\"NaN\",\"NaN\",\"NaN\",\"NaN\",\"NaN\",\"NaN\",\"NaN\",\"NaN\",\"NaN\",\"NaN\",\"NaN\",\"NaN\",\"NaN\",\"NaN\",\"NaN\",\"NaN\",\"NaN\",\"NaN\",\"NaN\",\"NaN\",\"NaN\",\"NaN\",\"NaN\",\"NaN\",\"NaN\",\"NaN\",\"NaN\",\"NaN\",\"NaN\",\"NaN\",\"NaN\",\"NaN\",\"NaN\",\"NaN\",\"NaN\",\"NaN\",\"NaN\",\"NaN\",\"NaN\",\"NaN\",\"NaN\",\"NaN\",\"NaN\",\"NaN\",\"NaN\",\"NaN\",\"NaN\",\"NaN\",\"NaN\",\"NaN\",\"NaN\",\"NaN\",\"NaN\",\"NaN\",\"NaN\",\"NaN\",\"NaN\",\"NaN\",\"NaN\",\"NaN\",\"NaN\",\"NaN\",\"NaN\",\"NaN\",\"NaN\",\"NaN\",\"NaN\",\"NaN\",\"NaN\",\"NaN\",\"NaN\",\"NaN\",\"NaN\",\"NaN\",\"NaN\",\"NaN\",\"NaN\",\"NaN\",\"NaN\",\"NaN\",\"NaN\",\"NaN\",\"NaN\",\"NaN\",\"NaN\",\"NaN\",\"NaN\",\"NaN\",\"NaN\",\"NaN\",\"NaN\",\"NaN\",\"NaN\",\"NaN\",\"NaN\",\"NaN\",\"NaN\",\"NaN\",\"NaN\",\"NaN\",\"NaN\",\"NaN\",\"NaN\",\"NaN\",\"NaN\",\"NaN\",\"NaN\",\"NaN\",\"NaN\",\"NaN\",\"NaN\",\"NaN\",\"NaN\",\"NaN\",\"NaN\",\"NaN\",\"NaN\",\"NaN\",\"NaN\",\"NaN\",\"NaN\",\"NaN\",\"NaN\",\"NaN\",\"NaN\",\"NaN\",\"NaN\",\"NaN\",\"NaN\",\"NaN\",\"NaN\",\"NaN\",\"NaN\",\"NaN\",\"NaN\",\"NaN\",\"NaN\",\"NaN\",\"NaN\",\"NaN\",\"NaN\",\"NaN\",\"NaN\",\"NaN\",\"NaN\",\"NaN\",\"NaN\",\"NaN\",\"NaN\",\"NaN\",\"NaN\",\"NaN\",\"NaN\",\"NaN\",\"NaN\",\"NaN\",\"NaN\",\"NaN\",\"NaN\",\"NaN\",\"NaN\",\"NaN\",\"NaN\",\"NaN\",\"NaN\",\"NaN\",\"NaN\",\"NaN\",\"NaN\",\"NaN\",\"NaN\",\"NaN\",\"NaN\",\"NaN\",\"NaN\",\"NaN\",\"NaN\",\"NaN\",\"NaN\",\"NaN\",\"NaN\",\"NaN\",\"NaN\",\"NaN\",\"NaN\",\"NaN\",\"NaN\",\"NaN\",\"NaN\",\"NaN\",\"NaN\",\"NaN\",\"NaN\",\"NaN\",\"NaN\",\"NaN\",\"NaN\",\"NaN\",\"NaN\",\"NaN\",\"NaN\",\"NaN\",\"NaN\",\"NaN\",\"NaN\",\"NaN\",\"NaN\",\"NaN\",\"NaN\",\"NaN\",\"NaN\",\"NaN\",\"NaN\",\"NaN\",\"NaN\",\"NaN\",\"NaN\",\"NaN\",\"NaN\",\"NaN\",\"NaN\",\"NaN\",\"NaN\",\"NaN\",\"NaN\",\"NaN\",\"NaN\",\"NaN\",\"NaN\",\"NaN\",\"NaN\",\"NaN\",\"NaN\",\"NaN\",\"NaN\",\"NaN\",\"NaN\",\"NaN\",\"NaN\",\"NaN\",\"NaN\",\"NaN\",\"NaN\",\"NaN\",\"NaN\",\"NaN\",\"NaN\",\"NaN\",\"NaN\",\"NaN\",\"NaN\",\"NaN\",\"NaN\",\"NaN\",\"NaN\",\"NaN\",\"NaN\",\"NaN\",\"NaN\",\"NaN\",\"NaN\",\"NaN\",\"NaN\",\"NaN\",\"NaN\",\"NaN\",\"NaN\",\"NaN\",\"NaN\",\"NaN\",\"NaN\",\"NaN\",\"NaN\",\"NaN\",\"NaN\",\"NaN\",\"NaN\",\"NaN\",\"NaN\",\"NaN\",\"NaN\",\"NaN\",\"NaN\",\"NaN\",\"NaN\",\"NaN\",\"NaN\",\"NaN\",\"NaN\",\"NaN\",\"NaN\",\"NaN\",\"NaN\",\"NaN\",\"NaN\",\"NaN\",\"NaN\",\"NaN\",\"NaN\",\"NaN\",\"NaN\",\"NaN\",\"NaN\",\"NaN\",\"NaN\",\"NaN\",\"NaN\",\"NaN\",\"NaN\",\"NaN\",\"NaN\",\"NaN\",\"NaN\",\"NaN\",\"NaN\",\"NaN\",\"NaN\",\"NaN\",\"NaN\",\"NaN\",\"NaN\",\"NaN\",\"NaN\",\"NaN\",\"NaN\",\"NaN\",\"NaN\",\"NaN\",\"NaN\",\"NaN\",\"NaN\",\"NaN\",\"NaN\",\"NaN\",\"NaN\",\"NaN\",\"NaN\",\"NaN\",\"NaN\",\"NaN\",\"NaN\",\"NaN\",\"NaN\",\"NaN\",\"NaN\",\"NaN\",\"NaN\",\"NaN\",\"NaN\",\"NaN\",\"NaN\",\"NaN\",\"NaN\",\"NaN\",\"NaN\",\"NaN\",\"NaN\",\"NaN\",\"NaN\",\"NaN\",\"NaN\",\"NaN\",\"NaN\",\"NaN\",\"NaN\",\"NaN\",\"NaN\",\"NaN\",\"NaN\",\"NaN\",\"NaN\",\"NaN\",\"NaN\",\"NaN\",\"NaN\",\"NaN\",\"NaN\",\"NaN\",\"NaN\",\"NaN\",\"NaN\",\"NaN\",\"NaN\",\"NaN\",\"NaN\",\"NaN\",\"NaN\",\"NaN\",\"NaN\",\"NaN\",\"NaN\",\"NaN\",\"NaN\",\"NaN\",\"NaN\",\"NaN\",\"NaN\",\"NaN\",\"NaN\",\"NaN\",\"NaN\",\"NaN\",\"NaN\",\"NaN\",\"NaN\",\"NaN\",\"NaN\",\"NaN\",\"NaN\",\"NaN\",\"NaN\",\"NaN\",\"NaN\",\"NaN\",\"NaN\",\"NaN\",\"NaN\",\"NaN\",\"NaN\",\"NaN\",\"NaN\",\"NaN\",\"NaN\",\"NaN\",\"NaN\",\"NaN\",\"NaN\",\"NaN\",\"NaN\",\"NaN\",\"NaN\",\"NaN\",\"NaN\",\"NaN\",\"NaN\",\"NaN\",\"NaN\",\"NaN\",\"NaN\",\"NaN\",\"NaN\",\"NaN\",\"NaN\",\"NaN\",\"NaN\",\"NaN\",\"NaN\",\"NaN\",\"NaN\",\"NaN\",\"NaN\",\"NaN\",\"NaN\",\"NaN\",\"NaN\",\"NaN\",\"NaN\",\"NaN\",\"NaN\",\"NaN\",\"NaN\",\"NaN\",\"NaN\",\"NaN\",\"NaN\",\"NaN\",\"NaN\",\"NaN\",\"NaN\",\"NaN\",\"NaN\",\"NaN\",\"NaN\",\"NaN\",\"NaN\",\"NaN\",\"NaN\",\"NaN\",\"NaN\",\"NaN\",\"NaN\",\"NaN\",\"NaN\",\"NaN\",\"NaN\",\"NaN\",\"NaN\",\"NaN\",\"NaN\",\"NaN\",\"NaN\",\"NaN\",\"NaN\",\"NaN\",\"NaN\",\"NaN\",\"NaN\",\"NaN\",\"NaN\",\"NaN\",\"NaN\",\"NaN\",\"NaN\",\"NaN\",\"NaN\",\"NaN\",\"NaN\",\"NaN\",\"NaN\",\"NaN\",\"NaN\",\"NaN\",\"NaN\",\"NaN\",\"NaN\",\"NaN\",\"NaN\",\"NaN\",\"NaN\",\"NaN\",\"NaN\",\"NaN\",\"NaN\",\"NaN\",\"NaN\",\"NaN\",\"NaN\",\"NaN\",\"NaN\",\"NaN\",\"NaN\",\"NaN\",\"NaN\",\"NaN\",\"NaN\",\"NaN\",\"NaN\",\"NaN\",\"NaN\",\"NaN\",\"NaN\",\"NaN\",\"NaN\",\"NaN\",\"NaN\",\"NaN\",\"NaN\",\"NaN\",\"NaN\",\"NaN\",\"NaN\",\"NaN\",\"NaN\",\"NaN\",\"NaN\",\"NaN\",\"NaN\",\"NaN\",\"NaN\",\"NaN\",\"NaN\",\"NaN\",\"NaN\",\"NaN\",\"NaN\",\"NaN\",\"NaN\",\"NaN\",\"NaN\",\"NaN\",\"NaN\",\"NaN\",\"NaN\",\"NaN\",\"NaN\",\"NaN\",\"NaN\",\"NaN\",\"NaN\",\"NaN\",\"NaN\",\"NaN\",\"NaN\",\"NaN\",\"NaN\",\"NaN\",\"NaN\",\"NaN\",\"NaN\",\"NaN\",\"NaN\",\"NaN\",\"NaN\",\"NaN\",\"NaN\",\"NaN\",\"NaN\",\"NaN\",\"NaN\",\"NaN\",\"NaN\",\"NaN\",\"NaN\",\"NaN\",\"NaN\",\"NaN\",\"NaN\",\"NaN\",\"NaN\",\"NaN\",\"NaN\",\"NaN\",\"NaN\",\"NaN\",\"NaN\",\"NaN\",\"NaN\",\"NaN\",\"NaN\",\"NaN\",\"NaN\",\"NaN\",\"NaN\",\"NaN\",\"NaN\",\"NaN\",\"NaN\",\"NaN\",\"NaN\",\"NaN\",\"NaN\",\"NaN\",\"NaN\",\"NaN\",\"NaN\",\"NaN\",\"NaN\",\"NaN\",\"NaN\",\"NaN\",\"NaN\",\"NaN\",\"NaN\",\"NaN\",\"NaN\",\"NaN\",\"NaN\",\"NaN\",\"NaN\",\"NaN\",\"NaN\",\"NaN\",\"NaN\",\"NaN\",\"NaN\",\"NaN\",\"NaN\",\"NaN\",\"NaN\",\"NaN\",\"NaN\",\"NaN\",\"NaN\",\"NaN\",\"NaN\",\"NaN\",\"NaN\",\"NaN\",\"NaN\",\"NaN\",\"NaN\",\"NaN\",\"NaN\",\"NaN\",\"NaN\",\"NaN\",\"NaN\",\"NaN\",\"NaN\",\"NaN\",\"NaN\",\"NaN\",\"NaN\",\"NaN\",\"NaN\",\"NaN\",\"NaN\",\"NaN\",\"NaN\",\"NaN\",\"NaN\",\"NaN\",\"NaN\",\"NaN\",\"NaN\",\"NaN\",\"NaN\",\"NaN\",\"NaN\",\"NaN\",\"NaN\",\"NaN\",\"NaN\",\"NaN\",\"NaN\",\"NaN\",\"NaN\",\"NaN\",\"NaN\",\"NaN\",\"NaN\",\"NaN\",\"NaN\",\"NaN\",\"NaN\",\"NaN\",\"NaN\",\"NaN\",\"NaN\",\"NaN\",\"NaN\",\"NaN\",\"NaN\",\"NaN\",\"NaN\",\"NaN\",\"NaN\",\"NaN\",\"NaN\",\"NaN\",\"NaN\",\"NaN\",\"NaN\",\"NaN\",\"NaN\",\"NaN\",\"NaN\",\"NaN\",\"NaN\",\"NaN\",\"NaN\",\"NaN\",\"NaN\",\"NaN\",\"NaN\",\"NaN\",\"NaN\",\"NaN\",\"NaN\",\"NaN\",\"NaN\",\"NaN\",\"NaN\",\"NaN\",\"NaN\",\"NaN\",\"NaN\",\"NaN\",\"NaN\",\"NaN\",\"NaN\",\"NaN\",\"NaN\",\"NaN\",\"NaN\",\"NaN\",\"NaN\",\"NaN\",\"NaN\",\"NaN\",\"NaN\",\"NaN\",\"NaN\",\"NaN\",\"NaN\",\"NaN\",\"NaN\",\"NaN\",\"NaN\",\"NaN\",\"NaN\",\"NaN\",\"NaN\",\"NaN\",\"NaN\",\"NaN\",\"NaN\",\"NaN\",\"NaN\",\"NaN\",\"NaN\",\"NaN\",\"NaN\",\"NaN\",\"NaN\",\"NaN\",\"NaN\",\"NaN\",\"NaN\",\"NaN\",\"NaN\",\"NaN\",\"NaN\",\"NaN\",\"NaN\",\"NaN\",\"NaN\",\"NaN\",\"NaN\",\"NaN\",\"NaN\",\"NaN\",\"NaN\",\"NaN\",\"NaN\",\"NaN\",\"NaN\",\"NaN\",\"NaN\",\"NaN\",\"NaN\",\"NaN\",\"NaN\",\"NaN\",\"NaN\",\"NaN\",\"NaN\",\"NaN\",\"NaN\",\"NaN\",\"NaN\",\"NaN\",\"NaN\",\"NaN\",\"NaN\",\"NaN\",\"NaN\",\"NaN\",\"NaN\",\"NaN\",\"NaN\",\"NaN\",\"NaN\",\"NaN\",\"NaN\",\"NaN\",\"NaN\",\"NaN\",\"NaN\",\"NaN\",\"NaN\",\"NaN\",\"NaN\",\"NaN\",\"NaN\",\"NaN\",\"NaN\",\"NaN\",\"NaN\",\"NaN\",\"NaN\",\"NaN\",\"NaN\",\"NaN\",\"NaN\",\"NaN\",\"NaN\",\"NaN\",\"NaN\",\"NaN\",\"NaN\",\"NaN\",\"NaN\",\"NaN\",\"NaN\",\"NaN\",\"NaN\",\"NaN\",\"NaN\",\"NaN\",\"NaN\",\"NaN\",\"NaN\",\"NaN\",\"NaN\",\"NaN\",\"NaN\",\"NaN\",\"NaN\",\"NaN\",\"NaN\",\"NaN\",\"NaN\",\"NaN\",\"NaN\"]}},\"id\":\"4a60e2dc-6cb4-4a61-8e41-ab262ab896ab\",\"type\":\"ColumnDataSource\"}],\"root_ids\":[\"6730cfe0-1eb2-4e53-9de1-df0abff97797\"]},\"title\":\"Bokeh Application\",\"version\":\"0.12.3\"}};\n",
       "            var render_items = [{\"docid\":\"79242bef-d5f1-4247-9562-6a747a5336c2\",\"elementid\":\"b9128272-9889-4c61-88c5-9d0998e05e28\",\"modelid\":\"6730cfe0-1eb2-4e53-9de1-df0abff97797\"}];\n",
       "            \n",
       "            Bokeh.embed.embed_items(docs_json, render_items);\n",
       "        });\n",
       "      },\n",
       "      function(Bokeh) {\n",
       "      }\n",
       "    ];\n",
       "  \n",
       "    function run_inline_js() {\n",
       "      \n",
       "      if ((window.Bokeh !== undefined) || (force === \"1\")) {\n",
       "        for (var i = 0; i < inline_js.length; i++) {\n",
       "          inline_js[i](window.Bokeh);\n",
       "        }if (force === \"1\") {\n",
       "          display_loaded();\n",
       "        }} else if (Date.now() < window._bokeh_timeout) {\n",
       "        setTimeout(run_inline_js, 100);\n",
       "      } else if (!window._bokeh_failed_load) {\n",
       "        console.log(\"Bokeh: BokehJS failed to load within specified timeout.\");\n",
       "        window._bokeh_failed_load = true;\n",
       "      } else if (!force) {\n",
       "        var cell = $(\"#b9128272-9889-4c61-88c5-9d0998e05e28\").parents('.cell').data().cell;\n",
       "        cell.output_area.append_execute_result(NB_LOAD_WARNING)\n",
       "      }\n",
       "  \n",
       "    }\n",
       "  \n",
       "    if (window._bokeh_is_loading === 0) {\n",
       "      console.log(\"Bokeh: BokehJS loaded, going straight to plotting\");\n",
       "      run_inline_js();\n",
       "    } else {\n",
       "      load_libs(js_urls, function() {\n",
       "        console.log(\"Bokeh: BokehJS plotting callback run at\", now());\n",
       "        run_inline_js();\n",
       "      });\n",
       "    }\n",
       "  }(this));\n",
       "</script>"
      ]
     },
     "metadata": {},
     "output_type": "display_data"
    },
    {
     "name": "stdout",
     "output_type": "stream",
     "text": [
      "# Pandas correlation coefficients matrix\n",
      "               call_duration  antenna_id\n",
      "call_duration            1.0         NaN\n",
      "antenna_id               NaN         NaN\n",
      "# Pandas co-variance coefficients matrix\n",
      "               call_duration  antenna_id\n",
      "call_duration  195314.812308         NaN\n",
      "antenna_id               NaN         NaN\n"
     ]
    }
   ],
   "source": [
    "analyze.correlation_analyze(irisDf)"
   ]
  },
  {
   "cell_type": "code",
   "execution_count": 12,
   "metadata": {
    "ExecuteTime": {
     "end_time": "2017-02-25T22:43:17.392063",
     "start_time": "2017-02-25T22:43:15.512536"
    },
    "collapsed": false
   },
   "outputs": [
    {
     "name": "stdout",
     "output_type": "stream",
     "text": [
      "Variance of call_duration\n",
      "195314.812308\n",
      "Skewness of call_duration\n",
      "3.96144995214\n",
      "Variance of antenna_id\n",
      "nan\n",
      "Skewness of antenna_id\n",
      "nan\n",
      "Too many categorise for col: correspondent_id can't plot pie-chart\n",
      "Too many categorise for col: datetime can't plot pie-chart\n"
     ]
    },
    {
     "name": "stderr",
     "output_type": "stream",
     "text": [
      "/home/anand/anaconda3/envs/analytics/lib/python3.5/site-packages/bokeh/core/compat/bokeh_renderer.py:262: UserWarning: Path marker shapes currently not handled, defaulting to Circle\n",
      "  warnings.warn(\"Path marker shapes currently not handled, defaulting to Circle\")\n",
      "/home/anand/anaconda3/envs/analytics/lib/python3.5/site-packages/matplotlib/artist.py:224: MatplotlibDeprecationWarning: get_axes has been deprecated in mpl 1.5, please use the\n",
      "axes property.  A removal date has not been set.\n",
      "  stacklevel=1)\n",
      "/home/anand/anaconda3/envs/analytics/lib/python3.5/site-packages/bokeh/core/compat/bokeh_renderer.py:295: UserWarning: Path marker sizes support is limited and may not display as expected\n",
      "  warnings.warn(\"Path marker sizes support is limited and may not display as expected\")\n"
     ]
    },
    {
     "data": {
      "text/html": [
       "\n",
       "\n",
       "    <div class=\"bk-root\">\n",
       "        <div class=\"plotdiv\" id=\"57c10c54-60bf-4906-bd97-7be2e8d4f9a9\"></div>\n",
       "    </div>\n",
       "<script type=\"text/javascript\">\n",
       "  \n",
       "  (function(global) {\n",
       "    function now() {\n",
       "      return new Date();\n",
       "    }\n",
       "  \n",
       "    var force = \"\";\n",
       "  \n",
       "    if (typeof (window._bokeh_onload_callbacks) === \"undefined\" || force !== \"\") {\n",
       "      window._bokeh_onload_callbacks = [];\n",
       "      window._bokeh_is_loading = undefined;\n",
       "    }\n",
       "  \n",
       "  \n",
       "    \n",
       "    if (typeof (window._bokeh_timeout) === \"undefined\" || force !== \"\") {\n",
       "      window._bokeh_timeout = Date.now() + 0;\n",
       "      window._bokeh_failed_load = false;\n",
       "    }\n",
       "  \n",
       "    var NB_LOAD_WARNING = {'data': {'text/html':\n",
       "       \"<div style='background-color: #fdd'>\\n\"+\n",
       "       \"<p>\\n\"+\n",
       "       \"BokehJS does not appear to have successfully loaded. If loading BokehJS from CDN, this \\n\"+\n",
       "       \"may be due to a slow or bad network connection. Possible fixes:\\n\"+\n",
       "       \"</p>\\n\"+\n",
       "       \"<ul>\\n\"+\n",
       "       \"<li>re-rerun `output_notebook()` to attempt to load from CDN again, or</li>\\n\"+\n",
       "       \"<li>use INLINE resources instead, as so:</li>\\n\"+\n",
       "       \"</ul>\\n\"+\n",
       "       \"<code>\\n\"+\n",
       "       \"from bokeh.resources import INLINE\\n\"+\n",
       "       \"output_notebook(resources=INLINE)\\n\"+\n",
       "       \"</code>\\n\"+\n",
       "       \"</div>\"}};\n",
       "  \n",
       "    function display_loaded() {\n",
       "      if (window.Bokeh !== undefined) {\n",
       "        Bokeh.$(\"#57c10c54-60bf-4906-bd97-7be2e8d4f9a9\").text(\"BokehJS successfully loaded.\");\n",
       "      } else if (Date.now() < window._bokeh_timeout) {\n",
       "        setTimeout(display_loaded, 100)\n",
       "      }\n",
       "    }\n",
       "  \n",
       "    function run_callbacks() {\n",
       "      window._bokeh_onload_callbacks.forEach(function(callback) { callback() });\n",
       "      delete window._bokeh_onload_callbacks\n",
       "      console.info(\"Bokeh: all callbacks have finished\");\n",
       "    }\n",
       "  \n",
       "    function load_libs(js_urls, callback) {\n",
       "      window._bokeh_onload_callbacks.push(callback);\n",
       "      if (window._bokeh_is_loading > 0) {\n",
       "        console.log(\"Bokeh: BokehJS is being loaded, scheduling callback at\", now());\n",
       "        return null;\n",
       "      }\n",
       "      if (js_urls == null || js_urls.length === 0) {\n",
       "        run_callbacks();\n",
       "        return null;\n",
       "      }\n",
       "      console.log(\"Bokeh: BokehJS not loaded, scheduling load and callback at\", now());\n",
       "      window._bokeh_is_loading = js_urls.length;\n",
       "      for (var i = 0; i < js_urls.length; i++) {\n",
       "        var url = js_urls[i];\n",
       "        var s = document.createElement('script');\n",
       "        s.src = url;\n",
       "        s.async = false;\n",
       "        s.onreadystatechange = s.onload = function() {\n",
       "          window._bokeh_is_loading--;\n",
       "          if (window._bokeh_is_loading === 0) {\n",
       "            console.log(\"Bokeh: all BokehJS libraries loaded\");\n",
       "            run_callbacks()\n",
       "          }\n",
       "        };\n",
       "        s.onerror = function() {\n",
       "          console.warn(\"failed to load library \" + url);\n",
       "        };\n",
       "        console.log(\"Bokeh: injecting script tag for BokehJS library: \", url);\n",
       "        document.getElementsByTagName(\"head\")[0].appendChild(s);\n",
       "      }\n",
       "    };var element = document.getElementById(\"57c10c54-60bf-4906-bd97-7be2e8d4f9a9\");\n",
       "    if (element == null) {\n",
       "      console.log(\"Bokeh: ERROR: autoload.js configured with elementid '57c10c54-60bf-4906-bd97-7be2e8d4f9a9' but no matching script tag was found. \")\n",
       "      return false;\n",
       "    }\n",
       "  \n",
       "    var js_urls = [];\n",
       "  \n",
       "    var inline_js = [\n",
       "      function(Bokeh) {\n",
       "        Bokeh.$(function() {\n",
       "            var docs_json = {\"1aa00cd2-d7dd-4c77-8b7f-beacd2011606\":{\"roots\":{\"references\":[{\"attributes\":{\"plot\":{\"id\":\"23aa0ad3-8b77-4ca6-b9e6-33513df8594b\",\"type\":\"Plot\"}},\"id\":\"10db1740-e420-496e-81c5-5f69148a9db3\",\"type\":\"SaveTool\"},{\"attributes\":{\"sizing_mode\":\"scale_width\",\"toolbar_location\":\"above\",\"tools\":[{\"id\":\"f29ac7ed-efb4-4933-8a4b-d12037611567\",\"type\":\"PanTool\"},{\"id\":\"9d54c4e5-22b6-44f5-8a34-3715fdf3edbb\",\"type\":\"WheelZoomTool\"},{\"id\":\"38cefe2b-3b24-439c-8528-f07dbf40ad8b\",\"type\":\"BoxZoomTool\"},{\"id\":\"a52cb915-4b38-4e1a-8884-60f1c9542413\",\"type\":\"SaveTool\"},{\"id\":\"fa15ad44-19a4-4c74-94f3-b75b4633dc29\",\"type\":\"ResetTool\"},{\"id\":\"29130f9e-44fe-4c07-bd62-e45cb9a0de2a\",\"type\":\"HelpTool\"},{\"id\":\"072d3e29-6eac-455f-92d4-2954668e362c\",\"type\":\"PanTool\"},{\"id\":\"65e6ae02-a1d4-4bf3-a457-bf34aa092917\",\"type\":\"WheelZoomTool\"},{\"id\":\"0f8b76f3-d1e4-42fb-8323-d0a1e99bb5b7\",\"type\":\"BoxZoomTool\"},{\"id\":\"10db1740-e420-496e-81c5-5f69148a9db3\",\"type\":\"SaveTool\"},{\"id\":\"12d8582c-3b4e-4713-8e2f-e83805c25910\",\"type\":\"ResetTool\"},{\"id\":\"dad1cd0e-c8d2-4329-9725-eb2610b491fa\",\"type\":\"HelpTool\"},{\"id\":\"14c41945-a6a3-4c05-a95c-4ead07edd8ce\",\"type\":\"PanTool\"},{\"id\":\"74978385-9dfd-4452-a369-e92aee22d934\",\"type\":\"WheelZoomTool\"},{\"id\":\"6750e6d9-1e2e-494f-8d89-9375ea586625\",\"type\":\"BoxZoomTool\"},{\"id\":\"2d05e9ee-693a-4fd0-a691-bf469f2b63ad\",\"type\":\"SaveTool\"},{\"id\":\"632047f0-0aab-4030-9331-efee4c077d3a\",\"type\":\"ResetTool\"},{\"id\":\"1f7cc226-feb6-4a0a-8eb7-aea6eab25072\",\"type\":\"HelpTool\"},{\"id\":\"19dffc3c-e5b2-40bd-a74b-040297fe4f34\",\"type\":\"PanTool\"},{\"id\":\"f441cea1-37b3-463a-ab14-6349418ebebb\",\"type\":\"WheelZoomTool\"},{\"id\":\"365dd899-47cd-45ec-b96c-6c9664816b9b\",\"type\":\"BoxZoomTool\"},{\"id\":\"ec4305d8-abfc-4d58-a904-95167e9ee260\",\"type\":\"SaveTool\"},{\"id\":\"22b81a23-0382-41d6-b91e-3f2705fa0b41\",\"type\":\"ResetTool\"},{\"id\":\"86063bc5-f5be-4ffc-ba3a-de267538bb8a\",\"type\":\"HelpTool\"}]},\"id\":\"bc86ef8e-eef3-4e81-8fe6-6b961582854c\",\"type\":\"ToolbarBox\"},{\"attributes\":{\"grid_line_color\":{\"value\":\"white\"},\"plot\":{\"id\":\"78884c89-600b-410f-ab5a-956d5ccd8a07\",\"type\":\"Plot\"},\"ticker\":{\"id\":\"b3ff9fad-ace2-4fe1-90e2-7f04c72e3d9c\",\"type\":\"BasicTicker\"}},\"id\":\"ce2c2beb-8a39-43ed-9a54-7699a2bfde53\",\"type\":\"Grid\"},{\"attributes\":{\"callback\":null},\"id\":\"1cf55e66-e4fc-4979-9ef7-68f5cdfaafd3\",\"type\":\"DataRange1d\"},{\"attributes\":{\"active_drag\":\"auto\",\"active_scroll\":\"auto\",\"active_tap\":\"auto\",\"tools\":[{\"id\":\"19dffc3c-e5b2-40bd-a74b-040297fe4f34\",\"type\":\"PanTool\"},{\"id\":\"f441cea1-37b3-463a-ab14-6349418ebebb\",\"type\":\"WheelZoomTool\"},{\"id\":\"365dd899-47cd-45ec-b96c-6c9664816b9b\",\"type\":\"BoxZoomTool\"},{\"id\":\"ec4305d8-abfc-4d58-a904-95167e9ee260\",\"type\":\"SaveTool\"},{\"id\":\"22b81a23-0382-41d6-b91e-3f2705fa0b41\",\"type\":\"ResetTool\"},{\"id\":\"86063bc5-f5be-4ffc-ba3a-de267538bb8a\",\"type\":\"HelpTool\"}]},\"id\":\"f36f5642-5c45-4075-813e-79a6dde6cfad\",\"type\":\"Toolbar\"},{\"attributes\":{\"dimension\":1,\"plot\":{\"id\":\"c9841a25-30e0-4401-a80e-e7ce14814669\",\"subtype\":\"Figure\",\"type\":\"Plot\"},\"ticker\":{\"id\":\"304fc0b6-bf1d-47ab-b338-d8a944319074\",\"type\":\"BasicTicker\"}},\"id\":\"2ab4074e-7bda-49df-868e-2bd53ecc5f96\",\"type\":\"Grid\"},{\"attributes\":{\"bottom_units\":\"screen\",\"fill_alpha\":{\"value\":0.5},\"fill_color\":{\"value\":\"lightgrey\"},\"left_units\":\"screen\",\"level\":\"overlay\",\"line_alpha\":{\"value\":1.0},\"line_color\":{\"value\":\"black\"},\"line_dash\":[4,4],\"line_width\":{\"value\":2},\"plot\":null,\"render_mode\":\"css\",\"right_units\":\"screen\",\"top_units\":\"screen\"},\"id\":\"6a2859cf-aab7-4840-98c2-1ffbaac4ba87\",\"type\":\"BoxAnnotation\"},{\"attributes\":{},\"id\":\"ce758243-41f5-408f-9547-dbc2240b5598\",\"type\":\"BasicTicker\"},{\"attributes\":{\"children\":[{\"id\":\"bc86ef8e-eef3-4e81-8fe6-6b961582854c\",\"type\":\"ToolbarBox\"},{\"id\":\"fcb444a5-e430-4a3c-848a-ef3b58ae6b4f\",\"type\":\"Column\"}]},\"id\":\"7dcc1052-b6e0-4e33-9cbc-16304df9d599\",\"type\":\"Column\"},{\"attributes\":{\"end_angle\":{\"units\":\"rad\",\"value\":5.426061284111138},\"fill_alpha\":{\"value\":0.1},\"fill_color\":{\"value\":\"#1f77b4\"},\"line_alpha\":{\"value\":0.1},\"line_color\":{\"value\":\"#1f77b4\"},\"radius\":{\"units\":\"data\",\"value\":1},\"start_angle\":{\"units\":\"rad\",\"value\":0.0},\"x\":{\"value\":0},\"y\":{\"value\":0}},\"id\":\"76c37ea7-81ad-45ba-8fde-618fb321ca97\",\"type\":\"Wedge\"},{\"attributes\":{\"callback\":null,\"start\":-1},\"id\":\"6ca94d92-a042-4a10-9ead-27785cd0a1fa\",\"type\":\"Range1d\"},{\"attributes\":{},\"id\":\"304fc0b6-bf1d-47ab-b338-d8a944319074\",\"type\":\"BasicTicker\"},{\"attributes\":{\"label\":{\"value\":\"call-0.29 %\"},\"renderers\":[{\"id\":\"c38d7155-12c9-497d-8961-3e43535a67cf\",\"type\":\"GlyphRenderer\"}]},\"id\":\"e48ae61f-601d-41cb-8ef7-14ff0123306c\",\"type\":\"LegendItem\"},{\"attributes\":{},\"id\":\"beaf3ccd-1e51-4149-a723-f5b6188bc372\",\"type\":\"BasicTicker\"},{\"attributes\":{\"plot\":{\"id\":\"78884c89-600b-410f-ab5a-956d5ccd8a07\",\"type\":\"Plot\"}},\"id\":\"29130f9e-44fe-4c07-bd62-e45cb9a0de2a\",\"type\":\"HelpTool\"},{\"attributes\":{\"plot\":{\"id\":\"23aa0ad3-8b77-4ca6-b9e6-33513df8594b\",\"type\":\"Plot\"}},\"id\":\"65e6ae02-a1d4-4bf3-a457-bf34aa092917\",\"type\":\"WheelZoomTool\"},{\"attributes\":{\"bottom_units\":\"screen\",\"fill_alpha\":{\"value\":0.5},\"fill_color\":{\"value\":\"lightgrey\"},\"left_units\":\"screen\",\"level\":\"overlay\",\"line_alpha\":{\"value\":1.0},\"line_color\":{\"value\":\"black\"},\"line_dash\":[4,4],\"line_width\":{\"value\":2},\"plot\":null,\"render_mode\":\"css\",\"right_units\":\"screen\",\"top_units\":\"screen\"},\"id\":\"e08c96a3-a95e-4c55-9996-5c06c088eb30\",\"type\":\"BoxAnnotation\"},{\"attributes\":{\"callback\":null,\"start\":-1},\"id\":\"fab269ca-6b81-4640-b58d-c878c12d068b\",\"type\":\"Range1d\"},{\"attributes\":{\"active_drag\":\"auto\",\"active_scroll\":\"auto\",\"active_tap\":\"auto\",\"tools\":[{\"id\":\"072d3e29-6eac-455f-92d4-2954668e362c\",\"type\":\"PanTool\"},{\"id\":\"65e6ae02-a1d4-4bf3-a457-bf34aa092917\",\"type\":\"WheelZoomTool\"},{\"id\":\"0f8b76f3-d1e4-42fb-8323-d0a1e99bb5b7\",\"type\":\"BoxZoomTool\"},{\"id\":\"10db1740-e420-496e-81c5-5f69148a9db3\",\"type\":\"SaveTool\"},{\"id\":\"12d8582c-3b4e-4713-8e2f-e83805c25910\",\"type\":\"ResetTool\"},{\"id\":\"dad1cd0e-c8d2-4329-9725-eb2610b491fa\",\"type\":\"HelpTool\"}]},\"id\":\"97c86b3a-e78b-48d5-88d3-221d0716c8b3\",\"type\":\"Toolbar\"},{\"attributes\":{\"end_angle\":{\"units\":\"rad\",\"value\":5.426061284111138},\"fill_color\":{\"value\":\"#FBFCBF\"},\"line_color\":{\"value\":\"#FBFCBF\"},\"radius\":{\"units\":\"data\",\"value\":1},\"start_angle\":{\"units\":\"rad\",\"value\":0.0},\"x\":{\"value\":0},\"y\":{\"value\":0}},\"id\":\"15b8586a-18c6-48f0-8052-66cd1bef6851\",\"type\":\"Wedge\"},{\"attributes\":{},\"id\":\"c48e7fe2-87a5-40fb-87bf-7acc12d71282\",\"type\":\"ToolEvents\"},{\"attributes\":{\"formatter\":{\"id\":\"5a6cbfbc-f1d3-4ace-9209-af9db653d9af\",\"type\":\"BasicTickFormatter\"},\"plot\":{\"id\":\"a738173e-cada-4b27-9a00-db4c4bfa327d\",\"subtype\":\"Figure\",\"type\":\"Plot\"},\"ticker\":{\"id\":\"ce758243-41f5-408f-9547-dbc2240b5598\",\"type\":\"BasicTicker\"}},\"id\":\"6d138646-77f3-41c4-8522-b1bc5b16da56\",\"type\":\"LinearAxis\"},{\"attributes\":{\"line_color\":{\"value\":\"#4C4C4C\"},\"line_width\":{\"value\":5.25},\"x\":{\"field\":\"Series 0\"},\"y\":{\"field\":\"Series 1\"}},\"id\":\"008b4d66-78d4-47e9-9132-cd598f678164\",\"type\":\"Line\"},{\"attributes\":{\"callback\":null},\"id\":\"535f5189-63d5-4656-8c0e-28a892930811\",\"type\":\"DataRange1d\"},{\"attributes\":{},\"id\":\"1632cdfc-080f-4633-a27b-e1bd957e91b3\",\"type\":\"ToolEvents\"},{\"attributes\":{\"axis_label\":\"interaction\",\"formatter\":{\"id\":\"b2d2ed28-f7ea-441e-af57-aafb0cc3b8ac\",\"type\":\"BasicTickFormatter\"},\"plot\":{\"id\":\"a738173e-cada-4b27-9a00-db4c4bfa327d\",\"subtype\":\"Figure\",\"type\":\"Plot\"},\"ticker\":{\"id\":\"beaf3ccd-1e51-4149-a723-f5b6188bc372\",\"type\":\"BasicTicker\"}},\"id\":\"448d8827-3386-493d-83da-59690bf4e2a8\",\"type\":\"LinearAxis\"},{\"attributes\":{\"data_source\":{\"id\":\"f2afa48e-5a69-49a7-be40-946c01b104b4\",\"type\":\"ColumnDataSource\"},\"glyph\":{\"id\":\"cd726dc1-6d6e-44a8-ad21-f629d8ee5582\",\"type\":\"Wedge\"},\"hover_glyph\":null,\"nonselection_glyph\":{\"id\":\"6630cb51-526b-43db-8736-3afe37db6b83\",\"type\":\"Wedge\"},\"selection_glyph\":null},\"id\":\"53cae448-a159-4188-bf8e-0f350a957c98\",\"type\":\"GlyphRenderer\"},{\"attributes\":{\"items\":[{\"id\":\"e48ae61f-601d-41cb-8ef7-14ff0123306c\",\"type\":\"LegendItem\"},{\"id\":\"742ef9df-c650-4d8a-8c18-8fa05f926f67\",\"type\":\"LegendItem\"}],\"plot\":{\"id\":\"a738173e-cada-4b27-9a00-db4c4bfa327d\",\"subtype\":\"Figure\",\"type\":\"Plot\"}},\"id\":\"3d6f17d7-1a31-4886-ba95-de2061c0746e\",\"type\":\"Legend\"},{\"attributes\":{\"callback\":null,\"column_names\":[\"Series 0\",\"Series 1\",\"Series 2\",\"Series 3\",\"Series 4\"],\"data\":{\"Series 0\":[[-274.16447562932206,-274.16447562932206,-237.58539531357818,-201.0063149978343,-164.42723468209041,-127.84815436634653,-91.26907405060265,-54.689993734858774,-18.110913419114922,18.468166896628986,55.047247212372895,91.62632752811675,128.2054078438606,164.7844881596045,201.36356847534842,237.9426487910922,274.5217291068361,311.10080942258,347.67988973832394,384.25897005406785,420.83805036981164,457.41713068555555,493.99621100129946,530.5752913170433,567.1543716327872,603.7334519485311,640.312532264275,676.8916125800189,713.4706928957627,750.0497732115065,786.6288535272505,823.2079338429943,859.7870141587383,896.3660944744821,932.9451747902259,969.5242551059699,1006.1033354217137,1042.6824157374576,1079.2614960532014,1115.8405763689452,1152.4196566846895,1188.9987370004333,1225.577817316177,1262.1568976319209,1298.7359779476647,1335.3150582634084,1371.8941385791527,1408.4732188948965,1445.0522992106403,1481.631379526384,1518.2104598421279,1554.7895401578721,1591.368620473616,1627.9477007893597,1664.5267811051035,1701.1058614208473,1737.6849417365916,1774.264022052335,1810.8431023680791,1847.422182683823,1884.0012629995667,1920.5803433153105,1957.1594236310543,1993.7385039467986,2030.3175842625424,2066.896664578286,2103.47574489403,2140.0548252097738,2176.633905525518,2213.212985841262,2249.7920661570056,2286.3711464727494,2322.950226788493,2359.5293071042374,2396.108387419981,2432.687467735725,2469.266548051469,2505.8456283672126,2542.4247086829564,2579.0037889987007,2615.5828693144445,2652.1619496301882,2688.741029945932,2725.320110261676,2761.89919057742,2798.478270893164,2835.0573512089077,2871.6364315246515,2908.2155118403953,2944.794592156139,2981.3736724718833,3017.952752787627,3054.531833103371,3091.1109134191147,3127.6899937348585,3164.2690740506027,3200.8481543663465,3237.4272346820903,3274.006314997834,3310.585395313578,3347.164475629322,3347.164475629322,3347.164475629322,3310.585395313578,3274.006314997834,3237.4272346820903,3200.8481543663465,3164.2690740506027,3127.6899937348585,3091.1109134191147,3054.531833103371,3017.952752787627,2981.3736724718833,2944.794592156139,2908.2155118403953,2871.6364315246515,2835.0573512089077,2798.478270893164,2761.89919057742,2725.320110261676,2688.741029945932,2652.1619496301882,2615.5828693144445,2579.0037889987007,2542.4247086829564,2505.8456283672126,2469.266548051469,2432.687467735725,2396.108387419981,2359.5293071042374,2322.950226788493,2286.3711464727494,2249.7920661570056,2213.212985841262,2176.633905525518,2140.0548252097738,2103.47574489403,2066.896664578286,2030.3175842625424,1993.7385039467986,1957.1594236310543,1920.5803433153105,1884.0012629995667,1847.422182683823,1810.8431023680791,1774.264022052335,1737.6849417365916,1701.1058614208473,1664.5267811051035,1627.9477007893597,1591.368620473616,1554.7895401578721,1518.2104598421279,1481.631379526384,1445.0522992106403,1408.4732188948965,1371.8941385791527,1335.3150582634084,1298.7359779476647,1262.1568976319209,1225.577817316177,1188.9987370004333,1152.4196566846895,1115.8405763689452,1079.2614960532014,1042.6824157374576,1006.1033354217137,969.5242551059699,932.9451747902259,896.3660944744821,859.7870141587383,823.2079338429943,786.6288535272505,750.0497732115065,713.4706928957627,676.8916125800189,640.312532264275,603.7334519485311,567.1543716327872,530.5752913170433,493.99621100129946,457.41713068555555,420.83805036981164,384.25897005406785,347.67988973832394,311.10080942258,274.5217291068361,237.9426487910922,201.36356847534842,164.7844881596045,128.2054078438606,91.62632752811675,55.047247212372895,18.468166896628986,-18.110913419114922,-54.689993734858774,-91.26907405060265,-127.84815436634653,-164.42723468209041,-201.0063149978343,-237.58539531357818,-274.16447562932206]],\"Series 1\":[[0.02517853440763422,-0.02517853440763422,-0.04438096747920995,-0.07318467131248474,-0.11296210114229417,-0.1633098504718129,-0.22130655241843222,-0.28137667625735024,-0.33604833690979646,-0.377551289955493,-0.3997927057670887,-0.4,-0.3793989732759799,-0.34268573787554013,-0.29655036022636116,-0.24785820294626723,-0.20213560040845624,-0.16276871265627754,-0.1309745197527121,-0.106323314771913,-0.08748044830528458,-0.07288102357865192,-0.06117915494648534,-0.05144331810743799,-0.043154498058116726,-0.03609532733760936,-0.030210181512835027,-0.02548844939958804,-0.021892576287776164,-0.019329144519878414,-0.017649211789143134,-0.016662569628868973,-0.016155638196475055,-0.015909436693250754,-0.015718363964301745,-0.01541054703155055,-0.014867251186685271,-0.014035477171753383,-0.012927814437101053,-0.011608028947137774,-0.010167396469020519,-0.008701016016161552,-0.007292111746576107,-0.0060064754933742345,-0.004893033174502397,-0.003984454032044602,-0.003294791802057575,-0.0028163398340139744,-0.0025207334863576077,-0.0023674644156444855,-0.002317766502297867,-0.002347214481868228,-0.002449886382623877,-0.0026312925344494755,-0.0028938937974699944,-0.003223719828883391,-0.0035862128374793156,-0.00393396859777406,-0.004221847856380336,-0.004420613621931178,-0.00452167389490915,-0.004531698003356003,-0.004462551000812414,-0.0043245474886890916,-0.004127825394164024,-0.003890144707214809,-0.003644302131428233,-0.0034381050259666293,-0.0033244269865456383,-0.003345022808579241,-0.003515512035915165,-0.003818177153334161,-0.004204931704171806,-0.00460801981351477,-0.0049535928469491095,-0.005174130227134516,-0.005218246833074276,-0.0050583207687751024,-0.00469619499415019,-0.004165649884401075,-0.0035294107908025647,-0.0028695573869303268,-0.0022728608549947033,-0.0018148688217735404,-0.0015468544513382188,-0.001488081195724975,-0.0016237131385039437,-0.001907632270139316,-0.0022696252662957345,-0.002626801630684848,-0.002898508876706212,-0.0030223002056991074,-0.0029668346236621686,-0.0027374549773621945,-0.0023722403783559927,-0.001929776761379905,-0.0014729804092037434,-0.0010544540809776888,-0.0007075968225693108,-0.00044488562747638135,-0.0002619316479006004,0.0002619316479006004,0.0002619316479006004,0.00044488562747638135,0.0007075968225693108,0.0010544540809776888,0.0014729804092037434,0.001929776761379905,0.0023722403783559927,0.0027374549773621945,0.0029668346236621686,0.0030223002056991074,0.002898508876706212,0.002626801630684848,0.0022696252662957345,0.001907632270139316,0.0016237131385039437,0.001488081195724975,0.0015468544513382188,0.0018148688217735404,0.0022728608549947033,0.0028695573869303268,0.0035294107908025647,0.004165649884401075,0.00469619499415019,0.0050583207687751024,0.005218246833074276,0.005174130227134516,0.0049535928469491095,0.00460801981351477,0.004204931704171806,0.003818177153334161,0.003515512035915165,0.003345022808579241,0.0033244269865456383,0.0034381050259666293,0.003644302131428233,0.003890144707214809,0.004127825394164024,0.0043245474886890916,0.004462551000812414,0.004531698003356003,0.00452167389490915,0.004420613621931178,0.004221847856380336,0.00393396859777406,0.0035862128374793156,0.003223719828883391,0.0028938937974699944,0.0026312925344494755,0.002449886382623877,0.002347214481868228,0.002317766502297867,0.0023674644156444855,0.0025207334863576077,0.0028163398340139744,0.003294791802057575,0.003984454032044602,0.004893033174502397,0.0060064754933742345,0.007292111746576107,0.008701016016161552,0.010167396469020519,0.011608028947137774,0.012927814437101053,0.014035477171753383,0.014867251186685271,0.01541054703155055,0.015718363964301745,0.015909436693250754,0.016155638196475055,0.016662569628868973,0.017649211789143134,0.019329144519878414,0.021892576287776164,0.02548844939958804,0.030210181512835027,0.03609532733760936,0.043154498058116726,0.05144331810743799,0.06117915494648534,0.07288102357865192,0.08748044830528458,0.106323314771913,0.1309745197527121,0.16276871265627754,0.20213560040845624,0.24785820294626723,0.29655036022636116,0.34268573787554013,0.3793989732759799,0.4,0.3997927057670887,0.377551289955493,0.33604833690979646,0.28137667625735024,0.22130655241843222,0.1633098504718129,0.11296210114229417,0.07318467131248474,0.04438096747920995,0.02517853440763422]],\"Series 2\":[\"#5875a4\"],\"Series 3\":[\"#4c4c4c\"],\"Series 4\":[1.75]}},\"id\":\"b5fa5344-366c-4329-adaa-2ab911be50d1\",\"type\":\"ColumnDataSource\"},{\"attributes\":{\"label\":{\"value\":\"out-0.14 %\"},\"renderers\":[{\"id\":\"53cae448-a159-4188-bf8e-0f350a957c98\",\"type\":\"GlyphRenderer\"}]},\"id\":\"e941cdc9-75ef-431f-b48e-012893b8eb62\",\"type\":\"LegendItem\"},{\"attributes\":{\"plot\":{\"id\":\"23aa0ad3-8b77-4ca6-b9e6-33513df8594b\",\"type\":\"Plot\"}},\"id\":\"072d3e29-6eac-455f-92d4-2954668e362c\",\"type\":\"PanTool\"},{\"attributes\":{\"plot\":null,\"text\":\"\"},\"id\":\"63376e27-56af-4ee8-a013-923e2d5e27dd\",\"type\":\"Title\"},{\"attributes\":{\"data_source\":{\"id\":\"5f51bb41-16b4-4242-9282-ab08159e67a9\",\"type\":\"ColumnDataSource\"},\"glyph\":{\"id\":\"6815e036-85c2-4288-be66-ea9b34bb07dd\",\"type\":\"Line\"},\"hover_glyph\":null,\"nonselection_glyph\":null,\"selection_glyph\":null},\"id\":\"4e66a5d2-79c1-4c35-ac11-a890ccf3fecc\",\"type\":\"GlyphRenderer\"},{\"attributes\":{\"plot\":{\"id\":\"c9841a25-30e0-4401-a80e-e7ce14814669\",\"subtype\":\"Figure\",\"type\":\"Plot\"}},\"id\":\"14c41945-a6a3-4c05-a95c-4ead07edd8ce\",\"type\":\"PanTool\"},{\"attributes\":{\"end_angle\":{\"units\":\"rad\",\"value\":6.283185307179586},\"fill_color\":{\"value\":\"#000003\"},\"line_color\":{\"value\":\"#000003\"},\"radius\":{\"units\":\"data\",\"value\":1},\"start_angle\":{\"units\":\"rad\",\"value\":5.426061284111138},\"x\":{\"value\":0},\"y\":{\"value\":0}},\"id\":\"cd726dc1-6d6e-44a8-ad21-f629d8ee5582\",\"type\":\"Wedge\"},{\"attributes\":{\"callback\":null,\"column_names\":[\"Series 0\",\"Series 1\"],\"data\":{\"Series 0\":[1.0,434.0],\"Series 1\":[0.0,0.0]}},\"id\":\"5f51bb41-16b4-4242-9282-ab08159e67a9\",\"type\":\"ColumnDataSource\"},{\"attributes\":{},\"id\":\"ca00c2ee-ae18-4a33-a939-17c33597a18a\",\"type\":\"BasicTicker\"},{\"attributes\":{\"active_drag\":\"auto\",\"active_scroll\":\"auto\",\"active_tap\":\"auto\",\"tools\":[{\"id\":\"14c41945-a6a3-4c05-a95c-4ead07edd8ce\",\"type\":\"PanTool\"},{\"id\":\"74978385-9dfd-4452-a369-e92aee22d934\",\"type\":\"WheelZoomTool\"},{\"id\":\"6750e6d9-1e2e-494f-8d89-9375ea586625\",\"type\":\"BoxZoomTool\"},{\"id\":\"2d05e9ee-693a-4fd0-a691-bf469f2b63ad\",\"type\":\"SaveTool\"},{\"id\":\"632047f0-0aab-4030-9331-efee4c077d3a\",\"type\":\"ResetTool\"},{\"id\":\"1f7cc226-feb6-4a0a-8eb7-aea6eab25072\",\"type\":\"HelpTool\"}]},\"id\":\"7e5c9003-c778-4f3b-8641-63392a8f5389\",\"type\":\"Toolbar\"},{\"attributes\":{\"callback\":null},\"id\":\"22f34ed3-40f0-4f3d-84f4-9e5c88f535f8\",\"type\":\"ColumnDataSource\"},{\"attributes\":{\"background_fill_color\":{\"value\":\"#EAEAF2\"},\"below\":[{\"id\":\"64f6c448-485f-4b26-8a7a-7745df4cf8e9\",\"type\":\"LinearAxis\"}],\"left\":[{\"id\":\"c5ab923f-9f3c-43ab-a0be-224b11af6c41\",\"type\":\"LinearAxis\"}],\"plot_height\":440,\"plot_width\":640,\"renderers\":[{\"id\":\"64f6c448-485f-4b26-8a7a-7745df4cf8e9\",\"type\":\"LinearAxis\"},{\"id\":\"ce2c2beb-8a39-43ed-9a54-7699a2bfde53\",\"type\":\"Grid\"},{\"id\":\"c5ab923f-9f3c-43ab-a0be-224b11af6c41\",\"type\":\"LinearAxis\"},{\"id\":\"3aa93003-b663-4f45-9384-eb03ea9d4510\",\"type\":\"Grid\"},{\"id\":\"79370908-f710-44f4-bede-f5f324313dd8\",\"type\":\"BoxAnnotation\"},{\"id\":\"86a8e74e-6469-485e-a0ce-f959e77c4e89\",\"type\":\"GlyphRenderer\"},{\"id\":\"4e66a5d2-79c1-4c35-ac11-a890ccf3fecc\",\"type\":\"GlyphRenderer\"},{\"id\":\"b20b7a05-0989-422d-a683-e134e149e83a\",\"type\":\"GlyphRenderer\"},{\"id\":\"740e4d1f-00db-41c6-a056-c994935fbdd0\",\"type\":\"GlyphRenderer\"}],\"title\":{\"id\":\"25033121-4cfd-4dd8-9674-2fc97a750883\",\"type\":\"Title\"},\"tool_events\":{\"id\":\"c48e7fe2-87a5-40fb-87bf-7acc12d71282\",\"type\":\"ToolEvents\"},\"toolbar\":{\"id\":\"6b3c4fd1-aaef-455a-8504-fd4198ec82b2\",\"type\":\"Toolbar\"},\"toolbar_location\":null,\"x_range\":{\"id\":\"ce11ccb3-8cd7-4c07-8fca-ef74cfda4352\",\"type\":\"DataRange1d\"},\"y_range\":{\"id\":\"535f5189-63d5-4656-8c0e-28a892930811\",\"type\":\"DataRange1d\"}},\"id\":\"78884c89-600b-410f-ab5a-956d5ccd8a07\",\"type\":\"Plot\"},{\"attributes\":{},\"id\":\"d4ecf7db-5296-4015-a796-c904f480fc1f\",\"type\":\"BasicTickFormatter\"},{\"attributes\":{},\"id\":\"042dd680-30cb-40f6-86b7-1064fe8b162d\",\"type\":\"BasicTicker\"},{\"attributes\":{\"dimension\":1,\"grid_line_color\":{\"value\":\"white\"},\"plot\":{\"id\":\"78884c89-600b-410f-ab5a-956d5ccd8a07\",\"type\":\"Plot\"},\"ticker\":{\"id\":\"ed5fa7b4-4c00-400c-8260-882219c94b74\",\"type\":\"BasicTicker\"}},\"id\":\"3aa93003-b663-4f45-9384-eb03ea9d4510\",\"type\":\"Grid\"},{\"attributes\":{\"bottom_units\":\"screen\",\"fill_alpha\":{\"value\":0.5},\"fill_color\":{\"value\":\"lightgrey\"},\"left_units\":\"screen\",\"level\":\"overlay\",\"line_alpha\":{\"value\":1.0},\"line_color\":{\"value\":\"black\"},\"line_dash\":[4,4],\"line_width\":{\"value\":2},\"plot\":null,\"render_mode\":\"css\",\"right_units\":\"screen\",\"top_units\":\"screen\"},\"id\":\"113747fd-e3eb-4065-9e54-188a539be439\",\"type\":\"BoxAnnotation\"},{\"attributes\":{},\"id\":\"69812303-22ff-4567-b005-0ed53b6272fa\",\"type\":\"BasicTicker\"},{\"attributes\":{\"children\":[{\"id\":\"c9841a25-30e0-4401-a80e-e7ce14814669\",\"subtype\":\"Figure\",\"type\":\"Plot\"},{\"id\":\"a738173e-cada-4b27-9a00-db4c4bfa327d\",\"subtype\":\"Figure\",\"type\":\"Plot\"}]},\"id\":\"550ea251-fd09-4a67-8bb0-3f1c0ad81a95\",\"type\":\"Row\"},{\"attributes\":{\"callback\":null},\"id\":\"ce11ccb3-8cd7-4c07-8fca-ef74cfda4352\",\"type\":\"DataRange1d\"},{\"attributes\":{},\"id\":\"ed5fa7b4-4c00-400c-8260-882219c94b74\",\"type\":\"BasicTicker\"},{\"attributes\":{\"dimension\":1,\"plot\":{\"id\":\"a738173e-cada-4b27-9a00-db4c4bfa327d\",\"subtype\":\"Figure\",\"type\":\"Plot\"},\"ticker\":{\"id\":\"ce758243-41f5-408f-9547-dbc2240b5598\",\"type\":\"BasicTicker\"}},\"id\":\"4ce9b5a4-3d82-4d1a-a615-5e95f62fd4bf\",\"type\":\"Grid\"},{\"attributes\":{\"callback\":null},\"id\":\"b5d9f9c5-e598-4640-b7e7-ea982f02d5c6\",\"type\":\"ColumnDataSource\"},{\"attributes\":{\"axis_label\":\"call_duration\",\"axis_label_text_font\":\"sans-serif\",\"axis_label_text_font_size\":{\"value\":\"11.000000pt\"},\"axis_label_text_font_style\":\"normal\",\"formatter\":{\"id\":\"1e9e3e49-eeae-46fa-b140-4cccfac4c222\",\"type\":\"BasicTickFormatter\"},\"major_label_text_font\":\"sans-serif\",\"major_label_text_font_size\":{\"value\":\"10.000000pt\"},\"plot\":{\"id\":\"78884c89-600b-410f-ab5a-956d5ccd8a07\",\"type\":\"Plot\"},\"ticker\":{\"id\":\"b3ff9fad-ace2-4fe1-90e2-7f04c72e3d9c\",\"type\":\"BasicTicker\"}},\"id\":\"64f6c448-485f-4b26-8a7a-7745df4cf8e9\",\"type\":\"LinearAxis\"},{\"attributes\":{\"plot\":{\"id\":\"23aa0ad3-8b77-4ca6-b9e6-33513df8594b\",\"type\":\"Plot\"}},\"id\":\"dad1cd0e-c8d2-4329-9725-eb2610b491fa\",\"type\":\"HelpTool\"},{\"attributes\":{\"callback\":null,\"column_names\":[\"Series 0\",\"Series 1\"],\"data\":{\"Series 0\":[33.0,197.5],\"Series 1\":[0.0,0.0]}},\"id\":\"cbc42cb6-96f8-494e-9686-5928761b5d4e\",\"type\":\"ColumnDataSource\"},{\"attributes\":{\"callback\":null,\"column_names\":[\"Series 0\",\"Series 1\"],\"data\":{\"Series 0\":[77.0],\"Series 1\":[0.0]}},\"id\":\"68e3f4d9-a707-4645-8012-cd1608680847\",\"type\":\"ColumnDataSource\"},{\"attributes\":{\"fill_alpha\":null,\"fill_color\":{\"value\":\"rgb(255, 255, 255)\"},\"line_alpha\":null,\"line_color\":{\"value\":\"rgb(76, 76, 76)\"},\"line_width\":{\"value\":0.3},\"size\":{\"units\":\"screen\",\"value\":20.0},\"x\":{\"field\":\"Series 0\"},\"y\":{\"field\":\"Series 1\"}},\"id\":\"41ca0ca2-b636-4678-a463-44d081717100\",\"type\":\"Circle\"},{\"attributes\":{\"callback\":null},\"id\":\"aa7229b6-d7c6-41af-abcf-79318e11a907\",\"type\":\"ColumnDataSource\"},{\"attributes\":{\"axis_label\":\"direction\",\"formatter\":{\"id\":\"3322be57-81b9-4750-a4aa-15529c3b065a\",\"type\":\"BasicTickFormatter\"},\"plot\":{\"id\":\"c9841a25-30e0-4401-a80e-e7ce14814669\",\"subtype\":\"Figure\",\"type\":\"Plot\"},\"ticker\":{\"id\":\"69812303-22ff-4567-b005-0ed53b6272fa\",\"type\":\"BasicTicker\"}},\"id\":\"cdc04f0b-6335-447a-8c33-94ddc5c8e0f8\",\"type\":\"LinearAxis\"},{\"attributes\":{\"end_angle\":{\"units\":\"rad\",\"value\":6.283185307179586},\"fill_alpha\":{\"value\":0.1},\"fill_color\":{\"value\":\"#1f77b4\"},\"line_alpha\":{\"value\":0.1},\"line_color\":{\"value\":\"#1f77b4\"},\"radius\":{\"units\":\"data\",\"value\":1},\"start_angle\":{\"units\":\"rad\",\"value\":5.426061284111138},\"x\":{\"value\":0},\"y\":{\"value\":0}},\"id\":\"6630cb51-526b-43db-8736-3afe37db6b83\",\"type\":\"Wedge\"},{\"attributes\":{\"below\":[{\"id\":\"448d8827-3386-493d-83da-59690bf4e2a8\",\"type\":\"LinearAxis\"}],\"left\":[{\"id\":\"6d138646-77f3-41c4-8522-b1bc5b16da56\",\"type\":\"LinearAxis\"}],\"renderers\":[{\"id\":\"448d8827-3386-493d-83da-59690bf4e2a8\",\"type\":\"LinearAxis\"},{\"id\":\"a01e3613-7cad-4b48-a864-adf902c46be8\",\"type\":\"Grid\"},{\"id\":\"6d138646-77f3-41c4-8522-b1bc5b16da56\",\"type\":\"LinearAxis\"},{\"id\":\"4ce9b5a4-3d82-4d1a-a615-5e95f62fd4bf\",\"type\":\"Grid\"},{\"id\":\"113747fd-e3eb-4065-9e54-188a539be439\",\"type\":\"BoxAnnotation\"},{\"id\":\"3d6f17d7-1a31-4886-ba95-de2061c0746e\",\"type\":\"Legend\"},{\"id\":\"c38d7155-12c9-497d-8961-3e43535a67cf\",\"type\":\"GlyphRenderer\"},{\"id\":\"b2b76170-fab2-45bd-8099-73acaf8ec771\",\"type\":\"GlyphRenderer\"}],\"title\":{\"id\":\"2a350e76-6118-4803-bbb7-8bbea07c0618\",\"type\":\"Title\"},\"tool_events\":{\"id\":\"62f9d816-903d-4db1-a99e-0c8e1060fd9f\",\"type\":\"ToolEvents\"},\"toolbar\":{\"id\":\"f36f5642-5c45-4075-813e-79a6dde6cfad\",\"type\":\"Toolbar\"},\"toolbar_location\":null,\"x_range\":{\"id\":\"6ca94d92-a042-4a10-9ead-27785cd0a1fa\",\"type\":\"Range1d\"},\"y_range\":{\"id\":\"fab269ca-6b81-4640-b58d-c878c12d068b\",\"type\":\"Range1d\"}},\"id\":\"a738173e-cada-4b27-9a00-db4c4bfa327d\",\"subtype\":\"Figure\",\"type\":\"Plot\"},{\"attributes\":{},\"id\":\"b2d2ed28-f7ea-441e-af57-aafb0cc3b8ac\",\"type\":\"BasicTickFormatter\"},{\"attributes\":{\"background_fill_color\":{\"value\":\"#EAEAF2\"},\"below\":[{\"id\":\"56dc3633-787a-4569-91c8-a11f2c8b9620\",\"type\":\"LinearAxis\"}],\"left\":[{\"id\":\"d3c9ce20-e16a-412d-9a42-9b6023319337\",\"type\":\"LinearAxis\"}],\"plot_height\":440,\"plot_width\":640,\"renderers\":[{\"id\":\"56dc3633-787a-4569-91c8-a11f2c8b9620\",\"type\":\"LinearAxis\"},{\"id\":\"3b024ce8-0a15-49bb-a839-cf5d182b066f\",\"type\":\"Grid\"},{\"id\":\"d3c9ce20-e16a-412d-9a42-9b6023319337\",\"type\":\"LinearAxis\"},{\"id\":\"d6c0c355-5417-4a0b-8113-18f881cd8b3c\",\"type\":\"Grid\"},{\"id\":\"6a2859cf-aab7-4840-98c2-1ffbaac4ba87\",\"type\":\"BoxAnnotation\"}],\"title\":{\"id\":\"63376e27-56af-4ee8-a013-923e2d5e27dd\",\"type\":\"Title\"},\"tool_events\":{\"id\":\"c5b65d1b-3e3a-4571-a0f0-b2e0ebd70049\",\"type\":\"ToolEvents\"},\"toolbar\":{\"id\":\"97c86b3a-e78b-48d5-88d3-221d0716c8b3\",\"type\":\"Toolbar\"},\"toolbar_location\":null,\"x_range\":{\"id\":\"066a9134-a41c-4998-b31f-2f3cacfc0afa\",\"type\":\"DataRange1d\"},\"y_range\":{\"id\":\"1cf55e66-e4fc-4979-9ef7-68f5cdfaafd3\",\"type\":\"DataRange1d\"}},\"id\":\"23aa0ad3-8b77-4ca6-b9e6-33513df8594b\",\"type\":\"Plot\"},{\"attributes\":{\"plot\":{\"id\":\"a738173e-cada-4b27-9a00-db4c4bfa327d\",\"subtype\":\"Figure\",\"type\":\"Plot\"}},\"id\":\"86063bc5-f5be-4ffc-ba3a-de267538bb8a\",\"type\":\"HelpTool\"},{\"attributes\":{},\"id\":\"b3ff9fad-ace2-4fe1-90e2-7f04c72e3d9c\",\"type\":\"BasicTicker\"},{\"attributes\":{\"plot\":{\"id\":\"78884c89-600b-410f-ab5a-956d5ccd8a07\",\"type\":\"Plot\"}},\"id\":\"f29ac7ed-efb4-4933-8a4b-d12037611567\",\"type\":\"PanTool\"},{\"attributes\":{\"axis_label_text_font\":\"sans-serif\",\"axis_label_text_font_size\":{\"value\":\"11.000000pt\"},\"axis_label_text_font_style\":\"normal\",\"formatter\":{\"id\":\"1b34b8b3-7e53-45b7-aacc-0393aa2fb062\",\"type\":\"BasicTickFormatter\"},\"major_label_text_font\":\"sans-serif\",\"major_label_text_font_size\":{\"value\":\"10.000000pt\"},\"plot\":{\"id\":\"78884c89-600b-410f-ab5a-956d5ccd8a07\",\"type\":\"Plot\"},\"ticker\":{\"id\":\"ed5fa7b4-4c00-400c-8260-882219c94b74\",\"type\":\"BasicTicker\"}},\"id\":\"c5ab923f-9f3c-43ab-a0be-224b11af6c41\",\"type\":\"LinearAxis\"},{\"attributes\":{},\"id\":\"3322be57-81b9-4750-a4aa-15529c3b065a\",\"type\":\"BasicTickFormatter\"},{\"attributes\":{\"data_source\":{\"id\":\"b5d9f9c5-e598-4640-b7e7-ea982f02d5c6\",\"type\":\"ColumnDataSource\"},\"glyph\":{\"id\":\"15b8586a-18c6-48f0-8052-66cd1bef6851\",\"type\":\"Wedge\"},\"hover_glyph\":null,\"nonselection_glyph\":{\"id\":\"76c37ea7-81ad-45ba-8fde-618fb321ca97\",\"type\":\"Wedge\"},\"selection_glyph\":null},\"id\":\"cefc1357-252f-4028-b034-90d73f4abdfe\",\"type\":\"GlyphRenderer\"},{\"attributes\":{\"callback\":null,\"start\":-1},\"id\":\"94927d3e-84aa-480c-8825-a560103379e4\",\"type\":\"Range1d\"},{\"attributes\":{\"plot\":{\"id\":\"a738173e-cada-4b27-9a00-db4c4bfa327d\",\"subtype\":\"Figure\",\"type\":\"Plot\"}},\"id\":\"f441cea1-37b3-463a-ab14-6349418ebebb\",\"type\":\"WheelZoomTool\"},{\"attributes\":{\"plot\":{\"id\":\"78884c89-600b-410f-ab5a-956d5ccd8a07\",\"type\":\"Plot\"}},\"id\":\"fa15ad44-19a4-4c74-94f3-b75b4633dc29\",\"type\":\"ResetTool\"},{\"attributes\":{\"plot\":null,\"text\":\"Distribution of interaction\"},\"id\":\"2a350e76-6118-4803-bbb7-8bbea07c0618\",\"type\":\"Title\"},{\"attributes\":{\"overlay\":{\"id\":\"113747fd-e3eb-4065-9e54-188a539be439\",\"type\":\"BoxAnnotation\"},\"plot\":{\"id\":\"a738173e-cada-4b27-9a00-db4c4bfa327d\",\"subtype\":\"Figure\",\"type\":\"Plot\"}},\"id\":\"365dd899-47cd-45ec-b96c-6c9664816b9b\",\"type\":\"BoxZoomTool\"},{\"attributes\":{\"plot\":{\"id\":\"a738173e-cada-4b27-9a00-db4c4bfa327d\",\"subtype\":\"Figure\",\"type\":\"Plot\"}},\"id\":\"ec4305d8-abfc-4d58-a904-95167e9ee260\",\"type\":\"SaveTool\"},{\"attributes\":{\"formatter\":{\"id\":\"d4ecf7db-5296-4015-a796-c904f480fc1f\",\"type\":\"BasicTickFormatter\"},\"plot\":{\"id\":\"c9841a25-30e0-4401-a80e-e7ce14814669\",\"subtype\":\"Figure\",\"type\":\"Plot\"},\"ticker\":{\"id\":\"304fc0b6-bf1d-47ab-b338-d8a944319074\",\"type\":\"BasicTicker\"}},\"id\":\"03807e4e-0b89-45ba-983a-d312816c2949\",\"type\":\"LinearAxis\"},{\"attributes\":{\"plot\":{\"id\":\"c9841a25-30e0-4401-a80e-e7ce14814669\",\"subtype\":\"Figure\",\"type\":\"Plot\"}},\"id\":\"2d05e9ee-693a-4fd0-a691-bf469f2b63ad\",\"type\":\"SaveTool\"},{\"attributes\":{},\"id\":\"5a6cbfbc-f1d3-4ace-9209-af9db653d9af\",\"type\":\"BasicTickFormatter\"},{\"attributes\":{},\"id\":\"c5b65d1b-3e3a-4571-a0f0-b2e0ebd70049\",\"type\":\"ToolEvents\"},{\"attributes\":{\"end_angle\":{\"units\":\"rad\",\"value\":6.283185307179586},\"fill_alpha\":{\"value\":0.1},\"fill_color\":{\"value\":\"#1f77b4\"},\"line_alpha\":{\"value\":0.1},\"line_color\":{\"value\":\"#1f77b4\"},\"radius\":{\"units\":\"data\",\"value\":1},\"start_angle\":{\"units\":\"rad\",\"value\":1.7931464917749962},\"x\":{\"value\":0},\"y\":{\"value\":0}},\"id\":\"639c66e8-5cb1-4ac5-9c14-cd7031e61df8\",\"type\":\"Wedge\"},{\"attributes\":{\"overlay\":{\"id\":\"6a2859cf-aab7-4840-98c2-1ffbaac4ba87\",\"type\":\"BoxAnnotation\"},\"plot\":{\"id\":\"23aa0ad3-8b77-4ca6-b9e6-33513df8594b\",\"type\":\"Plot\"}},\"id\":\"0f8b76f3-d1e4-42fb-8323-d0a1e99bb5b7\",\"type\":\"BoxZoomTool\"},{\"attributes\":{\"callback\":null},\"id\":\"066a9134-a41c-4998-b31f-2f3cacfc0afa\",\"type\":\"DataRange1d\"},{\"attributes\":{\"plot\":{\"id\":\"78884c89-600b-410f-ab5a-956d5ccd8a07\",\"type\":\"Plot\"}},\"id\":\"a52cb915-4b38-4e1a-8884-60f1c9542413\",\"type\":\"SaveTool\"},{\"attributes\":{\"label\":{\"value\":\"in-0.86 %\"},\"renderers\":[{\"id\":\"cefc1357-252f-4028-b034-90d73f4abdfe\",\"type\":\"GlyphRenderer\"}]},\"id\":\"b708598d-9e96-4fca-8d69-92a8f6720879\",\"type\":\"LegendItem\"},{\"attributes\":{\"plot\":{\"id\":\"c9841a25-30e0-4401-a80e-e7ce14814669\",\"subtype\":\"Figure\",\"type\":\"Plot\"}},\"id\":\"74978385-9dfd-4452-a369-e92aee22d934\",\"type\":\"WheelZoomTool\"},{\"attributes\":{\"axis_label_text_font\":\"sans-serif\",\"axis_label_text_font_size\":{\"value\":\"11.000000pt\"},\"axis_label_text_font_style\":\"normal\",\"formatter\":{\"id\":\"8fbcefec-5b44-48fa-93a6-f07dc1f93816\",\"type\":\"BasicTickFormatter\"},\"major_label_text_font\":\"sans-serif\",\"major_label_text_font_size\":{\"value\":\"10.000000pt\"},\"plot\":{\"id\":\"23aa0ad3-8b77-4ca6-b9e6-33513df8594b\",\"type\":\"Plot\"},\"ticker\":{\"id\":\"042dd680-30cb-40f6-86b7-1064fe8b162d\",\"type\":\"BasicTicker\"}},\"id\":\"d3c9ce20-e16a-412d-9a42-9b6023319337\",\"type\":\"LinearAxis\"},{\"attributes\":{\"end_angle\":{\"units\":\"rad\",\"value\":1.7931464917749962},\"fill_alpha\":{\"value\":0.1},\"fill_color\":{\"value\":\"#1f77b4\"},\"line_alpha\":{\"value\":0.1},\"line_color\":{\"value\":\"#1f77b4\"},\"radius\":{\"units\":\"data\",\"value\":1},\"start_angle\":{\"units\":\"rad\",\"value\":0.0},\"x\":{\"value\":0},\"y\":{\"value\":0}},\"id\":\"a8eef048-aff9-423b-9862-309744e7bfba\",\"type\":\"Wedge\"},{\"attributes\":{\"end_angle\":{\"units\":\"rad\",\"value\":1.7931464917749962},\"fill_color\":{\"value\":\"#FBFCBF\"},\"line_color\":{\"value\":\"#FBFCBF\"},\"radius\":{\"units\":\"data\",\"value\":1},\"start_angle\":{\"units\":\"rad\",\"value\":0.0},\"x\":{\"value\":0},\"y\":{\"value\":0}},\"id\":\"af2193c2-937a-41ba-b51a-ba4bc635a603\",\"type\":\"Wedge\"},{\"attributes\":{\"callback\":null},\"id\":\"f2afa48e-5a69-49a7-be40-946c01b104b4\",\"type\":\"ColumnDataSource\"},{\"attributes\":{\"plot\":{\"id\":\"a738173e-cada-4b27-9a00-db4c4bfa327d\",\"subtype\":\"Figure\",\"type\":\"Plot\"}},\"id\":\"22b81a23-0382-41d6-b91e-3f2705fa0b41\",\"type\":\"ResetTool\"},{\"attributes\":{\"data_source\":{\"id\":\"b5fa5344-366c-4329-adaa-2ab911be50d1\",\"type\":\"ColumnDataSource\"},\"glyph\":{\"id\":\"1a5123ae-13bb-45cc-9243-9986b7777783\",\"type\":\"Patches\"},\"hover_glyph\":null,\"nonselection_glyph\":null,\"selection_glyph\":null},\"id\":\"86a8e74e-6469-485e-a0ce-f959e77c4e89\",\"type\":\"GlyphRenderer\"},{\"attributes\":{\"active_drag\":\"auto\",\"active_scroll\":\"auto\",\"active_tap\":\"auto\",\"tools\":[{\"id\":\"f29ac7ed-efb4-4933-8a4b-d12037611567\",\"type\":\"PanTool\"},{\"id\":\"9d54c4e5-22b6-44f5-8a34-3715fdf3edbb\",\"type\":\"WheelZoomTool\"},{\"id\":\"38cefe2b-3b24-439c-8528-f07dbf40ad8b\",\"type\":\"BoxZoomTool\"},{\"id\":\"a52cb915-4b38-4e1a-8884-60f1c9542413\",\"type\":\"SaveTool\"},{\"id\":\"fa15ad44-19a4-4c74-94f3-b75b4633dc29\",\"type\":\"ResetTool\"},{\"id\":\"29130f9e-44fe-4c07-bd62-e45cb9a0de2a\",\"type\":\"HelpTool\"}]},\"id\":\"6b3c4fd1-aaef-455a-8504-fd4198ec82b2\",\"type\":\"Toolbar\"},{\"attributes\":{\"plot\":{\"id\":\"23aa0ad3-8b77-4ca6-b9e6-33513df8594b\",\"type\":\"Plot\"}},\"id\":\"12d8582c-3b4e-4713-8e2f-e83805c25910\",\"type\":\"ResetTool\"},{\"attributes\":{},\"id\":\"8fbcefec-5b44-48fa-93a6-f07dc1f93816\",\"type\":\"BasicTickFormatter\"},{\"attributes\":{\"data_source\":{\"id\":\"cbc42cb6-96f8-494e-9686-5928761b5d4e\",\"type\":\"ColumnDataSource\"},\"glyph\":{\"id\":\"008b4d66-78d4-47e9-9132-cd598f678164\",\"type\":\"Line\"},\"hover_glyph\":null,\"nonselection_glyph\":null,\"selection_glyph\":null},\"id\":\"b20b7a05-0989-422d-a683-e134e149e83a\",\"type\":\"GlyphRenderer\"},{\"attributes\":{\"callback\":null,\"start\":-1},\"id\":\"16f10c0a-a323-4be9-99c6-0b7520fc60c7\",\"type\":\"Range1d\"},{\"attributes\":{\"data_source\":{\"id\":\"aa7229b6-d7c6-41af-abcf-79318e11a907\",\"type\":\"ColumnDataSource\"},\"glyph\":{\"id\":\"af2193c2-937a-41ba-b51a-ba4bc635a603\",\"type\":\"Wedge\"},\"hover_glyph\":null,\"nonselection_glyph\":{\"id\":\"a8eef048-aff9-423b-9862-309744e7bfba\",\"type\":\"Wedge\"},\"selection_glyph\":null},\"id\":\"c38d7155-12c9-497d-8961-3e43535a67cf\",\"type\":\"GlyphRenderer\"},{\"attributes\":{\"data_source\":{\"id\":\"22f34ed3-40f0-4f3d-84f4-9e5c88f535f8\",\"type\":\"ColumnDataSource\"},\"glyph\":{\"id\":\"71672080-8346-4aa8-91de-c4a0206e421c\",\"type\":\"Wedge\"},\"hover_glyph\":null,\"nonselection_glyph\":{\"id\":\"639c66e8-5cb1-4ac5-9c14-cd7031e61df8\",\"type\":\"Wedge\"},\"selection_glyph\":null},\"id\":\"b2b76170-fab2-45bd-8099-73acaf8ec771\",\"type\":\"GlyphRenderer\"},{\"attributes\":{\"plot\":{\"id\":\"c9841a25-30e0-4401-a80e-e7ce14814669\",\"subtype\":\"Figure\",\"type\":\"Plot\"}},\"id\":\"1f7cc226-feb6-4a0a-8eb7-aea6eab25072\",\"type\":\"HelpTool\"},{\"attributes\":{\"dimension\":1,\"grid_line_color\":{\"value\":\"white\"},\"plot\":{\"id\":\"23aa0ad3-8b77-4ca6-b9e6-33513df8594b\",\"type\":\"Plot\"},\"ticker\":{\"id\":\"042dd680-30cb-40f6-86b7-1064fe8b162d\",\"type\":\"BasicTicker\"}},\"id\":\"d6c0c355-5417-4a0b-8113-18f881cd8b3c\",\"type\":\"Grid\"},{\"attributes\":{\"plot\":null,\"text\":\"Distribution of direction\"},\"id\":\"d1399f3e-edbe-4838-81f1-4a8fd3a985d7\",\"type\":\"Title\"},{\"attributes\":{\"children\":[{\"id\":\"59042907-e681-470b-82b1-ac29571e9b0c\",\"type\":\"Row\"},{\"id\":\"550ea251-fd09-4a67-8bb0-3f1c0ad81a95\",\"type\":\"Row\"}]},\"id\":\"fcb444a5-e430-4a3c-848a-ef3b58ae6b4f\",\"type\":\"Column\"},{\"attributes\":{\"axis_label\":\"antenna_id\",\"axis_label_text_font\":\"sans-serif\",\"axis_label_text_font_size\":{\"value\":\"11.000000pt\"},\"axis_label_text_font_style\":\"normal\",\"formatter\":{\"id\":\"0995fefd-01b0-4bc7-8e1f-2c20d33f80cf\",\"type\":\"BasicTickFormatter\"},\"major_label_text_font\":\"sans-serif\",\"major_label_text_font_size\":{\"value\":\"10.000000pt\"},\"plot\":{\"id\":\"23aa0ad3-8b77-4ca6-b9e6-33513df8594b\",\"type\":\"Plot\"},\"ticker\":{\"id\":\"ca00c2ee-ae18-4a33-a939-17c33597a18a\",\"type\":\"BasicTicker\"}},\"id\":\"56dc3633-787a-4569-91c8-a11f2c8b9620\",\"type\":\"LinearAxis\"},{\"attributes\":{\"end_angle\":{\"units\":\"rad\",\"value\":6.283185307179586},\"fill_color\":{\"value\":\"#000003\"},\"line_color\":{\"value\":\"#000003\"},\"radius\":{\"units\":\"data\",\"value\":1},\"start_angle\":{\"units\":\"rad\",\"value\":1.7931464917749962},\"x\":{\"value\":0},\"y\":{\"value\":0}},\"id\":\"71672080-8346-4aa8-91de-c4a0206e421c\",\"type\":\"Wedge\"},{\"attributes\":{\"fill_color\":{\"field\":\"Series 2\"},\"line_color\":{\"field\":\"Series 3\"},\"line_dash_offset\":null,\"line_width\":{\"field\":\"Series 4\"},\"xs\":{\"field\":\"Series 0\"},\"ys\":{\"field\":\"Series 1\"}},\"id\":\"1a5123ae-13bb-45cc-9243-9986b7777783\",\"type\":\"Patches\"},{\"attributes\":{\"overlay\":{\"id\":\"e08c96a3-a95e-4c55-9996-5c06c088eb30\",\"type\":\"BoxAnnotation\"},\"plot\":{\"id\":\"c9841a25-30e0-4401-a80e-e7ce14814669\",\"subtype\":\"Figure\",\"type\":\"Plot\"}},\"id\":\"6750e6d9-1e2e-494f-8d89-9375ea586625\",\"type\":\"BoxZoomTool\"},{\"attributes\":{\"plot\":{\"id\":\"c9841a25-30e0-4401-a80e-e7ce14814669\",\"subtype\":\"Figure\",\"type\":\"Plot\"},\"ticker\":{\"id\":\"69812303-22ff-4567-b005-0ed53b6272fa\",\"type\":\"BasicTicker\"}},\"id\":\"23eb1a44-c00d-438b-b337-6913f96e065c\",\"type\":\"Grid\"},{\"attributes\":{\"plot\":{\"id\":\"78884c89-600b-410f-ab5a-956d5ccd8a07\",\"type\":\"Plot\"}},\"id\":\"9d54c4e5-22b6-44f5-8a34-3715fdf3edbb\",\"type\":\"WheelZoomTool\"},{\"attributes\":{\"overlay\":{\"id\":\"79370908-f710-44f4-bede-f5f324313dd8\",\"type\":\"BoxAnnotation\"},\"plot\":{\"id\":\"78884c89-600b-410f-ab5a-956d5ccd8a07\",\"type\":\"Plot\"}},\"id\":\"38cefe2b-3b24-439c-8528-f07dbf40ad8b\",\"type\":\"BoxZoomTool\"},{\"attributes\":{\"plot\":{\"id\":\"a738173e-cada-4b27-9a00-db4c4bfa327d\",\"subtype\":\"Figure\",\"type\":\"Plot\"}},\"id\":\"19dffc3c-e5b2-40bd-a74b-040297fe4f34\",\"type\":\"PanTool\"},{\"attributes\":{\"plot\":null,\"text\":\"\"},\"id\":\"25033121-4cfd-4dd8-9674-2fc97a750883\",\"type\":\"Title\"},{\"attributes\":{},\"id\":\"62f9d816-903d-4db1-a99e-0c8e1060fd9f\",\"type\":\"ToolEvents\"},{\"attributes\":{},\"id\":\"1e9e3e49-eeae-46fa-b140-4cccfac4c222\",\"type\":\"BasicTickFormatter\"},{\"attributes\":{\"line_color\":{\"value\":\"#4C4C4C\"},\"line_width\":{\"value\":1.75},\"x\":{\"field\":\"Series 0\"},\"y\":{\"field\":\"Series 1\"}},\"id\":\"6815e036-85c2-4288-be66-ea9b34bb07dd\",\"type\":\"Line\"},{\"attributes\":{\"bottom_units\":\"screen\",\"fill_alpha\":{\"value\":0.5},\"fill_color\":{\"value\":\"lightgrey\"},\"left_units\":\"screen\",\"level\":\"overlay\",\"line_alpha\":{\"value\":1.0},\"line_color\":{\"value\":\"black\"},\"line_dash\":[4,4],\"line_width\":{\"value\":2},\"plot\":null,\"render_mode\":\"css\",\"right_units\":\"screen\",\"top_units\":\"screen\"},\"id\":\"79370908-f710-44f4-bede-f5f324313dd8\",\"type\":\"BoxAnnotation\"},{\"attributes\":{\"children\":[{\"id\":\"78884c89-600b-410f-ab5a-956d5ccd8a07\",\"type\":\"Plot\"},{\"id\":\"23aa0ad3-8b77-4ca6-b9e6-33513df8594b\",\"type\":\"Plot\"}]},\"id\":\"59042907-e681-470b-82b1-ac29571e9b0c\",\"type\":\"Row\"},{\"attributes\":{\"items\":[{\"id\":\"b708598d-9e96-4fca-8d69-92a8f6720879\",\"type\":\"LegendItem\"},{\"id\":\"e941cdc9-75ef-431f-b48e-012893b8eb62\",\"type\":\"LegendItem\"}],\"plot\":{\"id\":\"c9841a25-30e0-4401-a80e-e7ce14814669\",\"subtype\":\"Figure\",\"type\":\"Plot\"}},\"id\":\"2b773b07-69c7-4c00-b0f6-71e1cbbccee0\",\"type\":\"Legend\"},{\"attributes\":{\"grid_line_color\":{\"value\":\"white\"},\"plot\":{\"id\":\"23aa0ad3-8b77-4ca6-b9e6-33513df8594b\",\"type\":\"Plot\"},\"ticker\":{\"id\":\"ca00c2ee-ae18-4a33-a939-17c33597a18a\",\"type\":\"BasicTicker\"}},\"id\":\"3b024ce8-0a15-49bb-a839-cf5d182b066f\",\"type\":\"Grid\"},{\"attributes\":{\"plot\":{\"id\":\"c9841a25-30e0-4401-a80e-e7ce14814669\",\"subtype\":\"Figure\",\"type\":\"Plot\"}},\"id\":\"632047f0-0aab-4030-9331-efee4c077d3a\",\"type\":\"ResetTool\"},{\"attributes\":{\"label\":{\"value\":\"text-0.71 %\"},\"renderers\":[{\"id\":\"b2b76170-fab2-45bd-8099-73acaf8ec771\",\"type\":\"GlyphRenderer\"}]},\"id\":\"742ef9df-c650-4d8a-8c18-8fa05f926f67\",\"type\":\"LegendItem\"},{\"attributes\":{\"below\":[{\"id\":\"cdc04f0b-6335-447a-8c33-94ddc5c8e0f8\",\"type\":\"LinearAxis\"}],\"left\":[{\"id\":\"03807e4e-0b89-45ba-983a-d312816c2949\",\"type\":\"LinearAxis\"}],\"renderers\":[{\"id\":\"cdc04f0b-6335-447a-8c33-94ddc5c8e0f8\",\"type\":\"LinearAxis\"},{\"id\":\"23eb1a44-c00d-438b-b337-6913f96e065c\",\"type\":\"Grid\"},{\"id\":\"03807e4e-0b89-45ba-983a-d312816c2949\",\"type\":\"LinearAxis\"},{\"id\":\"2ab4074e-7bda-49df-868e-2bd53ecc5f96\",\"type\":\"Grid\"},{\"id\":\"e08c96a3-a95e-4c55-9996-5c06c088eb30\",\"type\":\"BoxAnnotation\"},{\"id\":\"2b773b07-69c7-4c00-b0f6-71e1cbbccee0\",\"type\":\"Legend\"},{\"id\":\"cefc1357-252f-4028-b034-90d73f4abdfe\",\"type\":\"GlyphRenderer\"},{\"id\":\"53cae448-a159-4188-bf8e-0f350a957c98\",\"type\":\"GlyphRenderer\"}],\"title\":{\"id\":\"d1399f3e-edbe-4838-81f1-4a8fd3a985d7\",\"type\":\"Title\"},\"tool_events\":{\"id\":\"1632cdfc-080f-4633-a27b-e1bd957e91b3\",\"type\":\"ToolEvents\"},\"toolbar\":{\"id\":\"7e5c9003-c778-4f3b-8641-63392a8f5389\",\"type\":\"Toolbar\"},\"toolbar_location\":null,\"x_range\":{\"id\":\"94927d3e-84aa-480c-8825-a560103379e4\",\"type\":\"Range1d\"},\"y_range\":{\"id\":\"16f10c0a-a323-4be9-99c6-0b7520fc60c7\",\"type\":\"Range1d\"}},\"id\":\"c9841a25-30e0-4401-a80e-e7ce14814669\",\"subtype\":\"Figure\",\"type\":\"Plot\"},{\"attributes\":{\"plot\":{\"id\":\"a738173e-cada-4b27-9a00-db4c4bfa327d\",\"subtype\":\"Figure\",\"type\":\"Plot\"},\"ticker\":{\"id\":\"beaf3ccd-1e51-4149-a723-f5b6188bc372\",\"type\":\"BasicTicker\"}},\"id\":\"a01e3613-7cad-4b48-a864-adf902c46be8\",\"type\":\"Grid\"},{\"attributes\":{},\"id\":\"0995fefd-01b0-4bc7-8e1f-2c20d33f80cf\",\"type\":\"BasicTickFormatter\"},{\"attributes\":{\"data_source\":{\"id\":\"68e3f4d9-a707-4645-8012-cd1608680847\",\"type\":\"ColumnDataSource\"},\"glyph\":{\"id\":\"41ca0ca2-b636-4678-a463-44d081717100\",\"type\":\"Circle\"},\"hover_glyph\":null,\"nonselection_glyph\":null,\"selection_glyph\":null},\"id\":\"740e4d1f-00db-41c6-a056-c994935fbdd0\",\"type\":\"GlyphRenderer\"},{\"attributes\":{},\"id\":\"1b34b8b3-7e53-45b7-aacc-0393aa2fb062\",\"type\":\"BasicTickFormatter\"}],\"root_ids\":[\"7dcc1052-b6e0-4e33-9cbc-16304df9d599\"]},\"title\":\"Bokeh Application\",\"version\":\"0.12.3\"}};\n",
       "            var render_items = [{\"docid\":\"1aa00cd2-d7dd-4c77-8b7f-beacd2011606\",\"elementid\":\"57c10c54-60bf-4906-bd97-7be2e8d4f9a9\",\"modelid\":\"7dcc1052-b6e0-4e33-9cbc-16304df9d599\"}];\n",
       "            \n",
       "            Bokeh.embed.embed_items(docs_json, render_items);\n",
       "        });\n",
       "      },\n",
       "      function(Bokeh) {\n",
       "      }\n",
       "    ];\n",
       "  \n",
       "    function run_inline_js() {\n",
       "      \n",
       "      if ((window.Bokeh !== undefined) || (force === \"1\")) {\n",
       "        for (var i = 0; i < inline_js.length; i++) {\n",
       "          inline_js[i](window.Bokeh);\n",
       "        }if (force === \"1\") {\n",
       "          display_loaded();\n",
       "        }} else if (Date.now() < window._bokeh_timeout) {\n",
       "        setTimeout(run_inline_js, 100);\n",
       "      } else if (!window._bokeh_failed_load) {\n",
       "        console.log(\"Bokeh: BokehJS failed to load within specified timeout.\");\n",
       "        window._bokeh_failed_load = true;\n",
       "      } else if (!force) {\n",
       "        var cell = $(\"#57c10c54-60bf-4906-bd97-7be2e8d4f9a9\").parents('.cell').data().cell;\n",
       "        cell.output_area.append_execute_result(NB_LOAD_WARNING)\n",
       "      }\n",
       "  \n",
       "    }\n",
       "  \n",
       "    if (window._bokeh_is_loading === 0) {\n",
       "      console.log(\"Bokeh: BokehJS loaded, going straight to plotting\");\n",
       "      run_inline_js();\n",
       "    } else {\n",
       "      load_libs(js_urls, function() {\n",
       "        console.log(\"Bokeh: BokehJS plotting callback run at\", now());\n",
       "        run_inline_js();\n",
       "      });\n",
       "    }\n",
       "  }(this));\n",
       "</script>"
      ]
     },
     "metadata": {},
     "output_type": "display_data"
    }
   ],
   "source": [
    "analyze.dist_analyze(irisDf)"
   ]
  },
  {
   "cell_type": "code",
   "execution_count": 13,
   "metadata": {
    "ExecuteTime": {
     "end_time": "2017-02-25T22:46:00.139444",
     "start_time": "2017-02-25T22:45:59.910923"
    },
    "collapsed": false,
    "scrolled": false
   },
   "outputs": [
    {
     "name": "stdout",
     "output_type": "stream",
     "text": [
      "Variance of call_duration\n",
      "195314.812308\n",
      "Skewness of call_duration\n",
      "3.96144995214\n"
     ]
    },
    {
     "name": "stderr",
     "output_type": "stream",
     "text": [
      "/home/anand/anaconda3/envs/analytics/lib/python3.5/site-packages/bokeh/core/compat/bokeh_renderer.py:262: UserWarning: Path marker shapes currently not handled, defaulting to Circle\n",
      "  warnings.warn(\"Path marker shapes currently not handled, defaulting to Circle\")\n",
      "/home/anand/anaconda3/envs/analytics/lib/python3.5/site-packages/matplotlib/artist.py:224: MatplotlibDeprecationWarning: get_axes has been deprecated in mpl 1.5, please use the\n",
      "axes property.  A removal date has not been set.\n",
      "  stacklevel=1)\n",
      "/home/anand/anaconda3/envs/analytics/lib/python3.5/site-packages/bokeh/core/compat/bokeh_renderer.py:295: UserWarning: Path marker sizes support is limited and may not display as expected\n",
      "  warnings.warn(\"Path marker sizes support is limited and may not display as expected\")\n"
     ]
    },
    {
     "data": {
      "text/html": [
       "\n",
       "\n",
       "    <div class=\"bk-root\">\n",
       "        <div class=\"plotdiv\" id=\"39ff42f4-18af-4853-ad47-5e3abbf9c30f\"></div>\n",
       "    </div>\n",
       "<script type=\"text/javascript\">\n",
       "  \n",
       "  (function(global) {\n",
       "    function now() {\n",
       "      return new Date();\n",
       "    }\n",
       "  \n",
       "    var force = \"\";\n",
       "  \n",
       "    if (typeof (window._bokeh_onload_callbacks) === \"undefined\" || force !== \"\") {\n",
       "      window._bokeh_onload_callbacks = [];\n",
       "      window._bokeh_is_loading = undefined;\n",
       "    }\n",
       "  \n",
       "  \n",
       "    \n",
       "    if (typeof (window._bokeh_timeout) === \"undefined\" || force !== \"\") {\n",
       "      window._bokeh_timeout = Date.now() + 0;\n",
       "      window._bokeh_failed_load = false;\n",
       "    }\n",
       "  \n",
       "    var NB_LOAD_WARNING = {'data': {'text/html':\n",
       "       \"<div style='background-color: #fdd'>\\n\"+\n",
       "       \"<p>\\n\"+\n",
       "       \"BokehJS does not appear to have successfully loaded. If loading BokehJS from CDN, this \\n\"+\n",
       "       \"may be due to a slow or bad network connection. Possible fixes:\\n\"+\n",
       "       \"</p>\\n\"+\n",
       "       \"<ul>\\n\"+\n",
       "       \"<li>re-rerun `output_notebook()` to attempt to load from CDN again, or</li>\\n\"+\n",
       "       \"<li>use INLINE resources instead, as so:</li>\\n\"+\n",
       "       \"</ul>\\n\"+\n",
       "       \"<code>\\n\"+\n",
       "       \"from bokeh.resources import INLINE\\n\"+\n",
       "       \"output_notebook(resources=INLINE)\\n\"+\n",
       "       \"</code>\\n\"+\n",
       "       \"</div>\"}};\n",
       "  \n",
       "    function display_loaded() {\n",
       "      if (window.Bokeh !== undefined) {\n",
       "        Bokeh.$(\"#39ff42f4-18af-4853-ad47-5e3abbf9c30f\").text(\"BokehJS successfully loaded.\");\n",
       "      } else if (Date.now() < window._bokeh_timeout) {\n",
       "        setTimeout(display_loaded, 100)\n",
       "      }\n",
       "    }\n",
       "  \n",
       "    function run_callbacks() {\n",
       "      window._bokeh_onload_callbacks.forEach(function(callback) { callback() });\n",
       "      delete window._bokeh_onload_callbacks\n",
       "      console.info(\"Bokeh: all callbacks have finished\");\n",
       "    }\n",
       "  \n",
       "    function load_libs(js_urls, callback) {\n",
       "      window._bokeh_onload_callbacks.push(callback);\n",
       "      if (window._bokeh_is_loading > 0) {\n",
       "        console.log(\"Bokeh: BokehJS is being loaded, scheduling callback at\", now());\n",
       "        return null;\n",
       "      }\n",
       "      if (js_urls == null || js_urls.length === 0) {\n",
       "        run_callbacks();\n",
       "        return null;\n",
       "      }\n",
       "      console.log(\"Bokeh: BokehJS not loaded, scheduling load and callback at\", now());\n",
       "      window._bokeh_is_loading = js_urls.length;\n",
       "      for (var i = 0; i < js_urls.length; i++) {\n",
       "        var url = js_urls[i];\n",
       "        var s = document.createElement('script');\n",
       "        s.src = url;\n",
       "        s.async = false;\n",
       "        s.onreadystatechange = s.onload = function() {\n",
       "          window._bokeh_is_loading--;\n",
       "          if (window._bokeh_is_loading === 0) {\n",
       "            console.log(\"Bokeh: all BokehJS libraries loaded\");\n",
       "            run_callbacks()\n",
       "          }\n",
       "        };\n",
       "        s.onerror = function() {\n",
       "          console.warn(\"failed to load library \" + url);\n",
       "        };\n",
       "        console.log(\"Bokeh: injecting script tag for BokehJS library: \", url);\n",
       "        document.getElementsByTagName(\"head\")[0].appendChild(s);\n",
       "      }\n",
       "    };var element = document.getElementById(\"39ff42f4-18af-4853-ad47-5e3abbf9c30f\");\n",
       "    if (element == null) {\n",
       "      console.log(\"Bokeh: ERROR: autoload.js configured with elementid '39ff42f4-18af-4853-ad47-5e3abbf9c30f' but no matching script tag was found. \")\n",
       "      return false;\n",
       "    }\n",
       "  \n",
       "    var js_urls = [];\n",
       "  \n",
       "    var inline_js = [\n",
       "      function(Bokeh) {\n",
       "        Bokeh.$(function() {\n",
       "            var docs_json = {\"cd157a28-d824-47ec-a8b9-f519970ababc\":{\"roots\":{\"references\":[{\"attributes\":{},\"id\":\"4e2bdb31-938b-4062-8d24-54d60deff2eb\",\"type\":\"BasicTicker\"},{\"attributes\":{\"data_source\":{\"id\":\"bd7df73c-915f-47b7-a1bf-57392a29beb9\",\"type\":\"ColumnDataSource\"},\"glyph\":{\"id\":\"c71f0692-cb09-4b65-911e-66157db12ec4\",\"type\":\"Line\"},\"hover_glyph\":null,\"nonselection_glyph\":null,\"selection_glyph\":null},\"id\":\"fe5bb153-3541-4987-8c0e-082e4fce9868\",\"type\":\"GlyphRenderer\"},{\"attributes\":{\"active_drag\":\"auto\",\"active_scroll\":\"auto\",\"active_tap\":\"auto\",\"tools\":[{\"id\":\"d49da8e7-ff6a-47a3-be93-2d3266575dcd\",\"type\":\"PanTool\"},{\"id\":\"42a3f463-ccf6-487f-af06-1c2df0cb1705\",\"type\":\"WheelZoomTool\"},{\"id\":\"d44dc1fe-75e5-47e9-8f6e-fe9d020e147c\",\"type\":\"BoxZoomTool\"},{\"id\":\"8b384b07-f5df-4be6-b5f7-6c6127c5b44c\",\"type\":\"SaveTool\"},{\"id\":\"73fc2e86-4d3a-4edd-8b75-060b0c84bce6\",\"type\":\"ResetTool\"},{\"id\":\"daaf8cc7-43a1-4819-a00b-e43e7abcee6f\",\"type\":\"HelpTool\"}]},\"id\":\"3deba5f0-0303-45ce-93a1-87cce4186d85\",\"type\":\"Toolbar\"},{\"attributes\":{\"axis_label_text_font\":\"sans-serif\",\"axis_label_text_font_size\":{\"value\":\"11.000000pt\"},\"axis_label_text_font_style\":\"normal\",\"formatter\":{\"id\":\"3a523354-b6f2-4c30-b152-5edea406a5c4\",\"type\":\"BasicTickFormatter\"},\"major_label_text_font\":\"sans-serif\",\"major_label_text_font_size\":{\"value\":\"10.000000pt\"},\"plot\":{\"id\":\"efebad80-8e70-4fce-b3e3-c9acb471bc10\",\"type\":\"Plot\"},\"ticker\":{\"id\":\"955c5795-1bcf-4850-910b-11ccd213a8f6\",\"type\":\"BasicTicker\"}},\"id\":\"e1618735-d491-4592-a634-581ecf37e6dd\",\"type\":\"LinearAxis\"},{\"attributes\":{\"callback\":null,\"column_names\":[\"Series 0\",\"Series 1\"],\"data\":{\"Series 0\":[1.0,434.0],\"Series 1\":[0.0,0.0]}},\"id\":\"bd7df73c-915f-47b7-a1bf-57392a29beb9\",\"type\":\"ColumnDataSource\"},{\"attributes\":{\"overlay\":{\"id\":\"d45ee98c-49f9-43b8-bd23-70742c47ee69\",\"type\":\"BoxAnnotation\"},\"plot\":{\"id\":\"efebad80-8e70-4fce-b3e3-c9acb471bc10\",\"type\":\"Plot\"}},\"id\":\"d44dc1fe-75e5-47e9-8f6e-fe9d020e147c\",\"type\":\"BoxZoomTool\"},{\"attributes\":{\"line_color\":{\"value\":\"#4C4C4C\"},\"line_width\":{\"value\":1.75},\"x\":{\"field\":\"Series 0\"},\"y\":{\"field\":\"Series 1\"}},\"id\":\"c71f0692-cb09-4b65-911e-66157db12ec4\",\"type\":\"Line\"},{\"attributes\":{\"callback\":null,\"column_names\":[\"Series 0\",\"Series 1\",\"Series 2\",\"Series 3\",\"Series 4\"],\"data\":{\"Series 0\":[[-274.16447562932206,-274.16447562932206,-237.58539531357818,-201.0063149978343,-164.42723468209041,-127.84815436634653,-91.26907405060265,-54.689993734858774,-18.110913419114922,18.468166896628986,55.047247212372895,91.62632752811675,128.2054078438606,164.7844881596045,201.36356847534842,237.9426487910922,274.5217291068361,311.10080942258,347.67988973832394,384.25897005406785,420.83805036981164,457.41713068555555,493.99621100129946,530.5752913170433,567.1543716327872,603.7334519485311,640.312532264275,676.8916125800189,713.4706928957627,750.0497732115065,786.6288535272505,823.2079338429943,859.7870141587383,896.3660944744821,932.9451747902259,969.5242551059699,1006.1033354217137,1042.6824157374576,1079.2614960532014,1115.8405763689452,1152.4196566846895,1188.9987370004333,1225.577817316177,1262.1568976319209,1298.7359779476647,1335.3150582634084,1371.8941385791527,1408.4732188948965,1445.0522992106403,1481.631379526384,1518.2104598421279,1554.7895401578721,1591.368620473616,1627.9477007893597,1664.5267811051035,1701.1058614208473,1737.6849417365916,1774.264022052335,1810.8431023680791,1847.422182683823,1884.0012629995667,1920.5803433153105,1957.1594236310543,1993.7385039467986,2030.3175842625424,2066.896664578286,2103.47574489403,2140.0548252097738,2176.633905525518,2213.212985841262,2249.7920661570056,2286.3711464727494,2322.950226788493,2359.5293071042374,2396.108387419981,2432.687467735725,2469.266548051469,2505.8456283672126,2542.4247086829564,2579.0037889987007,2615.5828693144445,2652.1619496301882,2688.741029945932,2725.320110261676,2761.89919057742,2798.478270893164,2835.0573512089077,2871.6364315246515,2908.2155118403953,2944.794592156139,2981.3736724718833,3017.952752787627,3054.531833103371,3091.1109134191147,3127.6899937348585,3164.2690740506027,3200.8481543663465,3237.4272346820903,3274.006314997834,3310.585395313578,3347.164475629322,3347.164475629322,3347.164475629322,3310.585395313578,3274.006314997834,3237.4272346820903,3200.8481543663465,3164.2690740506027,3127.6899937348585,3091.1109134191147,3054.531833103371,3017.952752787627,2981.3736724718833,2944.794592156139,2908.2155118403953,2871.6364315246515,2835.0573512089077,2798.478270893164,2761.89919057742,2725.320110261676,2688.741029945932,2652.1619496301882,2615.5828693144445,2579.0037889987007,2542.4247086829564,2505.8456283672126,2469.266548051469,2432.687467735725,2396.108387419981,2359.5293071042374,2322.950226788493,2286.3711464727494,2249.7920661570056,2213.212985841262,2176.633905525518,2140.0548252097738,2103.47574489403,2066.896664578286,2030.3175842625424,1993.7385039467986,1957.1594236310543,1920.5803433153105,1884.0012629995667,1847.422182683823,1810.8431023680791,1774.264022052335,1737.6849417365916,1701.1058614208473,1664.5267811051035,1627.9477007893597,1591.368620473616,1554.7895401578721,1518.2104598421279,1481.631379526384,1445.0522992106403,1408.4732188948965,1371.8941385791527,1335.3150582634084,1298.7359779476647,1262.1568976319209,1225.577817316177,1188.9987370004333,1152.4196566846895,1115.8405763689452,1079.2614960532014,1042.6824157374576,1006.1033354217137,969.5242551059699,932.9451747902259,896.3660944744821,859.7870141587383,823.2079338429943,786.6288535272505,750.0497732115065,713.4706928957627,676.8916125800189,640.312532264275,603.7334519485311,567.1543716327872,530.5752913170433,493.99621100129946,457.41713068555555,420.83805036981164,384.25897005406785,347.67988973832394,311.10080942258,274.5217291068361,237.9426487910922,201.36356847534842,164.7844881596045,128.2054078438606,91.62632752811675,55.047247212372895,18.468166896628986,-18.110913419114922,-54.689993734858774,-91.26907405060265,-127.84815436634653,-164.42723468209041,-201.0063149978343,-237.58539531357818,-274.16447562932206]],\"Series 1\":[[0.02517853440763422,-0.02517853440763422,-0.04438096747920995,-0.07318467131248474,-0.11296210114229417,-0.1633098504718129,-0.22130655241843222,-0.28137667625735024,-0.33604833690979646,-0.377551289955493,-0.3997927057670887,-0.4,-0.3793989732759799,-0.34268573787554013,-0.29655036022636116,-0.24785820294626723,-0.20213560040845624,-0.16276871265627754,-0.1309745197527121,-0.106323314771913,-0.08748044830528458,-0.07288102357865192,-0.06117915494648534,-0.05144331810743799,-0.043154498058116726,-0.03609532733760936,-0.030210181512835027,-0.02548844939958804,-0.021892576287776164,-0.019329144519878414,-0.017649211789143134,-0.016662569628868973,-0.016155638196475055,-0.015909436693250754,-0.015718363964301745,-0.01541054703155055,-0.014867251186685271,-0.014035477171753383,-0.012927814437101053,-0.011608028947137774,-0.010167396469020519,-0.008701016016161552,-0.007292111746576107,-0.0060064754933742345,-0.004893033174502397,-0.003984454032044602,-0.003294791802057575,-0.0028163398340139744,-0.0025207334863576077,-0.0023674644156444855,-0.002317766502297867,-0.002347214481868228,-0.002449886382623877,-0.0026312925344494755,-0.0028938937974699944,-0.003223719828883391,-0.0035862128374793156,-0.00393396859777406,-0.004221847856380336,-0.004420613621931178,-0.00452167389490915,-0.004531698003356003,-0.004462551000812414,-0.0043245474886890916,-0.004127825394164024,-0.003890144707214809,-0.003644302131428233,-0.0034381050259666293,-0.0033244269865456383,-0.003345022808579241,-0.003515512035915165,-0.003818177153334161,-0.004204931704171806,-0.00460801981351477,-0.0049535928469491095,-0.005174130227134516,-0.005218246833074276,-0.0050583207687751024,-0.00469619499415019,-0.004165649884401075,-0.0035294107908025647,-0.0028695573869303268,-0.0022728608549947033,-0.0018148688217735404,-0.0015468544513382188,-0.001488081195724975,-0.0016237131385039437,-0.001907632270139316,-0.0022696252662957345,-0.002626801630684848,-0.002898508876706212,-0.0030223002056991074,-0.0029668346236621686,-0.0027374549773621945,-0.0023722403783559927,-0.001929776761379905,-0.0014729804092037434,-0.0010544540809776888,-0.0007075968225693108,-0.00044488562747638135,-0.0002619316479006004,0.0002619316479006004,0.0002619316479006004,0.00044488562747638135,0.0007075968225693108,0.0010544540809776888,0.0014729804092037434,0.001929776761379905,0.0023722403783559927,0.0027374549773621945,0.0029668346236621686,0.0030223002056991074,0.002898508876706212,0.002626801630684848,0.0022696252662957345,0.001907632270139316,0.0016237131385039437,0.001488081195724975,0.0015468544513382188,0.0018148688217735404,0.0022728608549947033,0.0028695573869303268,0.0035294107908025647,0.004165649884401075,0.00469619499415019,0.0050583207687751024,0.005218246833074276,0.005174130227134516,0.0049535928469491095,0.00460801981351477,0.004204931704171806,0.003818177153334161,0.003515512035915165,0.003345022808579241,0.0033244269865456383,0.0034381050259666293,0.003644302131428233,0.003890144707214809,0.004127825394164024,0.0043245474886890916,0.004462551000812414,0.004531698003356003,0.00452167389490915,0.004420613621931178,0.004221847856380336,0.00393396859777406,0.0035862128374793156,0.003223719828883391,0.0028938937974699944,0.0026312925344494755,0.002449886382623877,0.002347214481868228,0.002317766502297867,0.0023674644156444855,0.0025207334863576077,0.0028163398340139744,0.003294791802057575,0.003984454032044602,0.004893033174502397,0.0060064754933742345,0.007292111746576107,0.008701016016161552,0.010167396469020519,0.011608028947137774,0.012927814437101053,0.014035477171753383,0.014867251186685271,0.01541054703155055,0.015718363964301745,0.015909436693250754,0.016155638196475055,0.016662569628868973,0.017649211789143134,0.019329144519878414,0.021892576287776164,0.02548844939958804,0.030210181512835027,0.03609532733760936,0.043154498058116726,0.05144331810743799,0.06117915494648534,0.07288102357865192,0.08748044830528458,0.106323314771913,0.1309745197527121,0.16276871265627754,0.20213560040845624,0.24785820294626723,0.29655036022636116,0.34268573787554013,0.3793989732759799,0.4,0.3997927057670887,0.377551289955493,0.33604833690979646,0.28137667625735024,0.22130655241843222,0.1633098504718129,0.11296210114229417,0.07318467131248474,0.04438096747920995,0.02517853440763422]],\"Series 2\":[\"#5875a4\"],\"Series 3\":[\"#4c4c4c\"],\"Series 4\":[1.75]}},\"id\":\"ffc69260-a7aa-4a6f-aa14-1148b032f905\",\"type\":\"ColumnDataSource\"},{\"attributes\":{\"data_source\":{\"id\":\"ffc69260-a7aa-4a6f-aa14-1148b032f905\",\"type\":\"ColumnDataSource\"},\"glyph\":{\"id\":\"56cd7260-2aa8-4249-b9a8-6c77f3250580\",\"type\":\"Patches\"},\"hover_glyph\":null,\"nonselection_glyph\":null,\"selection_glyph\":null},\"id\":\"7d9600f6-200c-4207-b815-f573036deebd\",\"type\":\"GlyphRenderer\"},{\"attributes\":{},\"id\":\"f3f2fe74-443c-46d3-8141-87bf426be1aa\",\"type\":\"ToolEvents\"},{\"attributes\":{\"plot\":{\"id\":\"efebad80-8e70-4fce-b3e3-c9acb471bc10\",\"type\":\"Plot\"}},\"id\":\"42a3f463-ccf6-487f-af06-1c2df0cb1705\",\"type\":\"WheelZoomTool\"},{\"attributes\":{\"plot\":{\"id\":\"efebad80-8e70-4fce-b3e3-c9acb471bc10\",\"type\":\"Plot\"}},\"id\":\"73fc2e86-4d3a-4edd-8b75-060b0c84bce6\",\"type\":\"ResetTool\"},{\"attributes\":{\"plot\":{\"id\":\"efebad80-8e70-4fce-b3e3-c9acb471bc10\",\"type\":\"Plot\"}},\"id\":\"daaf8cc7-43a1-4819-a00b-e43e7abcee6f\",\"type\":\"HelpTool\"},{\"attributes\":{\"fill_alpha\":null,\"fill_color\":{\"value\":\"rgb(255, 255, 255)\"},\"line_alpha\":null,\"line_color\":{\"value\":\"rgb(76, 76, 76)\"},\"line_width\":{\"value\":0.3},\"size\":{\"units\":\"screen\",\"value\":20.0},\"x\":{\"field\":\"Series 0\"},\"y\":{\"field\":\"Series 1\"}},\"id\":\"f6e2d4a8-fdb9-4485-adf8-a7a9c13cda74\",\"type\":\"Circle\"},{\"attributes\":{\"callback\":null,\"column_names\":[\"Series 0\",\"Series 1\"],\"data\":{\"Series 0\":[33.0,197.5],\"Series 1\":[0.0,0.0]}},\"id\":\"a4e11ae0-6603-4a73-8bae-0efc3741d92c\",\"type\":\"ColumnDataSource\"},{\"attributes\":{\"plot\":null,\"text\":\"\"},\"id\":\"81123efb-59f1-4e44-bb15-b353f2e3f716\",\"type\":\"Title\"},{\"attributes\":{},\"id\":\"3a523354-b6f2-4c30-b152-5edea406a5c4\",\"type\":\"BasicTickFormatter\"},{\"attributes\":{\"plot\":{\"id\":\"efebad80-8e70-4fce-b3e3-c9acb471bc10\",\"type\":\"Plot\"}},\"id\":\"d49da8e7-ff6a-47a3-be93-2d3266575dcd\",\"type\":\"PanTool\"},{\"attributes\":{\"dimension\":1,\"grid_line_color\":{\"value\":\"white\"},\"plot\":{\"id\":\"efebad80-8e70-4fce-b3e3-c9acb471bc10\",\"type\":\"Plot\"},\"ticker\":{\"id\":\"955c5795-1bcf-4850-910b-11ccd213a8f6\",\"type\":\"BasicTicker\"}},\"id\":\"ab694d4d-e09d-48e8-9e11-00c50ad3eadf\",\"type\":\"Grid\"},{\"attributes\":{\"line_color\":{\"value\":\"#4C4C4C\"},\"line_width\":{\"value\":5.25},\"x\":{\"field\":\"Series 0\"},\"y\":{\"field\":\"Series 1\"}},\"id\":\"eab5e588-de08-46d7-b236-42eb68cbb67b\",\"type\":\"Line\"},{\"attributes\":{\"grid_line_color\":{\"value\":\"white\"},\"plot\":{\"id\":\"efebad80-8e70-4fce-b3e3-c9acb471bc10\",\"type\":\"Plot\"},\"ticker\":{\"id\":\"4e2bdb31-938b-4062-8d24-54d60deff2eb\",\"type\":\"BasicTicker\"}},\"id\":\"c1cef39a-7472-466d-9a5f-34866b3b42db\",\"type\":\"Grid\"},{\"attributes\":{\"background_fill_color\":{\"value\":\"#EAEAF2\"},\"below\":[{\"id\":\"835a510b-f70c-4ebb-b3e2-dac50c87295c\",\"type\":\"LinearAxis\"}],\"left\":[{\"id\":\"e1618735-d491-4592-a634-581ecf37e6dd\",\"type\":\"LinearAxis\"}],\"plot_height\":440,\"plot_width\":640,\"renderers\":[{\"id\":\"835a510b-f70c-4ebb-b3e2-dac50c87295c\",\"type\":\"LinearAxis\"},{\"id\":\"c1cef39a-7472-466d-9a5f-34866b3b42db\",\"type\":\"Grid\"},{\"id\":\"e1618735-d491-4592-a634-581ecf37e6dd\",\"type\":\"LinearAxis\"},{\"id\":\"ab694d4d-e09d-48e8-9e11-00c50ad3eadf\",\"type\":\"Grid\"},{\"id\":\"d45ee98c-49f9-43b8-bd23-70742c47ee69\",\"type\":\"BoxAnnotation\"},{\"id\":\"7d9600f6-200c-4207-b815-f573036deebd\",\"type\":\"GlyphRenderer\"},{\"id\":\"fe5bb153-3541-4987-8c0e-082e4fce9868\",\"type\":\"GlyphRenderer\"},{\"id\":\"b76c12ea-7ba6-46d4-986e-9ce5b04364fb\",\"type\":\"GlyphRenderer\"},{\"id\":\"2bad4082-bc40-4655-be4a-1f67aa1e0e98\",\"type\":\"GlyphRenderer\"}],\"title\":{\"id\":\"81123efb-59f1-4e44-bb15-b353f2e3f716\",\"type\":\"Title\"},\"tool_events\":{\"id\":\"f3f2fe74-443c-46d3-8141-87bf426be1aa\",\"type\":\"ToolEvents\"},\"toolbar\":{\"id\":\"3deba5f0-0303-45ce-93a1-87cce4186d85\",\"type\":\"Toolbar\"},\"x_range\":{\"id\":\"b7552601-9546-4e37-bfc0-d8a00cd6a5f5\",\"type\":\"DataRange1d\"},\"y_range\":{\"id\":\"eea7bbee-6859-4826-9af2-9e7d69c6b50e\",\"type\":\"DataRange1d\"}},\"id\":\"efebad80-8e70-4fce-b3e3-c9acb471bc10\",\"type\":\"Plot\"},{\"attributes\":{\"callback\":null},\"id\":\"b7552601-9546-4e37-bfc0-d8a00cd6a5f5\",\"type\":\"DataRange1d\"},{\"attributes\":{},\"id\":\"955c5795-1bcf-4850-910b-11ccd213a8f6\",\"type\":\"BasicTicker\"},{\"attributes\":{\"callback\":null},\"id\":\"eea7bbee-6859-4826-9af2-9e7d69c6b50e\",\"type\":\"DataRange1d\"},{\"attributes\":{\"callback\":null,\"column_names\":[\"Series 0\",\"Series 1\"],\"data\":{\"Series 0\":[77.0],\"Series 1\":[0.0]}},\"id\":\"79e1307f-0675-43a5-bd8a-8ee85e83a7de\",\"type\":\"ColumnDataSource\"},{\"attributes\":{},\"id\":\"1910b33a-4614-435b-b152-26d78ccec359\",\"type\":\"BasicTickFormatter\"},{\"attributes\":{\"data_source\":{\"id\":\"a4e11ae0-6603-4a73-8bae-0efc3741d92c\",\"type\":\"ColumnDataSource\"},\"glyph\":{\"id\":\"eab5e588-de08-46d7-b236-42eb68cbb67b\",\"type\":\"Line\"},\"hover_glyph\":null,\"nonselection_glyph\":null,\"selection_glyph\":null},\"id\":\"b76c12ea-7ba6-46d4-986e-9ce5b04364fb\",\"type\":\"GlyphRenderer\"},{\"attributes\":{\"bottom_units\":\"screen\",\"fill_alpha\":{\"value\":0.5},\"fill_color\":{\"value\":\"lightgrey\"},\"left_units\":\"screen\",\"level\":\"overlay\",\"line_alpha\":{\"value\":1.0},\"line_color\":{\"value\":\"black\"},\"line_dash\":[4,4],\"line_width\":{\"value\":2},\"plot\":null,\"render_mode\":\"css\",\"right_units\":\"screen\",\"top_units\":\"screen\"},\"id\":\"d45ee98c-49f9-43b8-bd23-70742c47ee69\",\"type\":\"BoxAnnotation\"},{\"attributes\":{\"data_source\":{\"id\":\"79e1307f-0675-43a5-bd8a-8ee85e83a7de\",\"type\":\"ColumnDataSource\"},\"glyph\":{\"id\":\"f6e2d4a8-fdb9-4485-adf8-a7a9c13cda74\",\"type\":\"Circle\"},\"hover_glyph\":null,\"nonselection_glyph\":null,\"selection_glyph\":null},\"id\":\"2bad4082-bc40-4655-be4a-1f67aa1e0e98\",\"type\":\"GlyphRenderer\"},{\"attributes\":{\"fill_color\":{\"field\":\"Series 2\"},\"line_color\":{\"field\":\"Series 3\"},\"line_dash_offset\":null,\"line_width\":{\"field\":\"Series 4\"},\"xs\":{\"field\":\"Series 0\"},\"ys\":{\"field\":\"Series 1\"}},\"id\":\"56cd7260-2aa8-4249-b9a8-6c77f3250580\",\"type\":\"Patches\"},{\"attributes\":{\"axis_label\":\"call_duration\",\"axis_label_text_font\":\"sans-serif\",\"axis_label_text_font_size\":{\"value\":\"11.000000pt\"},\"axis_label_text_font_style\":\"normal\",\"formatter\":{\"id\":\"1910b33a-4614-435b-b152-26d78ccec359\",\"type\":\"BasicTickFormatter\"},\"major_label_text_font\":\"sans-serif\",\"major_label_text_font_size\":{\"value\":\"10.000000pt\"},\"plot\":{\"id\":\"efebad80-8e70-4fce-b3e3-c9acb471bc10\",\"type\":\"Plot\"},\"ticker\":{\"id\":\"4e2bdb31-938b-4062-8d24-54d60deff2eb\",\"type\":\"BasicTicker\"}},\"id\":\"835a510b-f70c-4ebb-b3e2-dac50c87295c\",\"type\":\"LinearAxis\"},{\"attributes\":{\"plot\":{\"id\":\"efebad80-8e70-4fce-b3e3-c9acb471bc10\",\"type\":\"Plot\"}},\"id\":\"8b384b07-f5df-4be6-b5f7-6c6127c5b44c\",\"type\":\"SaveTool\"}],\"root_ids\":[\"efebad80-8e70-4fce-b3e3-c9acb471bc10\"]},\"title\":\"Bokeh Application\",\"version\":\"0.12.3\"}};\n",
       "            var render_items = [{\"docid\":\"cd157a28-d824-47ec-a8b9-f519970ababc\",\"elementid\":\"39ff42f4-18af-4853-ad47-5e3abbf9c30f\",\"modelid\":\"efebad80-8e70-4fce-b3e3-c9acb471bc10\"}];\n",
       "            \n",
       "            Bokeh.embed.embed_items(docs_json, render_items);\n",
       "        });\n",
       "      },\n",
       "      function(Bokeh) {\n",
       "      }\n",
       "    ];\n",
       "  \n",
       "    function run_inline_js() {\n",
       "      \n",
       "      if ((window.Bokeh !== undefined) || (force === \"1\")) {\n",
       "        for (var i = 0; i < inline_js.length; i++) {\n",
       "          inline_js[i](window.Bokeh);\n",
       "        }if (force === \"1\") {\n",
       "          display_loaded();\n",
       "        }} else if (Date.now() < window._bokeh_timeout) {\n",
       "        setTimeout(run_inline_js, 100);\n",
       "      } else if (!window._bokeh_failed_load) {\n",
       "        console.log(\"Bokeh: BokehJS failed to load within specified timeout.\");\n",
       "        window._bokeh_failed_load = true;\n",
       "      } else if (!force) {\n",
       "        var cell = $(\"#39ff42f4-18af-4853-ad47-5e3abbf9c30f\").parents('.cell').data().cell;\n",
       "        cell.output_area.append_execute_result(NB_LOAD_WARNING)\n",
       "      }\n",
       "  \n",
       "    }\n",
       "  \n",
       "    if (window._bokeh_is_loading === 0) {\n",
       "      console.log(\"Bokeh: BokehJS loaded, going straight to plotting\");\n",
       "      run_inline_js();\n",
       "    } else {\n",
       "      load_libs(js_urls, function() {\n",
       "        console.log(\"Bokeh: BokehJS plotting callback run at\", now());\n",
       "        run_inline_js();\n",
       "      });\n",
       "    }\n",
       "  }(this));\n",
       "</script>"
      ]
     },
     "metadata": {},
     "output_type": "display_data"
    }
   ],
   "source": [
    "analyze.dist_analyze(irisDf, 'call_duration')"
   ]
  },
  {
   "cell_type": "code",
   "execution_count": 14,
   "metadata": {
    "ExecuteTime": {
     "end_time": "2017-02-25T22:46:00.674097",
     "start_time": "2017-02-25T22:46:00.141103"
    },
    "collapsed": false,
    "scrolled": true
   },
   "outputs": [
    {
     "name": "stdout",
     "output_type": "stream",
     "text": [
      "1752 1752\n"
     ]
    },
    {
     "ename": "ValueError",
     "evalue": "Input contains NaN, infinity or a value too large for dtype('float64').",
     "output_type": "error",
     "traceback": [
      "\u001b[1;31m---------------------------------------------------------------------------\u001b[0m",
      "\u001b[1;31mValueError\u001b[0m                                Traceback (most recent call last)",
      "\u001b[1;32m<ipython-input-14-d72a4ec37f79>\u001b[0m in \u001b[0;36m<module>\u001b[1;34m()\u001b[0m\n\u001b[1;32m----> 1\u001b[1;33m \u001b[0manalyze\u001b[0m\u001b[1;33m.\u001b[0m\u001b[0mregression_analyze\u001b[0m\u001b[1;33m(\u001b[0m\u001b[0mirisDf\u001b[0m\u001b[1;33m,\u001b[0m \u001b[1;34m'call_duration'\u001b[0m\u001b[1;33m,\u001b[0m \u001b[1;34m'datetime'\u001b[0m\u001b[1;33m)\u001b[0m\u001b[1;33m\u001b[0m\u001b[0m\n\u001b[0m",
      "\u001b[1;32m/home/anand/anaconda3/envs/analytics/lib/python3.5/site-packages/datascienceutils-1.1.10-py3.5.egg/datascienceutils/analyze.py\u001b[0m in \u001b[0;36mregression_analyze\u001b[1;34m(df, col1, col2, trainsize, non_linear)\u001b[0m\n\u001b[0;32m    159\u001b[0m     \u001b[0mtarget\u001b[0m \u001b[1;33m=\u001b[0m \u001b[0mnew_df\u001b[0m\u001b[1;33m[\u001b[0m\u001b[0mcol2\u001b[0m\u001b[1;33m]\u001b[0m\u001b[1;33m\u001b[0m\u001b[0m\n\u001b[0;32m    160\u001b[0m     models = [\n\u001b[1;32m--> 161\u001b[1;33m             \u001b[0mpm\u001b[0m\u001b[1;33m.\u001b[0m\u001b[0mtrain\u001b[0m\u001b[1;33m(\u001b[0m\u001b[0mnew_df\u001b[0m\u001b[1;33m,\u001b[0m \u001b[0mtarget\u001b[0m\u001b[1;33m,\u001b[0m \u001b[0mcolumn\u001b[0m\u001b[1;33m=\u001b[0m\u001b[0mcol1\u001b[0m\u001b[1;33m,\u001b[0m \u001b[0mmodelType\u001b[0m\u001b[1;33m=\u001b[0m\u001b[1;34m'LinearRegression'\u001b[0m\u001b[1;33m)\u001b[0m\u001b[1;33m,\u001b[0m\u001b[1;33m\u001b[0m\u001b[0m\n\u001b[0m\u001b[0;32m    162\u001b[0m             \u001b[0mpm\u001b[0m\u001b[1;33m.\u001b[0m\u001b[0mtrain\u001b[0m\u001b[1;33m(\u001b[0m\u001b[0mnew_df\u001b[0m\u001b[1;33m,\u001b[0m \u001b[0mtarget\u001b[0m\u001b[1;33m,\u001b[0m \u001b[0mcolumn\u001b[0m\u001b[1;33m=\u001b[0m\u001b[0mcol1\u001b[0m\u001b[1;33m,\u001b[0m \u001b[0mmodelType\u001b[0m\u001b[1;33m=\u001b[0m\u001b[1;34m'RidgeRegression'\u001b[0m\u001b[1;33m)\u001b[0m\u001b[1;33m,\u001b[0m\u001b[1;33m\u001b[0m\u001b[0m\n\u001b[0;32m    163\u001b[0m             \u001b[0mpm\u001b[0m\u001b[1;33m.\u001b[0m\u001b[0mtrain\u001b[0m\u001b[1;33m(\u001b[0m\u001b[0mnew_df\u001b[0m\u001b[1;33m,\u001b[0m \u001b[0mtarget\u001b[0m\u001b[1;33m,\u001b[0m \u001b[0mcolumn\u001b[0m\u001b[1;33m=\u001b[0m\u001b[0mcol1\u001b[0m\u001b[1;33m,\u001b[0m \u001b[0mmodelType\u001b[0m\u001b[1;33m=\u001b[0m\u001b[1;34m'RidgeRegressionCV'\u001b[0m\u001b[1;33m)\u001b[0m\u001b[1;33m,\u001b[0m\u001b[1;33m\u001b[0m\u001b[0m\n",
      "\u001b[1;32m/home/anand/anaconda3/envs/analytics/lib/python3.5/site-packages/datascienceutils-1.1.10-py3.5.egg/datascienceutils/predictiveModels.py\u001b[0m in \u001b[0;36mtrain\u001b[1;34m(dataframe, target, modelType, column, **kwargs)\u001b[0m\n\u001b[0;32m     30\u001b[0m         \u001b[0msource\u001b[0m \u001b[1;33m=\u001b[0m \u001b[0mdataframe\u001b[0m\u001b[1;33m[\u001b[0m\u001b[0mcolumn\u001b[0m\u001b[1;33m]\u001b[0m\u001b[1;33m.\u001b[0m\u001b[0mreshape\u001b[0m\u001b[1;33m(\u001b[0m\u001b[1;33m(\u001b[0m\u001b[0mlen\u001b[0m\u001b[1;33m(\u001b[0m\u001b[0mtarget\u001b[0m\u001b[1;33m)\u001b[0m\u001b[1;33m,\u001b[0m \u001b[1;36m1\u001b[0m\u001b[1;33m)\u001b[0m\u001b[1;33m)\u001b[0m\u001b[1;33m\u001b[0m\u001b[0m\n\u001b[0;32m     31\u001b[0m         \u001b[0mprint\u001b[0m\u001b[1;33m(\u001b[0m\u001b[0mlen\u001b[0m\u001b[1;33m(\u001b[0m\u001b[0msource\u001b[0m\u001b[1;33m)\u001b[0m\u001b[1;33m,\u001b[0m \u001b[0mlen\u001b[0m\u001b[1;33m(\u001b[0m\u001b[0mtarget\u001b[0m\u001b[1;33m)\u001b[0m\u001b[1;33m)\u001b[0m\u001b[1;33m\u001b[0m\u001b[0m\n\u001b[1;32m---> 32\u001b[1;33m         \u001b[0mmodel\u001b[0m\u001b[1;33m.\u001b[0m\u001b[0mfit\u001b[0m\u001b[1;33m(\u001b[0m\u001b[0msource\u001b[0m\u001b[1;33m,\u001b[0m \u001b[0mtarget\u001b[0m\u001b[1;33m)\u001b[0m\u001b[1;33m\u001b[0m\u001b[0m\n\u001b[0m\u001b[0;32m     33\u001b[0m     \u001b[1;32melse\u001b[0m\u001b[1;33m:\u001b[0m\u001b[1;33m\u001b[0m\u001b[0m\n\u001b[0;32m     34\u001b[0m         \u001b[0mmodel\u001b[0m\u001b[1;33m.\u001b[0m\u001b[0mfit\u001b[0m\u001b[1;33m(\u001b[0m\u001b[0mdataframe\u001b[0m\u001b[1;33m,\u001b[0m \u001b[0mtarget\u001b[0m\u001b[1;33m)\u001b[0m\u001b[1;33m\u001b[0m\u001b[0m\n",
      "\u001b[1;32m/home/anand/anaconda3/envs/analytics/lib/python3.5/site-packages/sklearn/linear_model/base.py\u001b[0m in \u001b[0;36mfit\u001b[1;34m(self, X, y, sample_weight)\u001b[0m\n\u001b[0;32m    510\u001b[0m         \u001b[0mn_jobs_\u001b[0m \u001b[1;33m=\u001b[0m \u001b[0mself\u001b[0m\u001b[1;33m.\u001b[0m\u001b[0mn_jobs\u001b[0m\u001b[1;33m\u001b[0m\u001b[0m\n\u001b[0;32m    511\u001b[0m         X, y = check_X_y(X, y, accept_sparse=['csr', 'csc', 'coo'],\n\u001b[1;32m--> 512\u001b[1;33m                          y_numeric=True, multi_output=True)\n\u001b[0m\u001b[0;32m    513\u001b[0m \u001b[1;33m\u001b[0m\u001b[0m\n\u001b[0;32m    514\u001b[0m         \u001b[1;32mif\u001b[0m \u001b[0msample_weight\u001b[0m \u001b[1;32mis\u001b[0m \u001b[1;32mnot\u001b[0m \u001b[1;32mNone\u001b[0m \u001b[1;32mand\u001b[0m \u001b[0mnp\u001b[0m\u001b[1;33m.\u001b[0m\u001b[0matleast_1d\u001b[0m\u001b[1;33m(\u001b[0m\u001b[0msample_weight\u001b[0m\u001b[1;33m)\u001b[0m\u001b[1;33m.\u001b[0m\u001b[0mndim\u001b[0m \u001b[1;33m>\u001b[0m \u001b[1;36m1\u001b[0m\u001b[1;33m:\u001b[0m\u001b[1;33m\u001b[0m\u001b[0m\n",
      "\u001b[1;32m/home/anand/anaconda3/envs/analytics/lib/python3.5/site-packages/sklearn/utils/validation.py\u001b[0m in \u001b[0;36mcheck_X_y\u001b[1;34m(X, y, accept_sparse, dtype, order, copy, force_all_finite, ensure_2d, allow_nd, multi_output, ensure_min_samples, ensure_min_features, y_numeric, warn_on_dtype, estimator)\u001b[0m\n\u001b[0;32m    519\u001b[0m     X = check_array(X, accept_sparse, dtype, order, copy, force_all_finite,\n\u001b[0;32m    520\u001b[0m                     \u001b[0mensure_2d\u001b[0m\u001b[1;33m,\u001b[0m \u001b[0mallow_nd\u001b[0m\u001b[1;33m,\u001b[0m \u001b[0mensure_min_samples\u001b[0m\u001b[1;33m,\u001b[0m\u001b[1;33m\u001b[0m\u001b[0m\n\u001b[1;32m--> 521\u001b[1;33m                     ensure_min_features, warn_on_dtype, estimator)\n\u001b[0m\u001b[0;32m    522\u001b[0m     \u001b[1;32mif\u001b[0m \u001b[0mmulti_output\u001b[0m\u001b[1;33m:\u001b[0m\u001b[1;33m\u001b[0m\u001b[0m\n\u001b[0;32m    523\u001b[0m         y = check_array(y, 'csr', force_all_finite=True, ensure_2d=False,\n",
      "\u001b[1;32m/home/anand/anaconda3/envs/analytics/lib/python3.5/site-packages/sklearn/utils/validation.py\u001b[0m in \u001b[0;36mcheck_array\u001b[1;34m(array, accept_sparse, dtype, order, copy, force_all_finite, ensure_2d, allow_nd, ensure_min_samples, ensure_min_features, warn_on_dtype, estimator)\u001b[0m\n\u001b[0;32m    405\u001b[0m                              % (array.ndim, estimator_name))\n\u001b[0;32m    406\u001b[0m         \u001b[1;32mif\u001b[0m \u001b[0mforce_all_finite\u001b[0m\u001b[1;33m:\u001b[0m\u001b[1;33m\u001b[0m\u001b[0m\n\u001b[1;32m--> 407\u001b[1;33m             \u001b[0m_assert_all_finite\u001b[0m\u001b[1;33m(\u001b[0m\u001b[0marray\u001b[0m\u001b[1;33m)\u001b[0m\u001b[1;33m\u001b[0m\u001b[0m\n\u001b[0m\u001b[0;32m    408\u001b[0m \u001b[1;33m\u001b[0m\u001b[0m\n\u001b[0;32m    409\u001b[0m     \u001b[0mshape_repr\u001b[0m \u001b[1;33m=\u001b[0m \u001b[0m_shape_repr\u001b[0m\u001b[1;33m(\u001b[0m\u001b[0marray\u001b[0m\u001b[1;33m.\u001b[0m\u001b[0mshape\u001b[0m\u001b[1;33m)\u001b[0m\u001b[1;33m\u001b[0m\u001b[0m\n",
      "\u001b[1;32m/home/anand/anaconda3/envs/analytics/lib/python3.5/site-packages/sklearn/utils/validation.py\u001b[0m in \u001b[0;36m_assert_all_finite\u001b[1;34m(X)\u001b[0m\n\u001b[0;32m     56\u001b[0m             and not np.isfinite(X).all()):\n\u001b[0;32m     57\u001b[0m         raise ValueError(\"Input contains NaN, infinity\"\n\u001b[1;32m---> 58\u001b[1;33m                          \" or a value too large for %r.\" % X.dtype)\n\u001b[0m\u001b[0;32m     59\u001b[0m \u001b[1;33m\u001b[0m\u001b[0m\n\u001b[0;32m     60\u001b[0m \u001b[1;33m\u001b[0m\u001b[0m\n",
      "\u001b[1;31mValueError\u001b[0m: Input contains NaN, infinity or a value too large for dtype('float64')."
     ]
    }
   ],
   "source": [
    "analyze.regression_analyze(irisDf, 'call_duration', 'datetime')"
   ]
  },
  {
   "cell_type": "code",
   "execution_count": null,
   "metadata": {
    "ExecuteTime": {
     "end_time": "2017-02-25T22:46:00.675254",
     "start_time": "2017-02-25T17:15:59.923Z"
    },
    "collapsed": false
   },
   "outputs": [],
   "source": [
    "irisDf.head()"
   ]
  },
  {
   "cell_type": "code",
   "execution_count": null,
   "metadata": {
    "collapsed": true,
    "scrolled": false
   },
   "outputs": [],
   "source": []
  }
 ],
 "metadata": {
  "anaconda-cloud": {},
  "kernelspec": {
   "display_name": "Python 3",
   "language": "python",
   "name": "python3"
  },
  "language_info": {
   "codemirror_mode": {
    "name": "ipython",
    "version": 3
   },
   "file_extension": ".py",
   "mimetype": "text/x-python",
   "name": "python",
   "nbconvert_exporter": "python",
   "pygments_lexer": "ipython3",
   "version": "3.5.2"
  },
  "latex_envs": {
   "bibliofile": "biblio.bib",
   "cite_by": "apalike",
   "current_citInitial": 1,
   "eqLabelWithNumbers": true,
   "eqNumInitial": 0
  }
 },
 "nbformat": 4,
 "nbformat_minor": 0
}
