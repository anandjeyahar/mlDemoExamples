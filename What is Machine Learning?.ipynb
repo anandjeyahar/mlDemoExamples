{
 "cells": [
  {
   "cell_type": "markdown",
   "metadata": {},
   "source": [
    "## What is Machine Learning?"
   ]
  },
  {
   "cell_type": "markdown",
   "metadata": {},
   "source": [
    "# A computer program is said to learn from experience E with respect to some task T and some performance measure P, if its performance on T, as measured by P, improves with experience E.” -- Tom Mitchell, CMU "
   ]
  },
  {
   "cell_type": "markdown",
   "metadata": {},
   "source": [
    "\n",
    "## Defintion:   Machine learning is a set of techniques, which help in dealing with vast data in the most intelligent fashion (by developing algorithms or set of logical rules) to derive actionable insights (delivering search for users in this case)."
   ]
  },
  {
   "cell_type": "code",
   "execution_count": null,
   "metadata": {
    "collapsed": true
   },
   "outputs": [],
   "source": [
    "## That's interesting... but is on the vague side. So time for examples\n",
    "# Let's go to   http://localhost:8888/notebooks/IrisDataExplorer.ipynb#"
   ]
  },
  {
   "cell_type": "code",
   "execution_count": null,
   "metadata": {
    "collapsed": true
   },
   "outputs": [],
   "source": [
    "## "
   ]
  },
  {
   "cell_type": "markdown",
   "metadata": {
    "ExecuteTime": {
     "end_time": "2016-11-28T11:56:14.678358",
     "start_time": "2016-11-28T11:56:14.673514"
    }
   },
   "source": []
  },
  {
   "cell_type": "markdown",
   "metadata": {},
   "source": [
    "## Goal: The goal of ML is never to make “perfect” guesses, because ML deals in domains where there is no such thing. The goal is to make guesses that are good enough to be useful."
   ]
  },
  {
   "cell_type": "markdown",
   "metadata": {},
   "source": [
    "## Steps involved:\n",
    "        There are 5 basic steps used to perform a machine learning task:\n",
    "            1. Collecting data\n",
    "            2. Preparing the data\n",
    "            3. Training a model\n",
    "            4. Evaluating the model\n",
    "            5. Improving the model performance\n"
   ]
  },
  {
   "cell_type": "markdown",
   "metadata": {},
   "source": [
    "\n",
    "## Other Common Jargon words thrown about: Artificial Intelligence, Deep Learning, Data Mining and Statistics.\n",
    "\n",
    "## For kicks, the other jargon that gets thrown around and how they overlap:\n",
    "\n",
    "## X = Data Mining:\n",
    "            Teaching someone how to dance is Machine Learning. And using someone to find best dance centers in the city is Data Mining. \n",
    "            \n",
    "## X = Deep Learning:\n",
    "            Deep Learning is associated with a machine learning algorithm (Artificial Neural Network, ANN) which uses the concept of human brain to facilitate the modeling of arbitrary functions. ANN requires a vast amount of data and this algorithm is highly flexible when it comes to model multiple outputs simultaneously.\n",
    "            \n",
    "## X = Statistics:\n",
    "            Statistics is that branch of mathematics which utilizes data, either of the entire population or a sample drawn from the population to carry out the analysis and present inferences. Some statistical techniques used are regression,variance, standard deviation, conditional probability and many others.\n",
    "            \n",
    "            Additional Information: The main difference between machine learning and statistical models come from the schools where they originated. While machine learning originated from the department of computer science and statistical modelling came down from department of mathematics. Also any statistical modelling assumes a number of distributions while machine learning algorithms are generally agnostic of the distribution of all attributes.\n",
    "            \n",
    "\n",
    "## X = Artificial Intelligence(AI):\n",
    "            It refers to the procedure of programming a computer (machine) to take rational. Machine Learning is a subset of AI where the machine is trained to learn from it’s past experience. The past experience is developed through the data collected. Then it combines with algorithms such as Naïve Bayes, Support Vector Machine(SVM) to deliver the final results.\n",
    "           \n"
   ]
  },
  {
   "cell_type": "markdown",
   "metadata": {},
   "source": [
    "## ML Use cases:\n",
    "## In general:\n",
    "      * - Banking & Financial services: ML can be used to predict the customers who are likely to default  from paying loans or credit card bills. This is of paramount importance as machine learning would help the banks to identify the customers who can be granted loans and credit cards.\n",
    "      * - Healthcare: It is used to diagnose deadly diseases (e.g. cancer) based on the symptoms of patients and tallying them with the past data of similar kind of patients.\n",
    "      * - Retail: It is used to identify products which sell more frequently (fast moving) and the slow moving products which help the retailers to decide what kind of products to introduce or remove from the shelf. Also, machine learning algorithms can be used to find which two / three or more products sell together. \n",
    "      \n",
    "      \n",
    "## In greytip(mostly LBUs will benefit):\n",
    "      * - Automatic configuration of long leave setting to optimize high attendance\n",
    "      * - A employee engagement mechanism(games/venting space???) specifically for disengaged employees(ML will need to find them)\n",
    "      * - \n",
    "     "
   ]
  },
  {
   "cell_type": "markdown",
   "metadata": {},
   "source": [
    "## References: \n",
    "       This jupyter notebook draws inspiration from multiple sources. The most prominent blog posts and resources are found below:\n",
    "           1. https://www.toptal.com/machine-learning/machine-learning-theory-an-introductory-primer\n",
    "           2. https://www.analyticsvidhya.com/blog/2015/06/machine-learning-basics/\n",
    "           3. https://github.com/rasbt/python-machine-learning-book"
   ]
  }
 ],
 "metadata": {
  "kernelspec": {
   "display_name": "Python 3",
   "language": "python",
   "name": "python3"
  },
  "language_info": {
   "codemirror_mode": {
    "name": "ipython",
    "version": 3
   },
   "file_extension": ".py",
   "mimetype": "text/x-python",
   "name": "python",
   "nbconvert_exporter": "python",
   "pygments_lexer": "ipython3",
   "version": "3.5.2"
  }
 },
 "nbformat": 4,
 "nbformat_minor": 0
}
