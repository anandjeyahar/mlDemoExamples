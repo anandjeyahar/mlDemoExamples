{
 "cells": [
  {
   "cell_type": "code",
   "execution_count": 1,
   "metadata": {
    "ExecuteTime": {
     "end_time": "2017-06-29T19:57:22.286833+05:30",
     "start_time": "2017-06-29T19:57:21.130510Z"
    }
   },
   "outputs": [
    {
     "ename": "ModuleNotFoundError",
     "evalue": "No module named 'datascienceutils'",
     "output_type": "error",
     "traceback": [
      "\u001b[0;31m---------------------------------------------------------------------------\u001b[0m",
      "\u001b[0;31mModuleNotFoundError\u001b[0m                       Traceback (most recent call last)",
      "\u001b[0;32m<ipython-input-1-595b04576343>\u001b[0m in \u001b[0;36m<module>\u001b[0;34m()\u001b[0m\n\u001b[1;32m      5\u001b[0m \u001b[0;32mfrom\u001b[0m \u001b[0mbokeh\u001b[0m\u001b[0;34m.\u001b[0m\u001b[0mplotting\u001b[0m \u001b[0;32mimport\u001b[0m \u001b[0moutput_notebook\u001b[0m\u001b[0;34m\u001b[0m\u001b[0m\n\u001b[1;32m      6\u001b[0m \u001b[0;34m\u001b[0m\u001b[0m\n\u001b[0;32m----> 7\u001b[0;31m \u001b[0;32mfrom\u001b[0m \u001b[0mdatascienceutils\u001b[0m \u001b[0;32mimport\u001b[0m \u001b[0manalyze\u001b[0m\u001b[0;34m\u001b[0m\u001b[0m\n\u001b[0m\u001b[1;32m      8\u001b[0m \u001b[0;32mfrom\u001b[0m \u001b[0mdatascienceutils\u001b[0m \u001b[0;32mimport\u001b[0m \u001b[0mpredictiveModels\u001b[0m \u001b[0;32mas\u001b[0m \u001b[0mpm\u001b[0m\u001b[0;34m\u001b[0m\u001b[0m\n\u001b[1;32m      9\u001b[0m \u001b[0;34m\u001b[0m\u001b[0m\n",
      "\u001b[0;31mModuleNotFoundError\u001b[0m: No module named 'datascienceutils'"
     ]
    }
   ],
   "source": [
    "from sklearn import datasets\n",
    "import numpy as np\n",
    "import pandas as pd\n",
    "import bokeh\n",
    "from bokeh.plotting import output_notebook\n",
    "\n",
    "from datascienceutils import analyze\n",
    "from datascienceutils import predictiveModels as pm\n",
    "\n",
    "output_notebook(bokeh.resources.INLINE)\n",
    "# Load the diabetes dataset\n",
    "diabetes = datasets.load_diabetes()\n",
    "# Use only one feature\n",
    "diabetes_X = diabetes.data[:, np.newaxis, 2]\n",
    "\n",
    "# Split the data into training/testing sets\n",
    "diabetes_X_train = diabetes_X[:-20]\n",
    "diabetes_X_test = diabetes_X[-20:]\n",
    "\n",
    "# Split the targets into training/testing sets\n",
    "diabetes_y_train = diabetes.target[:-20]\n",
    "diabetes_y_test = diabetes.target[-20:]\n"
   ]
  },
  {
   "cell_type": "code",
   "execution_count": null,
   "metadata": {
    "ExecuteTime": {
     "end_time": "2017-06-29T19:57:22.287840+05:30",
     "start_time": "2017-06-29T14:27:21.131Z"
    }
   },
   "outputs": [],
   "source": [
    "df = pd.DataFrame(diabetes.data)\n",
    "target = diabetes.target\n",
    "analyze.correlation_analyze(df)"
   ]
  },
  {
   "cell_type": "code",
   "execution_count": null,
   "metadata": {
    "ExecuteTime": {
     "end_time": "2017-06-29T19:57:22.288466+05:30",
     "start_time": "2017-06-29T14:27:21.133Z"
    }
   },
   "outputs": [],
   "source": [
    "\n",
    "# Train the model using the training sets\n",
    "lin_model = pm.train(diabetes_X_train, diabetes_y_train, 'LinearRegression')\n",
    "\n",
    "print('Coefficients: \\n', lin_model.coef_)\n",
    "# The mean squared error\n",
    "print(\"Mean squared error: %.2f\"\n",
    "      % np.mean((lin_model.predict(diabetes_X_test) - diabetes_y_test) ** 2))\n",
    "# Explained variance score: 1 is perfect prediction\n",
    "print('Variance score: %.2f' % lin_model.score(diabetes_X_test, diabetes_y_test))\n"
   ]
  },
  {
   "cell_type": "code",
   "execution_count": null,
   "metadata": {
    "ExecuteTime": {
     "end_time": "2017-06-29T19:57:22.289251+05:30",
     "start_time": "2017-06-29T14:27:21.136Z"
    }
   },
   "outputs": [],
   "source": [
    "# Train the model using the training sets\n",
    "lin_model = pm.train(diabetes_X_train, diabetes_y_train, 'RidgeRegression')\n",
    "\n",
    "print('Coefficients: \\n', lin_model.coef_)\n",
    "# The mean squared error\n",
    "print(\"Mean squared error: %.2f\"\n",
    "      % np.mean((lin_model.predict(diabetes_X_test) - diabetes_y_test) ** 2))\n",
    "# Explained variance score: 1 is perfect prediction\n",
    "print('Variance score: %.2f' % lin_model.score(diabetes_X_test, diabetes_y_test))"
   ]
  },
  {
   "cell_type": "code",
   "execution_count": null,
   "metadata": {
    "ExecuteTime": {
     "end_time": "2017-06-29T19:57:22.289860+05:30",
     "start_time": "2017-06-29T14:27:21.138Z"
    }
   },
   "outputs": [],
   "source": [
    "# Train the model using the training sets\n",
    "lin_model = pm.train(diabetes_X_train, diabetes_y_train, 'RidgeRegressionCV')\n",
    "\n",
    "print('Coefficients: \\n', lin_model.coef_)\n",
    "# The mean squared error\n",
    "print(\"Mean squared error: %.2f\"\n",
    "      % np.mean((lin_model.predict(diabetes_X_test) - diabetes_y_test) ** 2))\n",
    "# Explained variance score: 1 is perfect prediction\n",
    "print('Variance score: %.2f' % lin_model.score(diabetes_X_test, diabetes_y_test))"
   ]
  },
  {
   "cell_type": "code",
   "execution_count": null,
   "metadata": {
    "ExecuteTime": {
     "end_time": "2017-06-29T19:57:22.290450+05:30",
     "start_time": "2017-06-29T14:27:21.140Z"
    }
   },
   "outputs": [],
   "source": [
    "# Train the model using the training sets\n",
    "lin_model = pm.train(diabetes_X_train, diabetes_y_train, 'LassoRegression')\n",
    "\n",
    "print('Coefficients: \\n', lin_model.coef_)\n",
    "# The mean squared error\n",
    "print(\"Mean squared error: %.2f\"\n",
    "      % np.mean((lin_model.predict(diabetes_X_test) - diabetes_y_test) ** 2))\n",
    "# Explained variance score: 1 is perfect prediction\n",
    "print('Variance score: %.2f' % lin_model.score(diabetes_X_test, diabetes_y_test))"
   ]
  },
  {
   "cell_type": "code",
   "execution_count": null,
   "metadata": {
    "ExecuteTime": {
     "end_time": "2017-06-29T19:57:22.290960+05:30",
     "start_time": "2017-06-29T14:27:21.142Z"
    }
   },
   "outputs": [],
   "source": [
    "# Train the model using the training sets\n",
    "lin_model = pm.train(diabetes_X_train, diabetes_y_train, 'ElasticNetRegression')\n",
    "\n",
    "print('Coefficients: \\n', lin_model.coef_)\n",
    "# The mean squared error\n",
    "print(\"Mean squared error: %.2f\"\n",
    "      % np.mean((lin_model.predict(diabetes_X_test) - diabetes_y_test) ** 2))\n",
    "# Explained variance score: 1 is perfect prediction\n",
    "print('Variance score: %.2f' % lin_model.score(diabetes_X_test, diabetes_y_test))"
   ]
  },
  {
   "cell_type": "code",
   "execution_count": null,
   "metadata": {
    "ExecuteTime": {
     "end_time": "2017-06-29T19:57:22.291456+05:30",
     "start_time": "2017-06-29T14:27:21.144Z"
    }
   },
   "outputs": [],
   "source": [
    "# Train the model using the training sets\n",
    "ransac_model = pm.train(diabetes_X_train, diabetes_y_train, 'RANSACRegression')\n",
    "\n",
    "print('Coefficients: \\n', ransac_model.estimator_.coef_)\n",
    "# The mean squared error\n",
    "print(\"Mean squared error: %.2f\"\n",
    "      % np.mean((ransac_model.predict(diabetes_X_test) - diabetes_y_test) ** 2))\n",
    "# Explained variance score: 1 is perfect prediction\n",
    "print('Variance score: %.2f' % ransac_model.score(diabetes_X_test, diabetes_y_test))"
   ]
  },
  {
   "cell_type": "code",
   "execution_count": null,
   "metadata": {
    "ExecuteTime": {
     "end_time": "2017-06-29T19:57:22.292024+05:30",
     "start_time": "2017-06-29T14:27:21.145Z"
    }
   },
   "outputs": [],
   "source": [
    "# Train the model using the training sets\n",
    "log_model = pm.train(diabetes_X_train, diabetes_y_train, 'LogisticRegression')\n",
    "\n",
    "#print('Coefficients: \\n', log_model.coef_)\n",
    "# The mean squared error\n",
    "print(\"Mean squared error: %.2f\"\n",
    "      % np.mean((log_model.predict(diabetes_X_test) - diabetes_y_test) ** 2))\n",
    "# Explained variance score: 1 is perfect prediction\n",
    "print('Variance score: %.2f' % log_model.score(diabetes_X_test, diabetes_y_test))"
   ]
  },
  {
   "cell_type": "code",
   "execution_count": null,
   "metadata": {
    "ExecuteTime": {
     "end_time": "2017-06-29T19:57:22.292593+05:30",
     "start_time": "2017-06-29T14:27:21.147Z"
    }
   },
   "outputs": [],
   "source": [
    "# Train the model using the training sets\n",
    "rf_model = pm.train(diabetes_X_train, diabetes_y_train, 'randomForest')\n",
    "\n",
    "#print('Coefficients: \\n', rf_model.coef_)\n",
    "# The mean squared error\n",
    "print(\"Mean squared error: %.2f\"\n",
    "      % np.mean((rf_model.predict(diabetes_X_test) - diabetes_y_test) ** 2))\n",
    "# Explained variance score: 1 is perfect prediction\n",
    "print('Variance score: %.2f' % rf_model.score(diabetes_X_test, diabetes_y_test))"
   ]
  },
  {
   "cell_type": "code",
   "execution_count": null,
   "metadata": {
    "ExecuteTime": {
     "end_time": "2017-06-29T19:57:22.293255+05:30",
     "start_time": "2017-06-29T14:27:21.149Z"
    }
   },
   "outputs": [],
   "source": [
    "# Train the model using the training sets\n",
    "sgd_model = pm.train(diabetes_X_train, diabetes_y_train, 'sgd')\n",
    "sgd_model.fit(diabetes_X_train, diabetes_y_train)\n",
    "# The mean squared error\n",
    "print(\"Mean squared error: %.2f\"\n",
    "      % np.mean((sgd_model.predict(diabetes_X_test) - diabetes_y_test) ** 2))\n",
    "# Explained variance score: 1 is perfect prediction\n",
    "print('Variance score: %.2f' % sgd_model.score(diabetes_X_test, diabetes_y_test))"
   ]
  },
  {
   "cell_type": "code",
   "execution_count": null,
   "metadata": {
    "ExecuteTime": {
     "end_time": "2017-06-29T19:57:22.293887+05:30",
     "start_time": "2017-06-29T14:27:21.151Z"
    }
   },
   "outputs": [],
   "source": [
    "# Train the model using the training sets\n",
    "xgb_model = pm.train(diabetes_X_train, diabetes_y_train, 'xgboost')\n",
    "xgb_model.fit(diabetes_X_train, diabetes_y_train)\n",
    "# The mean squared error\n",
    "print(\"Mean squared error: %.2f\"\n",
    "      % np.mean((xgb_model.predict(diabetes_X_test) - diabetes_y_test) ** 2))\n",
    "# Explained variance score: 1 is perfect prediction\n",
    "print('Variance score: %.2f' % xgb_model.score(diabetes_X_test, diabetes_y_test))"
   ]
  },
  {
   "cell_type": "code",
   "execution_count": null,
   "metadata": {
    "ExecuteTime": {
     "end_time": "2017-06-29T19:57:22.294467+05:30",
     "start_time": "2017-06-29T14:27:21.153Z"
    }
   },
   "outputs": [],
   "source": [
    "# Train the model using the training sets\n",
    "svm_model = pm.train(diabetes_X_train, diabetes_y_train, 'svm')\n",
    "svm_model.fit(diabetes_X_train, diabetes_y_train)\n",
    "# The mean squared error\n",
    "print(\"Mean squared error: %.2f\"\n",
    "      % np.mean((svm_model.predict(diabetes_X_test) - diabetes_y_test) ** 2))\n",
    "# Explained variance score: 1 is perfect prediction\n",
    "print('Variance score: %.2f' % svm_model.score(diabetes_X_test, diabetes_y_test))"
   ]
  },
  {
   "cell_type": "code",
   "execution_count": null,
   "metadata": {
    "ExecuteTime": {
     "end_time": "2017-06-29T19:57:22.295016+05:30",
     "start_time": "2017-06-29T14:27:21.155Z"
    }
   },
   "outputs": [],
   "source": [
    "# Train the model using the training sets\n",
    "bnb_model = pm.train(diabetes_X_train, diabetes_y_train, 'bernoulliNB')\n",
    "bnb_model.fit(diabetes_X_train, diabetes_y_train)\n",
    "# The mean squared error\n",
    "print(\"Mean squared error: %.2f\"\n",
    "      % np.mean((bnb_model.predict(diabetes_X_test) - diabetes_y_test) ** 2))\n",
    "# Explained variance score: 1 is perfect prediction\n",
    "print('Variance score: %.2f' % bnb_model.score(diabetes_X_test, diabetes_y_test))"
   ]
  },
  {
   "cell_type": "code",
   "execution_count": null,
   "metadata": {
    "ExecuteTime": {
     "end_time": "2017-06-29T19:57:22.295550+05:30",
     "start_time": "2017-06-29T14:27:21.157Z"
    }
   },
   "outputs": [],
   "source": [
    "# Train the model using the training sets\n",
    "knn_model = pm.train(diabetes_X_train, diabetes_y_train, 'knn')\n",
    "knn_model.fit(diabetes_X_train, diabetes_y_train)\n",
    "# The mean squared error\n",
    "print(\"Mean squared error: %.2f\"\n",
    "      % np.mean((knn_model.predict(diabetes_X_test) - diabetes_y_test) ** 2))\n",
    "# Explained variance score: 1 is perfect prediction\n",
    "print('Variance score: %.2f' % knn_model.score(diabetes_X_test, diabetes_y_test))"
   ]
  },
  {
   "cell_type": "code",
   "execution_count": null,
   "metadata": {
    "ExecuteTime": {
     "end_time": "2017-06-29T19:57:22.296089+05:30",
     "start_time": "2017-06-29T14:27:21.159Z"
    }
   },
   "outputs": [],
   "source": [
    "# Train the model using the training sets\n",
    "mnb_model = pm.train(diabetes_X_train, diabetes_y_train, 'multinomialNB')\n",
    "\n",
    "print('Coefficients: \\n', mnb_model.coef_)\n",
    "# The mean squared error\n",
    "print(\"Mean squared error: %.2f\"\n",
    "      % np.mean((mnb_model.predict(diabetes_X_test) - diabetes_y_test) ** 2))\n",
    "# Explained variance score: 1 is perfect prediction\n",
    "print('Variance score: %.2f' % mnb_model.score(diabetes_X_test, diabetes_y_test))"
   ]
  },
  {
   "cell_type": "code",
   "execution_count": null,
   "metadata": {
    "ExecuteTime": {
     "end_time": "2017-06-29T19:57:22.296660+05:30",
     "start_time": "2017-06-29T14:27:21.162Z"
    }
   },
   "outputs": [],
   "source": [
    "# Train the model using the training sets\n",
    "kde_model = pm.train(diabetes_X_train, diabetes_y_train, 'kde')\n",
    "kde_model.fit(diabetes_X_train, diabetes_y_train)\n",
    "# The mean squared error\n",
    "print(\"Mean squared error: %.2f\"\n",
    "      % np.mean((kde_model.predict(diabetes_X_test) - diabetes_y_test) ** 2))\n",
    "# Explained variance score: 1 is perfect prediction\n",
    "print('Variance score: %.2f' % kde_model.score(diabetes_X_test, diabetes_y_test))"
   ]
  },
  {
   "cell_type": "markdown",
   "metadata": {},
   "source": [
    "## Linear Regression was top with MSE: 2548.07\n",
    "## But we know this is a linear regression data set in the first place\n",
    "## Not to mention, I hadn't yet tried out other regression models at that time\n",
    "## Now..though RANSAC Regression leads them all with MSE: 2250..\n",
    "\n",
    "## Interestingly enough Linear regression still edges out the others like Ridge and Lasso by a small margin to take the 2nd place. \n",
    "## There's some evidence Cross-validation could improve performance, but not sure how much, though I'm sure if we did do some parameter tuning or grid_search then the other regressions would improve performance.\n",
    "\n",
    "## Of the non-linear  models\n",
    "## Clearly xgboost takes the cake with MSE: 4906 runs in 5.94s\n",
    "## Followed by knn MSE: 5640.65\n",
    "\n",
    "\n",
    "## I heard about [lightgbm](https://github.com/ArdalanM/pyLightGBM)  and wanted to try it. \n",
    "## So check it out MSE: 5066.17 and runs in 194ms\n",
    "\n",
    "## Wow that's multiple orders of magnitude faster and only about 10% more error.. May be lightgbm will work very well for linear patterns. Need to check for other patterns and if it keeps similar trade-offs, then it'll change the market"
   ]
  }
 ],
 "metadata": {
  "kernelspec": {
   "display_name": "Python 3",
   "language": "python",
   "name": "python3"
  },
  "language_info": {
   "codemirror_mode": {
    "name": "ipython",
    "version": 3
   },
   "file_extension": ".py",
   "mimetype": "text/x-python",
   "name": "python",
   "nbconvert_exporter": "python",
   "pygments_lexer": "ipython3",
   "version": "3.6.0"
  }
 },
 "nbformat": 4,
 "nbformat_minor": 1
}
